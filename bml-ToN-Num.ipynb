{
 "cells": [
  {
   "cell_type": "code",
   "execution_count": 1,
   "metadata": {},
   "outputs": [
    {
     "data": {
      "text/plain": [
       "(16940496, 45)"
      ]
     },
     "execution_count": 1,
     "metadata": {},
     "output_type": "execute_result"
    }
   ],
   "source": [
    "import pandas as pd\n",
    "import warnings\n",
    "warnings.filterwarnings('ignore')\n",
    "\n",
    "ton_iot = pd.read_csv('NF-ToN-IoT-v2.csv')\n",
    "ton_iot_copy = ton_iot.copy()\n",
    "ton_iot_copy.shape"
   ]
  },
  {
   "cell_type": "code",
   "execution_count": 2,
   "metadata": {},
   "outputs": [
    {
     "data": {
      "text/plain": [
       "(16940496, 45)"
      ]
     },
     "execution_count": 2,
     "metadata": {},
     "output_type": "execute_result"
    }
   ],
   "source": [
    "ton_iot_copy.shape"
   ]
  },
  {
   "cell_type": "markdown",
   "metadata": {},
   "source": [
    "## Correlation"
   ]
  },
  {
   "cell_type": "code",
   "execution_count": null,
   "metadata": {},
   "outputs": [],
   "source": [
    "categorical_feature = ['L4_SRC_PORT','L4_DST_PORT','IPV4_SRC_ADDR',\n",
    "                       'IPV4_DST_ADDR','PROTOCOL','L7_PROTO','DNS_QUERY_TYPE','ICMP_TYPE'\n",
    "                        ,'ICMP_IPV4_TYPE','DNS_TTL_ANSWER']\n",
    "\n",
    "not_used = ['DNS_QUERY_ID','FTP_COMMAND_RET_CODE']\n",
    "\n",
    "tagets = ['Attack','Label']\n",
    "\n",
    "to_drop = categorical_feature+not_used+tagets\n",
    "\n",
    "X_corr_vif = ton_iot.drop(columns=to_drop)"
   ]
  },
  {
   "cell_type": "code",
   "execution_count": null,
   "metadata": {},
   "outputs": [
    {
     "data": {
      "text/html": [
       "<style type=\"text/css\">\n",
       "#T_18e98_row0_col0, #T_18e98_row1_col1, #T_18e98_row2_col2, #T_18e98_row3_col3, #T_18e98_row4_col4, #T_18e98_row5_col5, #T_18e98_row6_col6, #T_18e98_row7_col7, #T_18e98_row8_col8, #T_18e98_row9_col9, #T_18e98_row10_col10, #T_18e98_row10_col11, #T_18e98_row11_col10, #T_18e98_row11_col11, #T_18e98_row12_col12, #T_18e98_row12_col15, #T_18e98_row13_col13, #T_18e98_row14_col14, #T_18e98_row15_col12, #T_18e98_row15_col15, #T_18e98_row18_col18, #T_18e98_row19_col19, #T_18e98_row20_col20, #T_18e98_row21_col21, #T_18e98_row22_col22, #T_18e98_row23_col23, #T_18e98_row24_col24, #T_18e98_row25_col25, #T_18e98_row26_col26, #T_18e98_row27_col27, #T_18e98_row28_col28, #T_18e98_row29_col29, #T_18e98_row30_col30 {\n",
       "  background-color: #b40426;\n",
       "  color: #f1f1f1;\n",
       "}\n",
       "#T_18e98_row0_col1, #T_18e98_row1_col0, #T_18e98_row23_col12, #T_18e98_row23_col15 {\n",
       "  background-color: #b2ccfb;\n",
       "  color: #000000;\n",
       "}\n",
       "#T_18e98_row0_col2, #T_18e98_row0_col19, #T_18e98_row0_col29, #T_18e98_row1_col8, #T_18e98_row1_col29, #T_18e98_row2_col0, #T_18e98_row12_col27, #T_18e98_row15_col27, #T_18e98_row17_col29, #T_18e98_row19_col0, #T_18e98_row19_col8, #T_18e98_row20_col27, #T_18e98_row23_col25, #T_18e98_row24_col0, #T_18e98_row24_col7, #T_18e98_row24_col14, #T_18e98_row25_col29, #T_18e98_row27_col20, #T_18e98_row30_col21 {\n",
       "  background-color: #455cce;\n",
       "  color: #f1f1f1;\n",
       "}\n",
       "#T_18e98_row0_col3 {\n",
       "  background-color: #6c8ff1;\n",
       "  color: #f1f1f1;\n",
       "}\n",
       "#T_18e98_row0_col4, #T_18e98_row1_col4, #T_18e98_row14_col9, #T_18e98_row18_col13, #T_18e98_row19_col13, #T_18e98_row21_col13, #T_18e98_row22_col1, #T_18e98_row25_col4 {\n",
       "  background-color: #7295f4;\n",
       "  color: #f1f1f1;\n",
       "}\n",
       "#T_18e98_row0_col5, #T_18e98_row0_col24, #T_18e98_row1_col5, #T_18e98_row9_col3, #T_18e98_row9_col21, #T_18e98_row21_col27, #T_18e98_row22_col26, #T_18e98_row24_col20, #T_18e98_row24_col21, #T_18e98_row27_col21 {\n",
       "  background-color: #4e68d8;\n",
       "  color: #f1f1f1;\n",
       "}\n",
       "#T_18e98_row0_col6, #T_18e98_row25_col6, #T_18e98_row27_col22, #T_18e98_row28_col6, #T_18e98_row29_col13 {\n",
       "  background-color: #6687ed;\n",
       "  color: #f1f1f1;\n",
       "}\n",
       "#T_18e98_row0_col7, #T_18e98_row2_col12, #T_18e98_row2_col15, #T_18e98_row4_col21, #T_18e98_row9_col22, #T_18e98_row11_col21, #T_18e98_row18_col23, #T_18e98_row20_col29, #T_18e98_row21_col11, #T_18e98_row22_col25, #T_18e98_row24_col30, #T_18e98_row25_col7, #T_18e98_row26_col12, #T_18e98_row26_col15, #T_18e98_row28_col7, #T_18e98_row29_col21 {\n",
       "  background-color: #4a63d3;\n",
       "  color: #f1f1f1;\n",
       "}\n",
       "#T_18e98_row0_col8, #T_18e98_row0_col9, #T_18e98_row1_col11, #T_18e98_row5_col2, #T_18e98_row5_col20, #T_18e98_row7_col19, #T_18e98_row8_col18, #T_18e98_row8_col25, #T_18e98_row9_col19, #T_18e98_row12_col3, #T_18e98_row12_col19, #T_18e98_row13_col12, #T_18e98_row13_col15, #T_18e98_row15_col3, #T_18e98_row15_col19, #T_18e98_row18_col12, #T_18e98_row18_col15, #T_18e98_row19_col28, #T_18e98_row21_col25, #T_18e98_row24_col26, #T_18e98_row25_col14, #T_18e98_row25_col21, #T_18e98_row28_col19, #T_18e98_row29_col26, #T_18e98_row30_col26 {\n",
       "  background-color: #4055c8;\n",
       "  color: #f1f1f1;\n",
       "}\n",
       "#T_18e98_row0_col10, #T_18e98_row0_col11, #T_18e98_row2_col14, #T_18e98_row4_col0, #T_18e98_row4_col1, #T_18e98_row4_col25, #T_18e98_row5_col0, #T_18e98_row5_col1, #T_18e98_row5_col24, #T_18e98_row6_col1, #T_18e98_row6_col24, #T_18e98_row6_col25, #T_18e98_row6_col28, #T_18e98_row7_col0, #T_18e98_row7_col25, #T_18e98_row7_col28, #T_18e98_row8_col28, #T_18e98_row9_col28, #T_18e98_row10_col0, #T_18e98_row10_col28, #T_18e98_row11_col0, #T_18e98_row11_col28, #T_18e98_row13_col9, #T_18e98_row13_col18, #T_18e98_row13_col19, #T_18e98_row13_col26, #T_18e98_row14_col2, #T_18e98_row14_col19, #T_18e98_row14_col27, #T_18e98_row18_col14, #T_18e98_row18_col21, #T_18e98_row18_col25, #T_18e98_row19_col20, #T_18e98_row20_col19, #T_18e98_row21_col18, #T_18e98_row23_col7, #T_18e98_row23_col19, #T_18e98_row25_col18, #T_18e98_row28_col10, #T_18e98_row28_col11, #T_18e98_row28_col14, #T_18e98_row29_col18, #T_18e98_row29_col28, #T_18e98_row30_col1, #T_18e98_row30_col18, #T_18e98_row30_col28 {\n",
       "  background-color: #3c4ec2;\n",
       "  color: #f1f1f1;\n",
       "}\n",
       "#T_18e98_row0_col12, #T_18e98_row0_col15, #T_18e98_row1_col18, #T_18e98_row2_col8, #T_18e98_row2_col9, #T_18e98_row4_col26, #T_18e98_row6_col26, #T_18e98_row7_col20, #T_18e98_row8_col1, #T_18e98_row8_col19, #T_18e98_row9_col1, #T_18e98_row10_col26, #T_18e98_row11_col1, #T_18e98_row11_col26, #T_18e98_row20_col8, #T_18e98_row22_col2, #T_18e98_row22_col19, #T_18e98_row26_col10, #T_18e98_row26_col11, #T_18e98_row28_col12, #T_18e98_row28_col15 {\n",
       "  background-color: #4257c9;\n",
       "  color: #f1f1f1;\n",
       "}\n",
       "#T_18e98_row0_col13, #T_18e98_row1_col13, #T_18e98_row2_col13, #T_18e98_row3_col13, #T_18e98_row7_col13, #T_18e98_row8_col13, #T_18e98_row16_col4, #T_18e98_row16_col13, #T_18e98_row17_col4, #T_18e98_row17_col13, #T_18e98_row20_col13, #T_18e98_row22_col0, #T_18e98_row23_col13, #T_18e98_row27_col13, #T_18e98_row28_col13 {\n",
       "  background-color: #7093f3;\n",
       "  color: #f1f1f1;\n",
       "}\n",
       "#T_18e98_row0_col14, #T_18e98_row0_col16, #T_18e98_row0_col17, #T_18e98_row1_col14, #T_18e98_row1_col16, #T_18e98_row1_col17, #T_18e98_row2_col16, #T_18e98_row2_col17, #T_18e98_row3_col16, #T_18e98_row3_col17, #T_18e98_row4_col13, #T_18e98_row4_col16, #T_18e98_row4_col17, #T_18e98_row4_col24, #T_18e98_row5_col16, #T_18e98_row5_col17, #T_18e98_row6_col0, #T_18e98_row6_col16, #T_18e98_row6_col17, #T_18e98_row7_col16, #T_18e98_row7_col17, #T_18e98_row7_col22, #T_18e98_row7_col23, #T_18e98_row8_col16, #T_18e98_row8_col17, #T_18e98_row9_col16, #T_18e98_row9_col17, #T_18e98_row10_col16, #T_18e98_row10_col17, #T_18e98_row11_col16, #T_18e98_row11_col17, #T_18e98_row12_col16, #T_18e98_row12_col17, #T_18e98_row13_col0, #T_18e98_row13_col1, #T_18e98_row13_col2, #T_18e98_row13_col3, #T_18e98_row13_col4, #T_18e98_row13_col5, #T_18e98_row13_col6, #T_18e98_row13_col16, #T_18e98_row13_col17, #T_18e98_row13_col20, #T_18e98_row13_col21, #T_18e98_row13_col27, #T_18e98_row13_col28, #T_18e98_row13_col29, #T_18e98_row13_col30, #T_18e98_row14_col0, #T_18e98_row14_col1, #T_18e98_row14_col16, #T_18e98_row14_col17, #T_18e98_row14_col18, #T_18e98_row14_col28, #T_18e98_row15_col16, #T_18e98_row15_col17, #T_18e98_row16_col1, #T_18e98_row16_col2, #T_18e98_row16_col3, #T_18e98_row16_col10, #T_18e98_row16_col11, #T_18e98_row16_col14, #T_18e98_row16_col16, #T_18e98_row16_col17, #T_18e98_row16_col18, #T_18e98_row16_col19, #T_18e98_row16_col20, #T_18e98_row16_col21, #T_18e98_row16_col25, #T_18e98_row16_col26, #T_18e98_row16_col27, #T_18e98_row16_col28, #T_18e98_row17_col0, #T_18e98_row17_col1, #T_18e98_row17_col2, #T_18e98_row17_col3, #T_18e98_row17_col10, #T_18e98_row17_col11, #T_18e98_row17_col14, #T_18e98_row17_col16, #T_18e98_row17_col17, #T_18e98_row17_col18, #T_18e98_row17_col19, #T_18e98_row17_col20, #T_18e98_row17_col21, #T_18e98_row17_col25, #T_18e98_row17_col26, #T_18e98_row17_col27, #T_18e98_row17_col28, #T_18e98_row18_col16, #T_18e98_row18_col17, #T_18e98_row18_col20, #T_18e98_row19_col16, #T_18e98_row19_col17, #T_18e98_row20_col16, #T_18e98_row20_col17, #T_18e98_row20_col18, #T_18e98_row20_col25, #T_18e98_row21_col16, #T_18e98_row21_col17, #T_18e98_row22_col7, #T_18e98_row22_col16, #T_18e98_row22_col17, #T_18e98_row23_col8, #T_18e98_row23_col9, #T_18e98_row23_col16, #T_18e98_row23_col17, #T_18e98_row24_col12, #T_18e98_row24_col15, #T_18e98_row24_col16, #T_18e98_row24_col17, #T_18e98_row25_col16, #T_18e98_row25_col17, #T_18e98_row25_col20, #T_18e98_row26_col16, #T_18e98_row26_col17, #T_18e98_row27_col16, #T_18e98_row27_col17, #T_18e98_row28_col16, #T_18e98_row28_col17, #T_18e98_row29_col0, #T_18e98_row29_col1, #T_18e98_row29_col16, #T_18e98_row29_col17, #T_18e98_row29_col25, #T_18e98_row30_col0, #T_18e98_row30_col16, #T_18e98_row30_col17, #T_18e98_row30_col25 {\n",
       "  background-color: #3b4cc0;\n",
       "  color: #f1f1f1;\n",
       "}\n",
       "#T_18e98_row0_col18, #T_18e98_row1_col7, #T_18e98_row1_col25, #T_18e98_row2_col24, #T_18e98_row3_col7, #T_18e98_row3_col8, #T_18e98_row5_col21, #T_18e98_row14_col24, #T_18e98_row16_col5, #T_18e98_row17_col5, #T_18e98_row18_col0, #T_18e98_row18_col7, #T_18e98_row21_col8, #T_18e98_row21_col26, #T_18e98_row22_col3, #T_18e98_row25_col1, #T_18e98_row25_col9, #T_18e98_row26_col21 {\n",
       "  background-color: #4c66d6;\n",
       "  color: #f1f1f1;\n",
       "}\n",
       "#T_18e98_row0_col20, #T_18e98_row0_col21, #T_18e98_row2_col30, #T_18e98_row3_col5, #T_18e98_row3_col30, #T_18e98_row19_col5, #T_18e98_row20_col0, #T_18e98_row21_col0, #T_18e98_row22_col14, #T_18e98_row27_col5, #T_18e98_row27_col30 {\n",
       "  background-color: #516ddb;\n",
       "  color: #f1f1f1;\n",
       "}\n",
       "#T_18e98_row0_col22, #T_18e98_row1_col22, #T_18e98_row6_col22, #T_18e98_row19_col26, #T_18e98_row23_col10, #T_18e98_row23_col11, #T_18e98_row26_col19, #T_18e98_row28_col1 {\n",
       "  background-color: #7ea1fa;\n",
       "  color: #f1f1f1;\n",
       "}\n",
       "#T_18e98_row0_col23, #T_18e98_row0_col25, #T_18e98_row2_col29, #T_18e98_row8_col3, #T_18e98_row8_col21, #T_18e98_row9_col25, #T_18e98_row10_col21, #T_18e98_row13_col7, #T_18e98_row13_col24, #T_18e98_row17_col7, #T_18e98_row17_col22, #T_18e98_row18_col27, #T_18e98_row19_col23, #T_18e98_row19_col29, #T_18e98_row21_col10, #T_18e98_row22_col20, #T_18e98_row22_col21, #T_18e98_row23_col27, #T_18e98_row25_col0, #T_18e98_row26_col24, #T_18e98_row27_col18 {\n",
       "  background-color: #4961d2;\n",
       "  color: #f1f1f1;\n",
       "}\n",
       "#T_18e98_row0_col26, #T_18e98_row9_col13, #T_18e98_row9_col14, #T_18e98_row21_col28, #T_18e98_row26_col0, #T_18e98_row28_col21, #T_18e98_row30_col22 {\n",
       "  background-color: #6f92f3;\n",
       "  color: #f1f1f1;\n",
       "}\n",
       "#T_18e98_row0_col27, #T_18e98_row23_col5, #T_18e98_row27_col0 {\n",
       "  background-color: #92b4fe;\n",
       "  color: #000000;\n",
       "}\n",
       "#T_18e98_row0_col28, #T_18e98_row28_col0, #T_18e98_row30_col29 {\n",
       "  background-color: #ef886b;\n",
       "  color: #f1f1f1;\n",
       "}\n",
       "#T_18e98_row0_col30, #T_18e98_row1_col23, #T_18e98_row1_col30, #T_18e98_row2_col22, #T_18e98_row13_col22, #T_18e98_row17_col30, #T_18e98_row19_col7, #T_18e98_row19_col22, #T_18e98_row23_col24, #T_18e98_row25_col5, #T_18e98_row25_col30, #T_18e98_row26_col8 {\n",
       "  background-color: #4f69d9;\n",
       "  color: #f1f1f1;\n",
       "}\n",
       "#T_18e98_row1_col2, #T_18e98_row2_col1, #T_18e98_row21_col23, #T_18e98_row27_col28, #T_18e98_row28_col27 {\n",
       "  background-color: #6180e9;\n",
       "  color: #f1f1f1;\n",
       "}\n",
       "#T_18e98_row1_col3, #T_18e98_row1_col27, #T_18e98_row2_col6, #T_18e98_row3_col1, #T_18e98_row3_col6, #T_18e98_row19_col6, #T_18e98_row24_col4, #T_18e98_row27_col6, #T_18e98_row28_col22, #T_18e98_row28_col23 {\n",
       "  background-color: #688aef;\n",
       "  color: #f1f1f1;\n",
       "}\n",
       "#T_18e98_row1_col6, #T_18e98_row3_col21, #T_18e98_row16_col6, #T_18e98_row17_col6, #T_18e98_row20_col23, #T_18e98_row21_col3 {\n",
       "  background-color: #6485ec;\n",
       "  color: #f1f1f1;\n",
       "}\n",
       "#T_18e98_row1_col9, #T_18e98_row18_col8, #T_18e98_row19_col9, #T_18e98_row21_col14, #T_18e98_row23_col1, #T_18e98_row24_col2, #T_18e98_row25_col8 {\n",
       "  background-color: #445acc;\n",
       "  color: #f1f1f1;\n",
       "}\n",
       "#T_18e98_row1_col10, #T_18e98_row1_col12, #T_18e98_row1_col15, #T_18e98_row3_col10, #T_18e98_row3_col11, #T_18e98_row4_col2, #T_18e98_row4_col3, #T_18e98_row4_col20, #T_18e98_row5_col3, #T_18e98_row5_col19, #T_18e98_row5_col27, #T_18e98_row6_col20, #T_18e98_row7_col24, #T_18e98_row8_col27, #T_18e98_row9_col2, #T_18e98_row9_col18, #T_18e98_row9_col20, #T_18e98_row9_col27, #T_18e98_row10_col1, #T_18e98_row10_col3, #T_18e98_row10_col25, #T_18e98_row10_col27, #T_18e98_row11_col3, #T_18e98_row11_col20, #T_18e98_row11_col25, #T_18e98_row11_col27, #T_18e98_row12_col0, #T_18e98_row12_col24, #T_18e98_row13_col25, #T_18e98_row14_col25, #T_18e98_row15_col0, #T_18e98_row15_col24, #T_18e98_row19_col25, #T_18e98_row20_col11, #T_18e98_row24_col19, #T_18e98_row24_col28, #T_18e98_row24_col29, #T_18e98_row25_col10, #T_18e98_row25_col11, #T_18e98_row25_col12, #T_18e98_row25_col15, #T_18e98_row25_col19, #T_18e98_row28_col8, #T_18e98_row28_col9 {\n",
       "  background-color: #3f53c6;\n",
       "  color: #f1f1f1;\n",
       "}\n",
       "#T_18e98_row1_col19, #T_18e98_row6_col13, #T_18e98_row13_col23, #T_18e98_row17_col23, #T_18e98_row19_col1, #T_18e98_row19_col24, #T_18e98_row20_col12, #T_18e98_row20_col15, #T_18e98_row23_col26, #T_18e98_row24_col5, #T_18e98_row25_col24, #T_18e98_row26_col9, #T_18e98_row28_col24 {\n",
       "  background-color: #465ecf;\n",
       "  color: #f1f1f1;\n",
       "}\n",
       "#T_18e98_row1_col20, #T_18e98_row10_col14, #T_18e98_row11_col14, #T_18e98_row14_col10, #T_18e98_row20_col1 {\n",
       "  background-color: #bfd3f6;\n",
       "  color: #000000;\n",
       "}\n",
       "#T_18e98_row1_col21 {\n",
       "  background-color: #b7cff9;\n",
       "  color: #000000;\n",
       "}\n",
       "#T_18e98_row1_col24, #T_18e98_row8_col12, #T_18e98_row8_col15, #T_18e98_row20_col4, #T_18e98_row22_col30, #T_18e98_row25_col13 {\n",
       "  background-color: #7699f6;\n",
       "  color: #f1f1f1;\n",
       "}\n",
       "#T_18e98_row1_col26, #T_18e98_row5_col13, #T_18e98_row18_col26, #T_18e98_row24_col6, #T_18e98_row26_col18 {\n",
       "  background-color: #5e7de7;\n",
       "  color: #f1f1f1;\n",
       "}\n",
       "#T_18e98_row1_col28, #T_18e98_row4_col8, #T_18e98_row29_col22, #T_18e98_row30_col23 {\n",
       "  background-color: #7da0f9;\n",
       "  color: #f1f1f1;\n",
       "}\n",
       "#T_18e98_row2_col3, #T_18e98_row3_col2, #T_18e98_row4_col14 {\n",
       "  background-color: #cad8ef;\n",
       "  color: #000000;\n",
       "}\n",
       "#T_18e98_row2_col4, #T_18e98_row3_col4, #T_18e98_row10_col13, #T_18e98_row11_col13, #T_18e98_row12_col13, #T_18e98_row15_col13, #T_18e98_row19_col4, #T_18e98_row20_col28, #T_18e98_row21_col6, #T_18e98_row27_col4, #T_18e98_row28_col20 {\n",
       "  background-color: #7597f6;\n",
       "  color: #f1f1f1;\n",
       "}\n",
       "#T_18e98_row2_col5, #T_18e98_row2_col25, #T_18e98_row19_col30, #T_18e98_row20_col5, #T_18e98_row20_col30, #T_18e98_row23_col3, #T_18e98_row24_col10, #T_18e98_row24_col23, #T_18e98_row25_col2, #T_18e98_row25_col23, #T_18e98_row26_col23, #T_18e98_row26_col28, #T_18e98_row28_col26 {\n",
       "  background-color: #536edd;\n",
       "  color: #f1f1f1;\n",
       "}\n",
       "#T_18e98_row2_col7, #T_18e98_row6_col21, #T_18e98_row8_col26, #T_18e98_row18_col24, #T_18e98_row26_col29, #T_18e98_row27_col7, #T_18e98_row27_col24 {\n",
       "  background-color: #4b64d5;\n",
       "  color: #f1f1f1;\n",
       "}\n",
       "#T_18e98_row2_col10, #T_18e98_row2_col11, #T_18e98_row4_col19, #T_18e98_row4_col27, #T_18e98_row6_col2, #T_18e98_row6_col3, #T_18e98_row6_col19, #T_18e98_row6_col27, #T_18e98_row7_col1, #T_18e98_row7_col3, #T_18e98_row7_col18, #T_18e98_row8_col2, #T_18e98_row8_col20, #T_18e98_row10_col2, #T_18e98_row10_col19, #T_18e98_row10_col20, #T_18e98_row11_col2, #T_18e98_row11_col19, #T_18e98_row12_col18, #T_18e98_row12_col28, #T_18e98_row13_col10, #T_18e98_row13_col11, #T_18e98_row14_col26, #T_18e98_row15_col18, #T_18e98_row15_col28, #T_18e98_row17_col8, #T_18e98_row19_col10, #T_18e98_row19_col11, #T_18e98_row19_col21, #T_18e98_row20_col10, #T_18e98_row21_col19, #T_18e98_row22_col9, #T_18e98_row23_col18, #T_18e98_row24_col8, #T_18e98_row24_col9, #T_18e98_row24_col25, #T_18e98_row26_col14, #T_18e98_row27_col10, #T_18e98_row27_col11, #T_18e98_row29_col2, #T_18e98_row29_col20, #T_18e98_row30_col24 {\n",
       "  background-color: #3e51c5;\n",
       "  color: #f1f1f1;\n",
       "}\n",
       "#T_18e98_row2_col18, #T_18e98_row3_col29, #T_18e98_row8_col22, #T_18e98_row12_col2, #T_18e98_row12_col26, #T_18e98_row15_col2, #T_18e98_row15_col26, #T_18e98_row18_col2, #T_18e98_row18_col28, #T_18e98_row18_col29, #T_18e98_row19_col27, #T_18e98_row22_col18, #T_18e98_row27_col12, #T_18e98_row27_col15, #T_18e98_row27_col19, #T_18e98_row27_col29, #T_18e98_row28_col18, #T_18e98_row28_col29 {\n",
       "  background-color: #485fd1;\n",
       "  color: #f1f1f1;\n",
       "}\n",
       "#T_18e98_row2_col19, #T_18e98_row3_col12, #T_18e98_row3_col15, #T_18e98_row5_col26, #T_18e98_row7_col26, #T_18e98_row8_col23, #T_18e98_row8_col24, #T_18e98_row9_col23, #T_18e98_row9_col24, #T_18e98_row9_col26, #T_18e98_row12_col20, #T_18e98_row14_col21, #T_18e98_row15_col20, #T_18e98_row16_col24, #T_18e98_row17_col24, #T_18e98_row18_col1, #T_18e98_row18_col9, #T_18e98_row19_col2, #T_18e98_row19_col12, #T_18e98_row19_col15, #T_18e98_row20_col9, #T_18e98_row20_col26, #T_18e98_row24_col18, #T_18e98_row24_col27, #T_18e98_row25_col28, #T_18e98_row26_col20, #T_18e98_row27_col8, #T_18e98_row27_col9, #T_18e98_row28_col25 {\n",
       "  background-color: #4358cb;\n",
       "  color: #f1f1f1;\n",
       "}\n",
       "#T_18e98_row2_col20, #T_18e98_row11_col8, #T_18e98_row20_col2 {\n",
       "  background-color: #9bbcff;\n",
       "  color: #000000;\n",
       "}\n",
       "#T_18e98_row2_col21, #T_18e98_row2_col27, #T_18e98_row5_col8, #T_18e98_row21_col2, #T_18e98_row27_col2 {\n",
       "  background-color: #94b6ff;\n",
       "  color: #000000;\n",
       "}\n",
       "#T_18e98_row2_col23 {\n",
       "  background-color: #8fb1fe;\n",
       "  color: #000000;\n",
       "}\n",
       "#T_18e98_row2_col26, #T_18e98_row26_col2 {\n",
       "  background-color: #81a4fb;\n",
       "  color: #f1f1f1;\n",
       "}\n",
       "#T_18e98_row2_col28, #T_18e98_row28_col2 {\n",
       "  background-color: #e2dad5;\n",
       "  color: #000000;\n",
       "}\n",
       "#T_18e98_row3_col0, #T_18e98_row3_col19, #T_18e98_row19_col3, #T_18e98_row26_col6 {\n",
       "  background-color: #6b8df0;\n",
       "  color: #f1f1f1;\n",
       "}\n",
       "#T_18e98_row3_col9, #T_18e98_row18_col5, #T_18e98_row18_col30, #T_18e98_row20_col7, #T_18e98_row21_col9, #T_18e98_row26_col7, #T_18e98_row28_col5, #T_18e98_row28_col30 {\n",
       "  background-color: #506bda;\n",
       "  color: #f1f1f1;\n",
       "}\n",
       "#T_18e98_row3_col14, #T_18e98_row4_col18, #T_18e98_row4_col28, #T_18e98_row5_col18, #T_18e98_row5_col25, #T_18e98_row5_col28, #T_18e98_row6_col18, #T_18e98_row7_col2, #T_18e98_row7_col27, #T_18e98_row8_col0, #T_18e98_row9_col0, #T_18e98_row10_col18, #T_18e98_row11_col18, #T_18e98_row12_col1, #T_18e98_row12_col25, #T_18e98_row13_col8, #T_18e98_row14_col3, #T_18e98_row14_col20, #T_18e98_row15_col1, #T_18e98_row15_col25, #T_18e98_row16_col9, #T_18e98_row16_col12, #T_18e98_row16_col15, #T_18e98_row17_col9, #T_18e98_row17_col12, #T_18e98_row17_col15, #T_18e98_row18_col10, #T_18e98_row18_col11, #T_18e98_row19_col14, #T_18e98_row20_col14, #T_18e98_row22_col8, #T_18e98_row23_col0, #T_18e98_row27_col14, #T_18e98_row29_col3, #T_18e98_row29_col19, #T_18e98_row29_col24, #T_18e98_row29_col27, #T_18e98_row30_col2, #T_18e98_row30_col3, #T_18e98_row30_col19, #T_18e98_row30_col20, #T_18e98_row30_col27 {\n",
       "  background-color: #3d50c3;\n",
       "  color: #f1f1f1;\n",
       "}\n",
       "#T_18e98_row3_col18 {\n",
       "  background-color: #a9c6fd;\n",
       "  color: #000000;\n",
       "}\n",
       "#T_18e98_row3_col20, #T_18e98_row20_col3, #T_18e98_row21_col12, #T_18e98_row21_col15, #T_18e98_row22_col27, #T_18e98_row25_col22 {\n",
       "  background-color: #5977e3;\n",
       "  color: #f1f1f1;\n",
       "}\n",
       "#T_18e98_row3_col22, #T_18e98_row21_col30, #T_18e98_row22_col28 {\n",
       "  background-color: #5a78e4;\n",
       "  color: #f1f1f1;\n",
       "}\n",
       "#T_18e98_row3_col23, #T_18e98_row3_col24, #T_18e98_row14_col22, #T_18e98_row21_col5, #T_18e98_row25_col26, #T_18e98_row26_col1, #T_18e98_row26_col25 {\n",
       "  background-color: #5f7fe8;\n",
       "  color: #f1f1f1;\n",
       "}\n",
       "#T_18e98_row3_col25, #T_18e98_row8_col14, #T_18e98_row14_col23, #T_18e98_row18_col6, #T_18e98_row25_col3 {\n",
       "  background-color: #6788ee;\n",
       "  color: #f1f1f1;\n",
       "}\n",
       "#T_18e98_row3_col26, #T_18e98_row10_col23, #T_18e98_row11_col23, #T_18e98_row23_col29, #T_18e98_row26_col3 {\n",
       "  background-color: #8badfd;\n",
       "  color: #000000;\n",
       "}\n",
       "#T_18e98_row3_col27, #T_18e98_row12_col14, #T_18e98_row15_col14, #T_18e98_row22_col12, #T_18e98_row22_col15, #T_18e98_row23_col6, #T_18e98_row27_col3 {\n",
       "  background-color: #9ebeff;\n",
       "  color: #000000;\n",
       "}\n",
       "#T_18e98_row3_col28, #T_18e98_row6_col23, #T_18e98_row9_col12, #T_18e98_row9_col15, #T_18e98_row12_col9, #T_18e98_row13_col14, #T_18e98_row15_col9, #T_18e98_row22_col23, #T_18e98_row28_col3 {\n",
       "  background-color: #82a6fb;\n",
       "  color: #f1f1f1;\n",
       "}\n",
       "#T_18e98_row4_col5, #T_18e98_row10_col5, #T_18e98_row29_col30 {\n",
       "  background-color: #ee8468;\n",
       "  color: #f1f1f1;\n",
       "}\n",
       "#T_18e98_row4_col6 {\n",
       "  background-color: #c32e31;\n",
       "  color: #f1f1f1;\n",
       "}\n",
       "#T_18e98_row4_col7, #T_18e98_row14_col11 {\n",
       "  background-color: #bed2f6;\n",
       "  color: #000000;\n",
       "}\n",
       "#T_18e98_row4_col9, #T_18e98_row12_col7, #T_18e98_row15_col7 {\n",
       "  background-color: #86a9fc;\n",
       "  color: #f1f1f1;\n",
       "}\n",
       "#T_18e98_row4_col10 {\n",
       "  background-color: #f2cab5;\n",
       "  color: #000000;\n",
       "}\n",
       "#T_18e98_row4_col11 {\n",
       "  background-color: #f2cbb7;\n",
       "  color: #000000;\n",
       "}\n",
       "#T_18e98_row4_col12, #T_18e98_row4_col15, #T_18e98_row10_col12, #T_18e98_row10_col15, #T_18e98_row11_col12, #T_18e98_row11_col15 {\n",
       "  background-color: #ead5c9;\n",
       "  color: #000000;\n",
       "}\n",
       "#T_18e98_row4_col22, #T_18e98_row22_col29 {\n",
       "  background-color: #7a9df8;\n",
       "  color: #f1f1f1;\n",
       "}\n",
       "#T_18e98_row4_col23, #T_18e98_row21_col4 {\n",
       "  background-color: #80a3fa;\n",
       "  color: #f1f1f1;\n",
       "}\n",
       "#T_18e98_row4_col29, #T_18e98_row5_col12, #T_18e98_row5_col15 {\n",
       "  background-color: #f7ac8e;\n",
       "  color: #000000;\n",
       "}\n",
       "#T_18e98_row4_col30, #T_18e98_row12_col6, #T_18e98_row15_col6 {\n",
       "  background-color: #f6bfa6;\n",
       "  color: #000000;\n",
       "}\n",
       "#T_18e98_row5_col4 {\n",
       "  background-color: #e97a5f;\n",
       "  color: #f1f1f1;\n",
       "}\n",
       "#T_18e98_row5_col6, #T_18e98_row5_col10, #T_18e98_row5_col11 {\n",
       "  background-color: #f08b6e;\n",
       "  color: #f1f1f1;\n",
       "}\n",
       "#T_18e98_row5_col7 {\n",
       "  background-color: #cfdaea;\n",
       "  color: #000000;\n",
       "}\n",
       "#T_18e98_row5_col9, #T_18e98_row10_col9, #T_18e98_row11_col9, #T_18e98_row14_col12, #T_18e98_row14_col15, #T_18e98_row22_col4, #T_18e98_row22_col10, #T_18e98_row22_col11, #T_18e98_row29_col8 {\n",
       "  background-color: #9fbfff;\n",
       "  color: #000000;\n",
       "}\n",
       "#T_18e98_row5_col14, #T_18e98_row8_col30, #T_18e98_row9_col6, #T_18e98_row30_col9 {\n",
       "  background-color: #afcafc;\n",
       "  color: #000000;\n",
       "}\n",
       "#T_18e98_row5_col22 {\n",
       "  background-color: #89acfd;\n",
       "  color: #000000;\n",
       "}\n",
       "#T_18e98_row5_col23, #T_18e98_row29_col23 {\n",
       "  background-color: #8caffe;\n",
       "  color: #000000;\n",
       "}\n",
       "#T_18e98_row5_col29 {\n",
       "  background-color: #dd5f4b;\n",
       "  color: #f1f1f1;\n",
       "}\n",
       "#T_18e98_row5_col30, #T_18e98_row11_col5, #T_18e98_row30_col5 {\n",
       "  background-color: #ee8669;\n",
       "  color: #f1f1f1;\n",
       "}\n",
       "#T_18e98_row6_col4 {\n",
       "  background-color: #c12b30;\n",
       "  color: #f1f1f1;\n",
       "}\n",
       "#T_18e98_row6_col5 {\n",
       "  background-color: #f39475;\n",
       "  color: #000000;\n",
       "}\n",
       "#T_18e98_row6_col7 {\n",
       "  background-color: #c9d7f0;\n",
       "  color: #000000;\n",
       "}\n",
       "#T_18e98_row6_col8 {\n",
       "  background-color: #85a8fc;\n",
       "  color: #f1f1f1;\n",
       "}\n",
       "#T_18e98_row6_col9 {\n",
       "  background-color: #90b2fe;\n",
       "  color: #000000;\n",
       "}\n",
       "#T_18e98_row6_col10, #T_18e98_row6_col11 {\n",
       "  background-color: #f6bea4;\n",
       "  color: #000000;\n",
       "}\n",
       "#T_18e98_row6_col12, #T_18e98_row6_col15 {\n",
       "  background-color: #f1cdba;\n",
       "  color: #000000;\n",
       "}\n",
       "#T_18e98_row6_col14 {\n",
       "  background-color: #e5d8d1;\n",
       "  color: #000000;\n",
       "}\n",
       "#T_18e98_row6_col29 {\n",
       "  background-color: #f39778;\n",
       "  color: #000000;\n",
       "}\n",
       "#T_18e98_row6_col30 {\n",
       "  background-color: #f7b093;\n",
       "  color: #000000;\n",
       "}\n",
       "#T_18e98_row7_col4 {\n",
       "  background-color: #d5dbe5;\n",
       "  color: #000000;\n",
       "}\n",
       "#T_18e98_row7_col5 {\n",
       "  background-color: #d2dbe8;\n",
       "  color: #000000;\n",
       "}\n",
       "#T_18e98_row7_col6, #T_18e98_row7_col10, #T_18e98_row7_col30 {\n",
       "  background-color: #d7dce3;\n",
       "  color: #000000;\n",
       "}\n",
       "#T_18e98_row7_col8, #T_18e98_row10_col7, #T_18e98_row11_col7 {\n",
       "  background-color: #dedcdb;\n",
       "  color: #000000;\n",
       "}\n",
       "#T_18e98_row7_col9, #T_18e98_row8_col7, #T_18e98_row14_col4 {\n",
       "  background-color: #e3d9d3;\n",
       "  color: #000000;\n",
       "}\n",
       "#T_18e98_row7_col11 {\n",
       "  background-color: #d8dce2;\n",
       "  color: #000000;\n",
       "}\n",
       "#T_18e98_row7_col12, #T_18e98_row7_col15 {\n",
       "  background-color: #7b9ff9;\n",
       "  color: #f1f1f1;\n",
       "}\n",
       "#T_18e98_row7_col14, #T_18e98_row10_col8 {\n",
       "  background-color: #9abbff;\n",
       "  color: #000000;\n",
       "}\n",
       "#T_18e98_row7_col21, #T_18e98_row23_col21, #T_18e98_row24_col11 {\n",
       "  background-color: #5470de;\n",
       "  color: #f1f1f1;\n",
       "}\n",
       "#T_18e98_row7_col29 {\n",
       "  background-color: #e4d9d2;\n",
       "  color: #000000;\n",
       "}\n",
       "#T_18e98_row8_col4, #T_18e98_row10_col22, #T_18e98_row11_col22, #T_18e98_row18_col3 {\n",
       "  background-color: #aac7fd;\n",
       "  color: #000000;\n",
       "}\n",
       "#T_18e98_row8_col5, #T_18e98_row30_col8 {\n",
       "  background-color: #a2c1ff;\n",
       "  color: #000000;\n",
       "}\n",
       "#T_18e98_row8_col6 {\n",
       "  background-color: #a6c4fe;\n",
       "  color: #000000;\n",
       "}\n",
       "#T_18e98_row8_col9, #T_18e98_row9_col8 {\n",
       "  background-color: #de614d;\n",
       "  color: #f1f1f1;\n",
       "}\n",
       "#T_18e98_row8_col10, #T_18e98_row22_col6 {\n",
       "  background-color: #97b8ff;\n",
       "  color: #000000;\n",
       "}\n",
       "#T_18e98_row8_col11 {\n",
       "  background-color: #98b9ff;\n",
       "  color: #000000;\n",
       "}\n",
       "#T_18e98_row8_col29, #T_18e98_row14_col7, #T_18e98_row23_col4 {\n",
       "  background-color: #a5c3fe;\n",
       "  color: #000000;\n",
       "}\n",
       "#T_18e98_row9_col4, #T_18e98_row9_col29, #T_18e98_row14_col13 {\n",
       "  background-color: #b1cbfc;\n",
       "  color: #000000;\n",
       "}\n",
       "#T_18e98_row9_col5, #T_18e98_row29_col9, #T_18e98_row30_col14 {\n",
       "  background-color: #abc8fd;\n",
       "  color: #000000;\n",
       "}\n",
       "#T_18e98_row9_col7 {\n",
       "  background-color: #e8d6cc;\n",
       "  color: #000000;\n",
       "}\n",
       "#T_18e98_row9_col10, #T_18e98_row9_col11 {\n",
       "  background-color: #9dbdff;\n",
       "  color: #000000;\n",
       "}\n",
       "#T_18e98_row9_col30 {\n",
       "  background-color: #bbd1f8;\n",
       "  color: #000000;\n",
       "}\n",
       "#T_18e98_row10_col4, #T_18e98_row11_col4 {\n",
       "  background-color: #f7b79b;\n",
       "  color: #000000;\n",
       "}\n",
       "#T_18e98_row10_col6, #T_18e98_row11_col6 {\n",
       "  background-color: #f7af91;\n",
       "  color: #000000;\n",
       "}\n",
       "#T_18e98_row10_col24, #T_18e98_row11_col24, #T_18e98_row23_col14, #T_18e98_row23_col28, #T_18e98_row30_col13 {\n",
       "  background-color: #5b7ae5;\n",
       "  color: #f1f1f1;\n",
       "}\n",
       "#T_18e98_row10_col29, #T_18e98_row11_col29 {\n",
       "  background-color: #eb7d62;\n",
       "  color: #f1f1f1;\n",
       "}\n",
       "#T_18e98_row10_col30, #T_18e98_row11_col30 {\n",
       "  background-color: #f7a98b;\n",
       "  color: #000000;\n",
       "}\n",
       "#T_18e98_row12_col4, #T_18e98_row15_col4 {\n",
       "  background-color: #f5c4ac;\n",
       "  color: #000000;\n",
       "}\n",
       "#T_18e98_row12_col5, #T_18e98_row15_col5 {\n",
       "  background-color: #f7a688;\n",
       "  color: #000000;\n",
       "}\n",
       "#T_18e98_row12_col8, #T_18e98_row15_col8, #T_18e98_row22_col13, #T_18e98_row24_col13, #T_18e98_row26_col4 {\n",
       "  background-color: #779af7;\n",
       "  color: #f1f1f1;\n",
       "}\n",
       "#T_18e98_row12_col10, #T_18e98_row12_col11, #T_18e98_row15_col10, #T_18e98_row15_col11 {\n",
       "  background-color: #e9d5cb;\n",
       "  color: #000000;\n",
       "}\n",
       "#T_18e98_row12_col21, #T_18e98_row15_col21, #T_18e98_row20_col22, #T_18e98_row20_col24, #T_18e98_row21_col22 {\n",
       "  background-color: #5673e0;\n",
       "  color: #f1f1f1;\n",
       "}\n",
       "#T_18e98_row12_col22, #T_18e98_row15_col22 {\n",
       "  background-color: #a7c5fe;\n",
       "  color: #000000;\n",
       "}\n",
       "#T_18e98_row12_col23, #T_18e98_row15_col23, #T_18e98_row21_col1 {\n",
       "  background-color: #b9d0f9;\n",
       "  color: #000000;\n",
       "}\n",
       "#T_18e98_row12_col29, #T_18e98_row15_col29 {\n",
       "  background-color: #f5c2aa;\n",
       "  color: #000000;\n",
       "}\n",
       "#T_18e98_row12_col30, #T_18e98_row15_col30 {\n",
       "  background-color: #f5c0a7;\n",
       "  color: #000000;\n",
       "}\n",
       "#T_18e98_row14_col5 {\n",
       "  background-color: #bcd2f7;\n",
       "  color: #000000;\n",
       "}\n",
       "#T_18e98_row14_col6 {\n",
       "  background-color: #f1ccb8;\n",
       "  color: #000000;\n",
       "}\n",
       "#T_18e98_row14_col8, #T_18e98_row20_col6, #T_18e98_row27_col1 {\n",
       "  background-color: #6a8bef;\n",
       "  color: #f1f1f1;\n",
       "}\n",
       "#T_18e98_row14_col29 {\n",
       "  background-color: #c6d6f1;\n",
       "  color: #000000;\n",
       "}\n",
       "#T_18e98_row14_col30 {\n",
       "  background-color: #bad0f8;\n",
       "  color: #000000;\n",
       "}\n",
       "#T_18e98_row16_col0, #T_18e98_row16_col7, #T_18e98_row16_col8, #T_18e98_row16_col22, #T_18e98_row16_col23, #T_18e98_row16_col29, #T_18e98_row16_col30 {\n",
       "  background-color: #000000;\n",
       "  color: #f1f1f1;\n",
       "}\n",
       "#T_18e98_row18_col4, #T_18e98_row26_col13, #T_18e98_row28_col4 {\n",
       "  background-color: #7396f5;\n",
       "  color: #f1f1f1;\n",
       "}\n",
       "#T_18e98_row18_col19, #T_18e98_row19_col18 {\n",
       "  background-color: #f5a081;\n",
       "  color: #000000;\n",
       "}\n",
       "#T_18e98_row18_col22, #T_18e98_row21_col24, #T_18e98_row21_col29, #T_18e98_row26_col5, #T_18e98_row26_col30, #T_18e98_row27_col23 {\n",
       "  background-color: #5572df;\n",
       "  color: #f1f1f1;\n",
       "}\n",
       "#T_18e98_row20_col21, #T_18e98_row21_col20 {\n",
       "  background-color: #c73635;\n",
       "  color: #f1f1f1;\n",
       "}\n",
       "#T_18e98_row21_col7 {\n",
       "  background-color: #6282ea;\n",
       "  color: #f1f1f1;\n",
       "}\n",
       "#T_18e98_row22_col5 {\n",
       "  background-color: #8db0fe;\n",
       "  color: #000000;\n",
       "}\n",
       "#T_18e98_row22_col24, #T_18e98_row23_col20, #T_18e98_row24_col3 {\n",
       "  background-color: #5875e1;\n",
       "  color: #f1f1f1;\n",
       "}\n",
       "#T_18e98_row23_col2, #T_18e98_row23_col22, #T_18e98_row23_col30 {\n",
       "  background-color: #84a7fc;\n",
       "  color: #f1f1f1;\n",
       "}\n",
       "#T_18e98_row24_col1 {\n",
       "  background-color: #6e90f2;\n",
       "  color: #f1f1f1;\n",
       "}\n",
       "#T_18e98_row24_col22, #T_18e98_row26_col22 {\n",
       "  background-color: #5d7ce6;\n",
       "  color: #f1f1f1;\n",
       "}\n",
       "#T_18e98_row25_col27, #T_18e98_row27_col25 {\n",
       "  background-color: #6384eb;\n",
       "  color: #f1f1f1;\n",
       "}\n",
       "#T_18e98_row26_col27, #T_18e98_row27_col26, #T_18e98_row30_col10, #T_18e98_row30_col11 {\n",
       "  background-color: #f7b194;\n",
       "  color: #000000;\n",
       "}\n",
       "#T_18e98_row29_col4 {\n",
       "  background-color: #f59c7d;\n",
       "  color: #000000;\n",
       "}\n",
       "#T_18e98_row29_col5 {\n",
       "  background-color: #dc5d4a;\n",
       "  color: #f1f1f1;\n",
       "}\n",
       "#T_18e98_row29_col6 {\n",
       "  background-color: #f18d6f;\n",
       "  color: #f1f1f1;\n",
       "}\n",
       "#T_18e98_row29_col7 {\n",
       "  background-color: #e6d7cf;\n",
       "  color: #000000;\n",
       "}\n",
       "#T_18e98_row29_col10 {\n",
       "  background-color: #ec7f63;\n",
       "  color: #f1f1f1;\n",
       "}\n",
       "#T_18e98_row29_col11 {\n",
       "  background-color: #ec8165;\n",
       "  color: #f1f1f1;\n",
       "}\n",
       "#T_18e98_row29_col12, #T_18e98_row29_col15, #T_18e98_row30_col12, #T_18e98_row30_col15 {\n",
       "  background-color: #f4c6af;\n",
       "  color: #000000;\n",
       "}\n",
       "#T_18e98_row29_col14 {\n",
       "  background-color: #c0d4f5;\n",
       "  color: #000000;\n",
       "}\n",
       "#T_18e98_row30_col4 {\n",
       "  background-color: #f7b396;\n",
       "  color: #000000;\n",
       "}\n",
       "#T_18e98_row30_col6 {\n",
       "  background-color: #f7a889;\n",
       "  color: #000000;\n",
       "}\n",
       "#T_18e98_row30_col7 {\n",
       "  background-color: #d4dbe6;\n",
       "  color: #000000;\n",
       "}\n",
       "</style>\n",
       "<table id=\"T_18e98\">\n",
       "  <thead>\n",
       "    <tr>\n",
       "      <th class=\"blank level0\" >&nbsp;</th>\n",
       "      <th id=\"T_18e98_level0_col0\" class=\"col_heading level0 col0\" >IN_BYTES</th>\n",
       "      <th id=\"T_18e98_level0_col1\" class=\"col_heading level0 col1\" >IN_PKTS</th>\n",
       "      <th id=\"T_18e98_level0_col2\" class=\"col_heading level0 col2\" >OUT_BYTES</th>\n",
       "      <th id=\"T_18e98_level0_col3\" class=\"col_heading level0 col3\" >OUT_PKTS</th>\n",
       "      <th id=\"T_18e98_level0_col4\" class=\"col_heading level0 col4\" >TCP_FLAGS</th>\n",
       "      <th id=\"T_18e98_level0_col5\" class=\"col_heading level0 col5\" >CLIENT_TCP_FLAGS</th>\n",
       "      <th id=\"T_18e98_level0_col6\" class=\"col_heading level0 col6\" >SERVER_TCP_FLAGS</th>\n",
       "      <th id=\"T_18e98_level0_col7\" class=\"col_heading level0 col7\" >FLOW_DURATION_MILLISECONDS</th>\n",
       "      <th id=\"T_18e98_level0_col8\" class=\"col_heading level0 col8\" >DURATION_IN</th>\n",
       "      <th id=\"T_18e98_level0_col9\" class=\"col_heading level0 col9\" >DURATION_OUT</th>\n",
       "      <th id=\"T_18e98_level0_col10\" class=\"col_heading level0 col10\" >MIN_TTL</th>\n",
       "      <th id=\"T_18e98_level0_col11\" class=\"col_heading level0 col11\" >MAX_TTL</th>\n",
       "      <th id=\"T_18e98_level0_col12\" class=\"col_heading level0 col12\" >LONGEST_FLOW_PKT</th>\n",
       "      <th id=\"T_18e98_level0_col13\" class=\"col_heading level0 col13\" >SHORTEST_FLOW_PKT</th>\n",
       "      <th id=\"T_18e98_level0_col14\" class=\"col_heading level0 col14\" >MIN_IP_PKT_LEN</th>\n",
       "      <th id=\"T_18e98_level0_col15\" class=\"col_heading level0 col15\" >MAX_IP_PKT_LEN</th>\n",
       "      <th id=\"T_18e98_level0_col16\" class=\"col_heading level0 col16\" >SRC_TO_DST_SECOND_BYTES</th>\n",
       "      <th id=\"T_18e98_level0_col17\" class=\"col_heading level0 col17\" >DST_TO_SRC_SECOND_BYTES</th>\n",
       "      <th id=\"T_18e98_level0_col18\" class=\"col_heading level0 col18\" >RETRANSMITTED_IN_BYTES</th>\n",
       "      <th id=\"T_18e98_level0_col19\" class=\"col_heading level0 col19\" >RETRANSMITTED_IN_PKTS</th>\n",
       "      <th id=\"T_18e98_level0_col20\" class=\"col_heading level0 col20\" >RETRANSMITTED_OUT_BYTES</th>\n",
       "      <th id=\"T_18e98_level0_col21\" class=\"col_heading level0 col21\" >RETRANSMITTED_OUT_PKTS</th>\n",
       "      <th id=\"T_18e98_level0_col22\" class=\"col_heading level0 col22\" >SRC_TO_DST_AVG_THROUGHPUT</th>\n",
       "      <th id=\"T_18e98_level0_col23\" class=\"col_heading level0 col23\" >DST_TO_SRC_AVG_THROUGHPUT</th>\n",
       "      <th id=\"T_18e98_level0_col24\" class=\"col_heading level0 col24\" >NUM_PKTS_UP_TO_128_BYTES</th>\n",
       "      <th id=\"T_18e98_level0_col25\" class=\"col_heading level0 col25\" >NUM_PKTS_128_TO_256_BYTES</th>\n",
       "      <th id=\"T_18e98_level0_col26\" class=\"col_heading level0 col26\" >NUM_PKTS_256_TO_512_BYTES</th>\n",
       "      <th id=\"T_18e98_level0_col27\" class=\"col_heading level0 col27\" >NUM_PKTS_512_TO_1024_BYTES</th>\n",
       "      <th id=\"T_18e98_level0_col28\" class=\"col_heading level0 col28\" >NUM_PKTS_1024_TO_1514_BYTES</th>\n",
       "      <th id=\"T_18e98_level0_col29\" class=\"col_heading level0 col29\" >TCP_WIN_MAX_IN</th>\n",
       "      <th id=\"T_18e98_level0_col30\" class=\"col_heading level0 col30\" >TCP_WIN_MAX_OUT</th>\n",
       "    </tr>\n",
       "  </thead>\n",
       "  <tbody>\n",
       "    <tr>\n",
       "      <th id=\"T_18e98_level0_row0\" class=\"row_heading level0 row0\" >IN_BYTES</th>\n",
       "      <td id=\"T_18e98_row0_col0\" class=\"data row0 col0\" >1.000000</td>\n",
       "      <td id=\"T_18e98_row0_col1\" class=\"data row0 col1\" >0.357168</td>\n",
       "      <td id=\"T_18e98_row0_col2\" class=\"data row0 col2\" >0.037090</td>\n",
       "      <td id=\"T_18e98_row0_col3\" class=\"data row0 col3\" >0.156172</td>\n",
       "      <td id=\"T_18e98_row0_col4\" class=\"data row0 col4\" >0.004280</td>\n",
       "      <td id=\"T_18e98_row0_col5\" class=\"data row0 col5\" >0.005480</td>\n",
       "      <td id=\"T_18e98_row0_col6\" class=\"data row0 col6\" >0.003691</td>\n",
       "      <td id=\"T_18e98_row0_col7\" class=\"data row0 col7\" >0.005992</td>\n",
       "      <td id=\"T_18e98_row0_col8\" class=\"data row0 col8\" >0.009988</td>\n",
       "      <td id=\"T_18e98_row0_col9\" class=\"data row0 col9\" >0.008666</td>\n",
       "      <td id=\"T_18e98_row0_col10\" class=\"data row0 col10\" >0.006067</td>\n",
       "      <td id=\"T_18e98_row0_col11\" class=\"data row0 col11\" >0.007493</td>\n",
       "      <td id=\"T_18e98_row0_col12\" class=\"data row0 col12\" >0.015776</td>\n",
       "      <td id=\"T_18e98_row0_col13\" class=\"data row0 col13\" >0.000888</td>\n",
       "      <td id=\"T_18e98_row0_col14\" class=\"data row0 col14\" >0.001093</td>\n",
       "      <td id=\"T_18e98_row0_col15\" class=\"data row0 col15\" >0.015776</td>\n",
       "      <td id=\"T_18e98_row0_col16\" class=\"data row0 col16\" >nan</td>\n",
       "      <td id=\"T_18e98_row0_col17\" class=\"data row0 col17\" >0.000000</td>\n",
       "      <td id=\"T_18e98_row0_col18\" class=\"data row0 col18\" >0.059492</td>\n",
       "      <td id=\"T_18e98_row0_col19\" class=\"data row0 col19\" >0.038401</td>\n",
       "      <td id=\"T_18e98_row0_col20\" class=\"data row0 col20\" >0.074770</td>\n",
       "      <td id=\"T_18e98_row0_col21\" class=\"data row0 col21\" >0.074486</td>\n",
       "      <td id=\"T_18e98_row0_col22\" class=\"data row0 col22\" >0.170296</td>\n",
       "      <td id=\"T_18e98_row0_col23\" class=\"data row0 col23\" >0.008430</td>\n",
       "      <td id=\"T_18e98_row0_col24\" class=\"data row0 col24\" >0.038961</td>\n",
       "      <td id=\"T_18e98_row0_col25\" class=\"data row0 col25\" >0.050082</td>\n",
       "      <td id=\"T_18e98_row0_col26\" class=\"data row0 col26\" >0.167247</td>\n",
       "      <td id=\"T_18e98_row0_col27\" class=\"data row0 col27\" >0.263966</td>\n",
       "      <td id=\"T_18e98_row0_col28\" class=\"data row0 col28\" >0.789523</td>\n",
       "      <td id=\"T_18e98_row0_col29\" class=\"data row0 col29\" >0.001172</td>\n",
       "      <td id=\"T_18e98_row0_col30\" class=\"data row0 col30\" >0.001849</td>\n",
       "    </tr>\n",
       "    <tr>\n",
       "      <th id=\"T_18e98_level0_row1\" class=\"row_heading level0 row1\" >IN_PKTS</th>\n",
       "      <td id=\"T_18e98_row1_col0\" class=\"data row1 col0\" >0.357168</td>\n",
       "      <td id=\"T_18e98_row1_col1\" class=\"data row1 col1\" >1.000000</td>\n",
       "      <td id=\"T_18e98_row1_col2\" class=\"data row1 col2\" >0.121450</td>\n",
       "      <td id=\"T_18e98_row1_col3\" class=\"data row1 col3\" >0.143922</td>\n",
       "      <td id=\"T_18e98_row1_col4\" class=\"data row1 col4\" >0.002698</td>\n",
       "      <td id=\"T_18e98_row1_col5\" class=\"data row1 col5\" >0.004548</td>\n",
       "      <td id=\"T_18e98_row1_col6\" class=\"data row1 col6\" >0.002633</td>\n",
       "      <td id=\"T_18e98_row1_col7\" class=\"data row1 col7\" >0.012479</td>\n",
       "      <td id=\"T_18e98_row1_col8\" class=\"data row1 col8\" >0.024250</td>\n",
       "      <td id=\"T_18e98_row1_col9\" class=\"data row1 col9\" >0.021414</td>\n",
       "      <td id=\"T_18e98_row1_col10\" class=\"data row1 col10\" >0.015894</td>\n",
       "      <td id=\"T_18e98_row1_col11\" class=\"data row1 col11\" >0.021025</td>\n",
       "      <td id=\"T_18e98_row1_col12\" class=\"data row1 col12\" >0.008991</td>\n",
       "      <td id=\"T_18e98_row1_col13\" class=\"data row1 col13\" >-0.001936</td>\n",
       "      <td id=\"T_18e98_row1_col14\" class=\"data row1 col14\" >-0.002711</td>\n",
       "      <td id=\"T_18e98_row1_col15\" class=\"data row1 col15\" >0.008991</td>\n",
       "      <td id=\"T_18e98_row1_col16\" class=\"data row1 col16\" >0.000000</td>\n",
       "      <td id=\"T_18e98_row1_col17\" class=\"data row1 col17\" >0.000000</td>\n",
       "      <td id=\"T_18e98_row1_col18\" class=\"data row1 col18\" >0.025262</td>\n",
       "      <td id=\"T_18e98_row1_col19\" class=\"data row1 col19\" >0.039215</td>\n",
       "      <td id=\"T_18e98_row1_col20\" class=\"data row1 col20\" >0.395779</td>\n",
       "      <td id=\"T_18e98_row1_col21\" class=\"data row1 col21\" >0.373832</td>\n",
       "      <td id=\"T_18e98_row1_col22\" class=\"data row1 col22\" >0.169769</td>\n",
       "      <td id=\"T_18e98_row1_col23\" class=\"data row1 col23\" >0.028892</td>\n",
       "      <td id=\"T_18e98_row1_col24\" class=\"data row1 col24\" >0.161568</td>\n",
       "      <td id=\"T_18e98_row1_col25\" class=\"data row1 col25\" >0.059166</td>\n",
       "      <td id=\"T_18e98_row1_col26\" class=\"data row1 col26\" >0.115114</td>\n",
       "      <td id=\"T_18e98_row1_col27\" class=\"data row1 col27\" >0.147253</td>\n",
       "      <td id=\"T_18e98_row1_col28\" class=\"data row1 col28\" >0.206766</td>\n",
       "      <td id=\"T_18e98_row1_col29\" class=\"data row1 col29\" >0.000688</td>\n",
       "      <td id=\"T_18e98_row1_col30\" class=\"data row1 col30\" >0.001354</td>\n",
       "    </tr>\n",
       "    <tr>\n",
       "      <th id=\"T_18e98_level0_row2\" class=\"row_heading level0 row2\" >OUT_BYTES</th>\n",
       "      <td id=\"T_18e98_row2_col0\" class=\"data row2 col0\" >0.037090</td>\n",
       "      <td id=\"T_18e98_row2_col1\" class=\"data row2 col1\" >0.121450</td>\n",
       "      <td id=\"T_18e98_row2_col2\" class=\"data row2 col2\" >1.000000</td>\n",
       "      <td id=\"T_18e98_row2_col3\" class=\"data row2 col3\" >0.431394</td>\n",
       "      <td id=\"T_18e98_row2_col4\" class=\"data row2 col4\" >0.016467</td>\n",
       "      <td id=\"T_18e98_row2_col5\" class=\"data row2 col5\" >0.018788</td>\n",
       "      <td id=\"T_18e98_row2_col6\" class=\"data row2 col6\" >0.013277</td>\n",
       "      <td id=\"T_18e98_row2_col7\" class=\"data row2 col7\" >0.008790</td>\n",
       "      <td id=\"T_18e98_row2_col8\" class=\"data row2 col8\" >0.011447</td>\n",
       "      <td id=\"T_18e98_row2_col9\" class=\"data row2 col9\" >0.015376</td>\n",
       "      <td id=\"T_18e98_row2_col10\" class=\"data row2 col10\" >0.013570</td>\n",
       "      <td id=\"T_18e98_row2_col11\" class=\"data row2 col11\" >0.014180</td>\n",
       "      <td id=\"T_18e98_row2_col12\" class=\"data row2 col12\" >0.045672</td>\n",
       "      <td id=\"T_18e98_row2_col13\" class=\"data row2 col13\" >-0.001142</td>\n",
       "      <td id=\"T_18e98_row2_col14\" class=\"data row2 col14\" >0.004722</td>\n",
       "      <td id=\"T_18e98_row2_col15\" class=\"data row2 col15\" >0.045672</td>\n",
       "      <td id=\"T_18e98_row2_col16\" class=\"data row2 col16\" >-0.000000</td>\n",
       "      <td id=\"T_18e98_row2_col17\" class=\"data row2 col17\" >0.000000</td>\n",
       "      <td id=\"T_18e98_row2_col18\" class=\"data row2 col18\" >0.045648</td>\n",
       "      <td id=\"T_18e98_row2_col19\" class=\"data row2 col19\" >0.028087</td>\n",
       "      <td id=\"T_18e98_row2_col20\" class=\"data row2 col20\" >0.290079</td>\n",
       "      <td id=\"T_18e98_row2_col21\" class=\"data row2 col21\" >0.270363</td>\n",
       "      <td id=\"T_18e98_row2_col22\" class=\"data row2 col22\" >0.023509</td>\n",
       "      <td id=\"T_18e98_row2_col23\" class=\"data row2 col23\" >0.222337</td>\n",
       "      <td id=\"T_18e98_row2_col24\" class=\"data row2 col24\" >0.032279</td>\n",
       "      <td id=\"T_18e98_row2_col25\" class=\"data row2 col25\" >0.079728</td>\n",
       "      <td id=\"T_18e98_row2_col26\" class=\"data row2 col26\" >0.215708</td>\n",
       "      <td id=\"T_18e98_row2_col27\" class=\"data row2 col27\" >0.269381</td>\n",
       "      <td id=\"T_18e98_row2_col28\" class=\"data row2 col28\" >0.520902</td>\n",
       "      <td id=\"T_18e98_row2_col29\" class=\"data row2 col29\" >0.013051</td>\n",
       "      <td id=\"T_18e98_row2_col30\" class=\"data row2 col30\" >0.009929</td>\n",
       "    </tr>\n",
       "    <tr>\n",
       "      <th id=\"T_18e98_level0_row3\" class=\"row_heading level0 row3\" >OUT_PKTS</th>\n",
       "      <td id=\"T_18e98_row3_col0\" class=\"data row3 col0\" >0.156172</td>\n",
       "      <td id=\"T_18e98_row3_col1\" class=\"data row3 col1\" >0.143922</td>\n",
       "      <td id=\"T_18e98_row3_col2\" class=\"data row3 col2\" >0.431394</td>\n",
       "      <td id=\"T_18e98_row3_col3\" class=\"data row3 col3\" >1.000000</td>\n",
       "      <td id=\"T_18e98_row3_col4\" class=\"data row3 col4\" >0.014752</td>\n",
       "      <td id=\"T_18e98_row3_col5\" class=\"data row3 col5\" >0.015626</td>\n",
       "      <td id=\"T_18e98_row3_col6\" class=\"data row3 col6\" >0.014033</td>\n",
       "      <td id=\"T_18e98_row3_col7\" class=\"data row3 col7\" >0.012657</td>\n",
       "      <td id=\"T_18e98_row3_col8\" class=\"data row3 col8\" >0.047995</td>\n",
       "      <td id=\"T_18e98_row3_col9\" class=\"data row3 col9\" >0.062878</td>\n",
       "      <td id=\"T_18e98_row3_col10\" class=\"data row3 col10\" >0.016173</td>\n",
       "      <td id=\"T_18e98_row3_col11\" class=\"data row3 col11\" >0.018066</td>\n",
       "      <td id=\"T_18e98_row3_col12\" class=\"data row3 col12\" >0.021935</td>\n",
       "      <td id=\"T_18e98_row3_col13\" class=\"data row3 col13\" >-0.000941</td>\n",
       "      <td id=\"T_18e98_row3_col14\" class=\"data row3 col14\" >0.007746</td>\n",
       "      <td id=\"T_18e98_row3_col15\" class=\"data row3 col15\" >0.021935</td>\n",
       "      <td id=\"T_18e98_row3_col16\" class=\"data row3 col16\" >-0.000000</td>\n",
       "      <td id=\"T_18e98_row3_col17\" class=\"data row3 col17\" >0.000000</td>\n",
       "      <td id=\"T_18e98_row3_col18\" class=\"data row3 col18\" >0.331501</td>\n",
       "      <td id=\"T_18e98_row3_col19\" class=\"data row3 col19\" >0.152466</td>\n",
       "      <td id=\"T_18e98_row3_col20\" class=\"data row3 col20\" >0.099993</td>\n",
       "      <td id=\"T_18e98_row3_col21\" class=\"data row3 col21\" >0.134847</td>\n",
       "      <td id=\"T_18e98_row3_col22\" class=\"data row3 col22\" >0.060098</td>\n",
       "      <td id=\"T_18e98_row3_col23\" class=\"data row3 col23\" >0.080231</td>\n",
       "      <td id=\"T_18e98_row3_col24\" class=\"data row3 col24\" >0.094454</td>\n",
       "      <td id=\"T_18e98_row3_col25\" class=\"data row3 col25\" >0.141774</td>\n",
       "      <td id=\"T_18e98_row3_col26\" class=\"data row3 col26\" >0.243923</td>\n",
       "      <td id=\"T_18e98_row3_col27\" class=\"data row3 col27\" >0.296310</td>\n",
       "      <td id=\"T_18e98_row3_col28\" class=\"data row3 col28\" >0.220964</td>\n",
       "      <td id=\"T_18e98_row3_col29\" class=\"data row3 col29\" >0.010091</td>\n",
       "      <td id=\"T_18e98_row3_col30\" class=\"data row3 col30\" >0.008182</td>\n",
       "    </tr>\n",
       "    <tr>\n",
       "      <th id=\"T_18e98_level0_row4\" class=\"row_heading level0 row4\" >TCP_FLAGS</th>\n",
       "      <td id=\"T_18e98_row4_col0\" class=\"data row4 col0\" >0.004280</td>\n",
       "      <td id=\"T_18e98_row4_col1\" class=\"data row4 col1\" >0.002698</td>\n",
       "      <td id=\"T_18e98_row4_col2\" class=\"data row4 col2\" >0.016467</td>\n",
       "      <td id=\"T_18e98_row4_col3\" class=\"data row4 col3\" >0.014752</td>\n",
       "      <td id=\"T_18e98_row4_col4\" class=\"data row4 col4\" >1.000000</td>\n",
       "      <td id=\"T_18e98_row4_col5\" class=\"data row4 col5\" >0.785870</td>\n",
       "      <td id=\"T_18e98_row4_col6\" class=\"data row4 col6\" >0.953551</td>\n",
       "      <td id=\"T_18e98_row4_col7\" class=\"data row4 col7\" >0.361176</td>\n",
       "      <td id=\"T_18e98_row4_col8\" class=\"data row4 col8\" >0.195594</td>\n",
       "      <td id=\"T_18e98_row4_col9\" class=\"data row4 col9\" >0.223215</td>\n",
       "      <td id=\"T_18e98_row4_col10\" class=\"data row4 col10\" >0.601905</td>\n",
       "      <td id=\"T_18e98_row4_col11\" class=\"data row4 col11\" >0.600929</td>\n",
       "      <td id=\"T_18e98_row4_col12\" class=\"data row4 col12\" >0.548346</td>\n",
       "      <td id=\"T_18e98_row4_col13\" class=\"data row4 col13\" >-0.204642</td>\n",
       "      <td id=\"T_18e98_row4_col14\" class=\"data row4 col14\" >0.429659</td>\n",
       "      <td id=\"T_18e98_row4_col15\" class=\"data row4 col15\" >0.548346</td>\n",
       "      <td id=\"T_18e98_row4_col16\" class=\"data row4 col16\" >-0.000000</td>\n",
       "      <td id=\"T_18e98_row4_col17\" class=\"data row4 col17\" >-0.000000</td>\n",
       "      <td id=\"T_18e98_row4_col18\" class=\"data row4 col18\" >0.008499</td>\n",
       "      <td id=\"T_18e98_row4_col19\" class=\"data row4 col19\" >0.013016</td>\n",
       "      <td id=\"T_18e98_row4_col20\" class=\"data row4 col20\" >0.017340</td>\n",
       "      <td id=\"T_18e98_row4_col21\" class=\"data row4 col21\" >0.051894</td>\n",
       "      <td id=\"T_18e98_row4_col22\" class=\"data row4 col22\" >0.158082</td>\n",
       "      <td id=\"T_18e98_row4_col23\" class=\"data row4 col23\" >0.176961</td>\n",
       "      <td id=\"T_18e98_row4_col24\" class=\"data row4 col24\" >-0.028260</td>\n",
       "      <td id=\"T_18e98_row4_col25\" class=\"data row4 col25\" >0.005177</td>\n",
       "      <td id=\"T_18e98_row4_col26\" class=\"data row4 col26\" >0.024101</td>\n",
       "      <td id=\"T_18e98_row4_col27\" class=\"data row4 col27\" >0.012865</td>\n",
       "      <td id=\"T_18e98_row4_col28\" class=\"data row4 col28\" >0.009596</td>\n",
       "      <td id=\"T_18e98_row4_col29\" class=\"data row4 col29\" >0.691277</td>\n",
       "      <td id=\"T_18e98_row4_col30\" class=\"data row4 col30\" >0.617947</td>\n",
       "    </tr>\n",
       "    <tr>\n",
       "      <th id=\"T_18e98_level0_row5\" class=\"row_heading level0 row5\" >CLIENT_TCP_FLAGS</th>\n",
       "      <td id=\"T_18e98_row5_col0\" class=\"data row5 col0\" >0.005480</td>\n",
       "      <td id=\"T_18e98_row5_col1\" class=\"data row5 col1\" >0.004548</td>\n",
       "      <td id=\"T_18e98_row5_col2\" class=\"data row5 col2\" >0.018788</td>\n",
       "      <td id=\"T_18e98_row5_col3\" class=\"data row5 col3\" >0.015626</td>\n",
       "      <td id=\"T_18e98_row5_col4\" class=\"data row5 col4\" >0.785870</td>\n",
       "      <td id=\"T_18e98_row5_col5\" class=\"data row5 col5\" >1.000000</td>\n",
       "      <td id=\"T_18e98_row5_col6\" class=\"data row5 col6\" >0.749894</td>\n",
       "      <td id=\"T_18e98_row5_col7\" class=\"data row5 col7\" >0.422695</td>\n",
       "      <td id=\"T_18e98_row5_col8\" class=\"data row5 col8\" >0.264198</td>\n",
       "      <td id=\"T_18e98_row5_col9\" class=\"data row5 col9\" >0.294774</td>\n",
       "      <td id=\"T_18e98_row5_col10\" class=\"data row5 col10\" >0.784719</td>\n",
       "      <td id=\"T_18e98_row5_col11\" class=\"data row5 col11\" >0.783736</td>\n",
       "      <td id=\"T_18e98_row5_col12\" class=\"data row5 col12\" >0.698450</td>\n",
       "      <td id=\"T_18e98_row5_col13\" class=\"data row5 col13\" >-0.064396</td>\n",
       "      <td id=\"T_18e98_row5_col14\" class=\"data row5 col14\" >0.348279</td>\n",
       "      <td id=\"T_18e98_row5_col15\" class=\"data row5 col15\" >0.698450</td>\n",
       "      <td id=\"T_18e98_row5_col16\" class=\"data row5 col16\" >-0.000000</td>\n",
       "      <td id=\"T_18e98_row5_col17\" class=\"data row5 col17\" >-0.000000</td>\n",
       "      <td id=\"T_18e98_row5_col18\" class=\"data row5 col18\" >0.010819</td>\n",
       "      <td id=\"T_18e98_row5_col19\" class=\"data row5 col19\" >0.016426</td>\n",
       "      <td id=\"T_18e98_row5_col20\" class=\"data row5 col20\" >0.020695</td>\n",
       "      <td id=\"T_18e98_row5_col21\" class=\"data row5 col21\" >0.062478</td>\n",
       "      <td id=\"T_18e98_row5_col22\" class=\"data row5 col22\" >0.201980</td>\n",
       "      <td id=\"T_18e98_row5_col23\" class=\"data row5 col23\" >0.216151</td>\n",
       "      <td id=\"T_18e98_row5_col24\" class=\"data row5 col24\" >-0.021205</td>\n",
       "      <td id=\"T_18e98_row5_col25\" class=\"data row5 col25\" >0.008054</td>\n",
       "      <td id=\"T_18e98_row5_col26\" class=\"data row5 col26\" >0.030098</td>\n",
       "      <td id=\"T_18e98_row5_col27\" class=\"data row5 col27\" >0.015686</td>\n",
       "      <td id=\"T_18e98_row5_col28\" class=\"data row5 col28\" >0.011170</td>\n",
       "      <td id=\"T_18e98_row5_col29\" class=\"data row5 col29\" >0.871311</td>\n",
       "      <td id=\"T_18e98_row5_col30\" class=\"data row5 col30\" >0.781273</td>\n",
       "    </tr>\n",
       "    <tr>\n",
       "      <th id=\"T_18e98_level0_row6\" class=\"row_heading level0 row6\" >SERVER_TCP_FLAGS</th>\n",
       "      <td id=\"T_18e98_row6_col0\" class=\"data row6 col0\" >0.003691</td>\n",
       "      <td id=\"T_18e98_row6_col1\" class=\"data row6 col1\" >0.002633</td>\n",
       "      <td id=\"T_18e98_row6_col2\" class=\"data row6 col2\" >0.013277</td>\n",
       "      <td id=\"T_18e98_row6_col3\" class=\"data row6 col3\" >0.014033</td>\n",
       "      <td id=\"T_18e98_row6_col4\" class=\"data row6 col4\" >0.953551</td>\n",
       "      <td id=\"T_18e98_row6_col5\" class=\"data row6 col5\" >0.749894</td>\n",
       "      <td id=\"T_18e98_row6_col6\" class=\"data row6 col6\" >1.000000</td>\n",
       "      <td id=\"T_18e98_row6_col7\" class=\"data row6 col7\" >0.398381</td>\n",
       "      <td id=\"T_18e98_row6_col8\" class=\"data row6 col8\" >0.217956</td>\n",
       "      <td id=\"T_18e98_row6_col9\" class=\"data row6 col9\" >0.251114</td>\n",
       "      <td id=\"T_18e98_row6_col10\" class=\"data row6 col10\" >0.646188</td>\n",
       "      <td id=\"T_18e98_row6_col11\" class=\"data row6 col11\" >0.645234</td>\n",
       "      <td id=\"T_18e98_row6_col12\" class=\"data row6 col12\" >0.588179</td>\n",
       "      <td id=\"T_18e98_row6_col13\" class=\"data row6 col13\" >-0.154813</td>\n",
       "      <td id=\"T_18e98_row6_col14\" class=\"data row6 col14\" >0.532662</td>\n",
       "      <td id=\"T_18e98_row6_col15\" class=\"data row6 col15\" >0.588179</td>\n",
       "      <td id=\"T_18e98_row6_col16\" class=\"data row6 col16\" >-0.000000</td>\n",
       "      <td id=\"T_18e98_row6_col17\" class=\"data row6 col17\" >-0.000000</td>\n",
       "      <td id=\"T_18e98_row6_col18\" class=\"data row6 col18\" >0.007993</td>\n",
       "      <td id=\"T_18e98_row6_col19\" class=\"data row6 col19\" >0.012144</td>\n",
       "      <td id=\"T_18e98_row6_col20\" class=\"data row6 col20\" >0.017794</td>\n",
       "      <td id=\"T_18e98_row6_col21\" class=\"data row6 col21\" >0.055883</td>\n",
       "      <td id=\"T_18e98_row6_col22\" class=\"data row6 col22\" >0.168953</td>\n",
       "      <td id=\"T_18e98_row6_col23\" class=\"data row6 col23\" >0.188063</td>\n",
       "      <td id=\"T_18e98_row6_col24\" class=\"data row6 col24\" >-0.023668</td>\n",
       "      <td id=\"T_18e98_row6_col25\" class=\"data row6 col25\" >0.005823</td>\n",
       "      <td id=\"T_18e98_row6_col26\" class=\"data row6 col26\" >0.024735</td>\n",
       "      <td id=\"T_18e98_row6_col27\" class=\"data row6 col27\" >0.012140</td>\n",
       "      <td id=\"T_18e98_row6_col28\" class=\"data row6 col28\" >0.007236</td>\n",
       "      <td id=\"T_18e98_row6_col29\" class=\"data row6 col29\" >0.744957</td>\n",
       "      <td id=\"T_18e98_row6_col30\" class=\"data row6 col30\" >0.667345</td>\n",
       "    </tr>\n",
       "    <tr>\n",
       "      <th id=\"T_18e98_level0_row7\" class=\"row_heading level0 row7\" >FLOW_DURATION_MILLISECONDS</th>\n",
       "      <td id=\"T_18e98_row7_col0\" class=\"data row7 col0\" >0.005992</td>\n",
       "      <td id=\"T_18e98_row7_col1\" class=\"data row7 col1\" >0.012479</td>\n",
       "      <td id=\"T_18e98_row7_col2\" class=\"data row7 col2\" >0.008790</td>\n",
       "      <td id=\"T_18e98_row7_col3\" class=\"data row7 col3\" >0.012657</td>\n",
       "      <td id=\"T_18e98_row7_col4\" class=\"data row7 col4\" >0.361176</td>\n",
       "      <td id=\"T_18e98_row7_col5\" class=\"data row7 col5\" >0.422695</td>\n",
       "      <td id=\"T_18e98_row7_col6\" class=\"data row7 col6\" >0.398381</td>\n",
       "      <td id=\"T_18e98_row7_col7\" class=\"data row7 col7\" >1.000000</td>\n",
       "      <td id=\"T_18e98_row7_col8\" class=\"data row7 col8\" >0.501553</td>\n",
       "      <td id=\"T_18e98_row7_col9\" class=\"data row7 col9\" >0.520992</td>\n",
       "      <td id=\"T_18e98_row7_col10\" class=\"data row7 col10\" >0.479919</td>\n",
       "      <td id=\"T_18e98_row7_col11\" class=\"data row7 col11\" >0.480870</td>\n",
       "      <td id=\"T_18e98_row7_col12\" class=\"data row7 col12\" >0.195439</td>\n",
       "      <td id=\"T_18e98_row7_col13\" class=\"data row7 col13\" >0.000294</td>\n",
       "      <td id=\"T_18e98_row7_col14\" class=\"data row7 col14\" >0.285500</td>\n",
       "      <td id=\"T_18e98_row7_col15\" class=\"data row7 col15\" >0.195439</td>\n",
       "      <td id=\"T_18e98_row7_col16\" class=\"data row7 col16\" >nan</td>\n",
       "      <td id=\"T_18e98_row7_col17\" class=\"data row7 col17\" >0.000000</td>\n",
       "      <td id=\"T_18e98_row7_col18\" class=\"data row7 col18\" >0.014072</td>\n",
       "      <td id=\"T_18e98_row7_col19\" class=\"data row7 col19\" >0.020946</td>\n",
       "      <td id=\"T_18e98_row7_col20\" class=\"data row7 col20\" >0.024762</td>\n",
       "      <td id=\"T_18e98_row7_col21\" class=\"data row7 col21\" >0.082238</td>\n",
       "      <td id=\"T_18e98_row7_col22\" class=\"data row7 col22\" >-0.049758</td>\n",
       "      <td id=\"T_18e98_row7_col23\" class=\"data row7 col23\" >-0.043958</td>\n",
       "      <td id=\"T_18e98_row7_col24\" class=\"data row7 col24\" >-0.009617</td>\n",
       "      <td id=\"T_18e98_row7_col25\" class=\"data row7 col25\" >0.004158</td>\n",
       "      <td id=\"T_18e98_row7_col26\" class=\"data row7 col26\" >0.027839</td>\n",
       "      <td id=\"T_18e98_row7_col27\" class=\"data row7 col27\" >0.009819</td>\n",
       "      <td id=\"T_18e98_row7_col28\" class=\"data row7 col28\" >0.005044</td>\n",
       "      <td id=\"T_18e98_row7_col29\" class=\"data row7 col29\" >0.512049</td>\n",
       "      <td id=\"T_18e98_row7_col30\" class=\"data row7 col30\" >0.442040</td>\n",
       "    </tr>\n",
       "    <tr>\n",
       "      <th id=\"T_18e98_level0_row8\" class=\"row_heading level0 row8\" >DURATION_IN</th>\n",
       "      <td id=\"T_18e98_row8_col0\" class=\"data row8 col0\" >0.009988</td>\n",
       "      <td id=\"T_18e98_row8_col1\" class=\"data row8 col1\" >0.024250</td>\n",
       "      <td id=\"T_18e98_row8_col2\" class=\"data row8 col2\" >0.011447</td>\n",
       "      <td id=\"T_18e98_row8_col3\" class=\"data row8 col3\" >0.047995</td>\n",
       "      <td id=\"T_18e98_row8_col4\" class=\"data row8 col4\" >0.195594</td>\n",
       "      <td id=\"T_18e98_row8_col5\" class=\"data row8 col5\" >0.264198</td>\n",
       "      <td id=\"T_18e98_row8_col6\" class=\"data row8 col6\" >0.217956</td>\n",
       "      <td id=\"T_18e98_row8_col7\" class=\"data row8 col7\" >0.501553</td>\n",
       "      <td id=\"T_18e98_row8_col8\" class=\"data row8 col8\" >1.000000</td>\n",
       "      <td id=\"T_18e98_row8_col9\" class=\"data row8 col9\" >0.873169</td>\n",
       "      <td id=\"T_18e98_row8_col10\" class=\"data row8 col10\" >0.278519</td>\n",
       "      <td id=\"T_18e98_row8_col11\" class=\"data row8 col11\" >0.281591</td>\n",
       "      <td id=\"T_18e98_row8_col12\" class=\"data row8 col12\" >0.180013</td>\n",
       "      <td id=\"T_18e98_row8_col13\" class=\"data row8 col13\" >-0.001938</td>\n",
       "      <td id=\"T_18e98_row8_col14\" class=\"data row8 col14\" >0.138857</td>\n",
       "      <td id=\"T_18e98_row8_col15\" class=\"data row8 col15\" >0.180013</td>\n",
       "      <td id=\"T_18e98_row8_col16\" class=\"data row8 col16\" >nan</td>\n",
       "      <td id=\"T_18e98_row8_col17\" class=\"data row8 col17\" >0.000000</td>\n",
       "      <td id=\"T_18e98_row8_col18\" class=\"data row8 col18\" >0.019769</td>\n",
       "      <td id=\"T_18e98_row8_col19\" class=\"data row8 col19\" >0.024779</td>\n",
       "      <td id=\"T_18e98_row8_col20\" class=\"data row8 col20\" >0.014800</td>\n",
       "      <td id=\"T_18e98_row8_col21\" class=\"data row8 col21\" >0.047763</td>\n",
       "      <td id=\"T_18e98_row8_col22\" class=\"data row8 col22\" >-0.001203</td>\n",
       "      <td id=\"T_18e98_row8_col23\" class=\"data row8 col23\" >-0.012288</td>\n",
       "      <td id=\"T_18e98_row8_col24\" class=\"data row8 col24\" >0.000708</td>\n",
       "      <td id=\"T_18e98_row8_col25\" class=\"data row8 col25\" >0.022519</td>\n",
       "      <td id=\"T_18e98_row8_col26\" class=\"data row8 col26\" >0.057844</td>\n",
       "      <td id=\"T_18e98_row8_col27\" class=\"data row8 col27\" >0.015781</td>\n",
       "      <td id=\"T_18e98_row8_col28\" class=\"data row8 col28\" >0.004789</td>\n",
       "      <td id=\"T_18e98_row8_col29\" class=\"data row8 col29\" >0.293527</td>\n",
       "      <td id=\"T_18e98_row8_col30\" class=\"data row8 col30\" >0.303774</td>\n",
       "    </tr>\n",
       "    <tr>\n",
       "      <th id=\"T_18e98_level0_row9\" class=\"row_heading level0 row9\" >DURATION_OUT</th>\n",
       "      <td id=\"T_18e98_row9_col0\" class=\"data row9 col0\" >0.008666</td>\n",
       "      <td id=\"T_18e98_row9_col1\" class=\"data row9 col1\" >0.021414</td>\n",
       "      <td id=\"T_18e98_row9_col2\" class=\"data row9 col2\" >0.015376</td>\n",
       "      <td id=\"T_18e98_row9_col3\" class=\"data row9 col3\" >0.062878</td>\n",
       "      <td id=\"T_18e98_row9_col4\" class=\"data row9 col4\" >0.223215</td>\n",
       "      <td id=\"T_18e98_row9_col5\" class=\"data row9 col5\" >0.294774</td>\n",
       "      <td id=\"T_18e98_row9_col6\" class=\"data row9 col6\" >0.251114</td>\n",
       "      <td id=\"T_18e98_row9_col7\" class=\"data row9 col7\" >0.520992</td>\n",
       "      <td id=\"T_18e98_row9_col8\" class=\"data row9 col8\" >0.873169</td>\n",
       "      <td id=\"T_18e98_row9_col9\" class=\"data row9 col9\" >1.000000</td>\n",
       "      <td id=\"T_18e98_row9_col10\" class=\"data row9 col10\" >0.293349</td>\n",
       "      <td id=\"T_18e98_row9_col11\" class=\"data row9 col11\" >0.293108</td>\n",
       "      <td id=\"T_18e98_row9_col12\" class=\"data row9 col12\" >0.212047</td>\n",
       "      <td id=\"T_18e98_row9_col13\" class=\"data row9 col13\" >-0.006994</td>\n",
       "      <td id=\"T_18e98_row9_col14\" class=\"data row9 col14\" >0.162855</td>\n",
       "      <td id=\"T_18e98_row9_col15\" class=\"data row9 col15\" >0.212047</td>\n",
       "      <td id=\"T_18e98_row9_col16\" class=\"data row9 col16\" >-0.000000</td>\n",
       "      <td id=\"T_18e98_row9_col17\" class=\"data row9 col17\" >0.000000</td>\n",
       "      <td id=\"T_18e98_row9_col18\" class=\"data row9 col18\" >0.018903</td>\n",
       "      <td id=\"T_18e98_row9_col19\" class=\"data row9 col19\" >0.022589</td>\n",
       "      <td id=\"T_18e98_row9_col20\" class=\"data row9 col20\" >0.019144</td>\n",
       "      <td id=\"T_18e98_row9_col21\" class=\"data row9 col21\" >0.063158</td>\n",
       "      <td id=\"T_18e98_row9_col22\" class=\"data row9 col22\" >0.003850</td>\n",
       "      <td id=\"T_18e98_row9_col23\" class=\"data row9 col23\" >-0.011610</td>\n",
       "      <td id=\"T_18e98_row9_col24\" class=\"data row9 col24\" >0.001102</td>\n",
       "      <td id=\"T_18e98_row9_col25\" class=\"data row9 col25\" >0.049128</td>\n",
       "      <td id=\"T_18e98_row9_col26\" class=\"data row9 col26\" >0.030378</td>\n",
       "      <td id=\"T_18e98_row9_col27\" class=\"data row9 col27\" >0.017843</td>\n",
       "      <td id=\"T_18e98_row9_col28\" class=\"data row9 col28\" >0.005168</td>\n",
       "      <td id=\"T_18e98_row9_col29\" class=\"data row9 col29\" >0.328726</td>\n",
       "      <td id=\"T_18e98_row9_col30\" class=\"data row9 col30\" >0.341421</td>\n",
       "    </tr>\n",
       "    <tr>\n",
       "      <th id=\"T_18e98_level0_row10\" class=\"row_heading level0 row10\" >MIN_TTL</th>\n",
       "      <td id=\"T_18e98_row10_col0\" class=\"data row10 col0\" >0.006067</td>\n",
       "      <td id=\"T_18e98_row10_col1\" class=\"data row10 col1\" >0.015894</td>\n",
       "      <td id=\"T_18e98_row10_col2\" class=\"data row10 col2\" >0.013570</td>\n",
       "      <td id=\"T_18e98_row10_col3\" class=\"data row10 col3\" >0.016173</td>\n",
       "      <td id=\"T_18e98_row10_col4\" class=\"data row10 col4\" >0.601905</td>\n",
       "      <td id=\"T_18e98_row10_col5\" class=\"data row10 col5\" >0.784719</td>\n",
       "      <td id=\"T_18e98_row10_col6\" class=\"data row10 col6\" >0.646188</td>\n",
       "      <td id=\"T_18e98_row10_col7\" class=\"data row10 col7\" >0.479919</td>\n",
       "      <td id=\"T_18e98_row10_col8\" class=\"data row10 col8\" >0.278519</td>\n",
       "      <td id=\"T_18e98_row10_col9\" class=\"data row10 col9\" >0.293349</td>\n",
       "      <td id=\"T_18e98_row10_col10\" class=\"data row10 col10\" >1.000000</td>\n",
       "      <td id=\"T_18e98_row10_col11\" class=\"data row10 col11\" >0.999539</td>\n",
       "      <td id=\"T_18e98_row10_col12\" class=\"data row10 col12\" >0.547836</td>\n",
       "      <td id=\"T_18e98_row10_col13\" class=\"data row10 col13\" >0.012704</td>\n",
       "      <td id=\"T_18e98_row10_col14\" class=\"data row10 col14\" >0.394901</td>\n",
       "      <td id=\"T_18e98_row10_col15\" class=\"data row10 col15\" >0.547836</td>\n",
       "      <td id=\"T_18e98_row10_col16\" class=\"data row10 col16\" >0.000000</td>\n",
       "      <td id=\"T_18e98_row10_col17\" class=\"data row10 col17\" >0.000000</td>\n",
       "      <td id=\"T_18e98_row10_col18\" class=\"data row10 col18\" >0.008355</td>\n",
       "      <td id=\"T_18e98_row10_col19\" class=\"data row10 col19\" >0.013051</td>\n",
       "      <td id=\"T_18e98_row10_col20\" class=\"data row10 col20\" >0.014967</td>\n",
       "      <td id=\"T_18e98_row10_col21\" class=\"data row10 col21\" >0.049187</td>\n",
       "      <td id=\"T_18e98_row10_col22\" class=\"data row10 col22\" >0.301638</td>\n",
       "      <td id=\"T_18e98_row10_col23\" class=\"data row10 col23\" >0.209255</td>\n",
       "      <td id=\"T_18e98_row10_col24\" class=\"data row10 col24\" >0.081553</td>\n",
       "      <td id=\"T_18e98_row10_col25\" class=\"data row10 col25\" >0.016435</td>\n",
       "      <td id=\"T_18e98_row10_col26\" class=\"data row10 col26\" >0.027017</td>\n",
       "      <td id=\"T_18e98_row10_col27\" class=\"data row10 col27\" >0.015108</td>\n",
       "      <td id=\"T_18e98_row10_col28\" class=\"data row10 col28\" >0.007386</td>\n",
       "      <td id=\"T_18e98_row10_col29\" class=\"data row10 col29\" >0.808857</td>\n",
       "      <td id=\"T_18e98_row10_col30\" class=\"data row10 col30\" >0.687412</td>\n",
       "    </tr>\n",
       "    <tr>\n",
       "      <th id=\"T_18e98_level0_row11\" class=\"row_heading level0 row11\" >MAX_TTL</th>\n",
       "      <td id=\"T_18e98_row11_col0\" class=\"data row11 col0\" >0.007493</td>\n",
       "      <td id=\"T_18e98_row11_col1\" class=\"data row11 col1\" >0.021025</td>\n",
       "      <td id=\"T_18e98_row11_col2\" class=\"data row11 col2\" >0.014180</td>\n",
       "      <td id=\"T_18e98_row11_col3\" class=\"data row11 col3\" >0.018066</td>\n",
       "      <td id=\"T_18e98_row11_col4\" class=\"data row11 col4\" >0.600929</td>\n",
       "      <td id=\"T_18e98_row11_col5\" class=\"data row11 col5\" >0.783736</td>\n",
       "      <td id=\"T_18e98_row11_col6\" class=\"data row11 col6\" >0.645234</td>\n",
       "      <td id=\"T_18e98_row11_col7\" class=\"data row11 col7\" >0.480870</td>\n",
       "      <td id=\"T_18e98_row11_col8\" class=\"data row11 col8\" >0.281591</td>\n",
       "      <td id=\"T_18e98_row11_col9\" class=\"data row11 col9\" >0.293108</td>\n",
       "      <td id=\"T_18e98_row11_col10\" class=\"data row11 col10\" >0.999539</td>\n",
       "      <td id=\"T_18e98_row11_col11\" class=\"data row11 col11\" >1.000000</td>\n",
       "      <td id=\"T_18e98_row11_col12\" class=\"data row11 col12\" >0.547172</td>\n",
       "      <td id=\"T_18e98_row11_col13\" class=\"data row11 col13\" >0.012446</td>\n",
       "      <td id=\"T_18e98_row11_col14\" class=\"data row11 col14\" >0.393993</td>\n",
       "      <td id=\"T_18e98_row11_col15\" class=\"data row11 col15\" >0.547172</td>\n",
       "      <td id=\"T_18e98_row11_col16\" class=\"data row11 col16\" >0.000000</td>\n",
       "      <td id=\"T_18e98_row11_col17\" class=\"data row11 col17\" >0.000000</td>\n",
       "      <td id=\"T_18e98_row11_col18\" class=\"data row11 col18\" >0.009517</td>\n",
       "      <td id=\"T_18e98_row11_col19\" class=\"data row11 col19\" >0.013636</td>\n",
       "      <td id=\"T_18e98_row11_col20\" class=\"data row11 col20\" >0.018222</td>\n",
       "      <td id=\"T_18e98_row11_col21\" class=\"data row11 col21\" >0.052242</td>\n",
       "      <td id=\"T_18e98_row11_col22\" class=\"data row11 col22\" >0.302156</td>\n",
       "      <td id=\"T_18e98_row11_col23\" class=\"data row11 col23\" >0.209199</td>\n",
       "      <td id=\"T_18e98_row11_col24\" class=\"data row11 col24\" >0.082449</td>\n",
       "      <td id=\"T_18e98_row11_col25\" class=\"data row11 col25\" >0.016487</td>\n",
       "      <td id=\"T_18e98_row11_col26\" class=\"data row11 col26\" >0.027039</td>\n",
       "      <td id=\"T_18e98_row11_col27\" class=\"data row11 col27\" >0.015139</td>\n",
       "      <td id=\"T_18e98_row11_col28\" class=\"data row11 col28\" >0.007697</td>\n",
       "      <td id=\"T_18e98_row11_col29\" class=\"data row11 col29\" >0.807841</td>\n",
       "      <td id=\"T_18e98_row11_col30\" class=\"data row11 col30\" >0.686687</td>\n",
       "    </tr>\n",
       "    <tr>\n",
       "      <th id=\"T_18e98_level0_row12\" class=\"row_heading level0 row12\" >LONGEST_FLOW_PKT</th>\n",
       "      <td id=\"T_18e98_row12_col0\" class=\"data row12 col0\" >0.015776</td>\n",
       "      <td id=\"T_18e98_row12_col1\" class=\"data row12 col1\" >0.008991</td>\n",
       "      <td id=\"T_18e98_row12_col2\" class=\"data row12 col2\" >0.045672</td>\n",
       "      <td id=\"T_18e98_row12_col3\" class=\"data row12 col3\" >0.021935</td>\n",
       "      <td id=\"T_18e98_row12_col4\" class=\"data row12 col4\" >0.548346</td>\n",
       "      <td id=\"T_18e98_row12_col5\" class=\"data row12 col5\" >0.698450</td>\n",
       "      <td id=\"T_18e98_row12_col6\" class=\"data row12 col6\" >0.588179</td>\n",
       "      <td id=\"T_18e98_row12_col7\" class=\"data row12 col7\" >0.195439</td>\n",
       "      <td id=\"T_18e98_row12_col8\" class=\"data row12 col8\" >0.180013</td>\n",
       "      <td id=\"T_18e98_row12_col9\" class=\"data row12 col9\" >0.212047</td>\n",
       "      <td id=\"T_18e98_row12_col10\" class=\"data row12 col10\" >0.547836</td>\n",
       "      <td id=\"T_18e98_row12_col11\" class=\"data row12 col11\" >0.547172</td>\n",
       "      <td id=\"T_18e98_row12_col12\" class=\"data row12 col12\" >1.000000</td>\n",
       "      <td id=\"T_18e98_row12_col13\" class=\"data row12 col13\" >0.013564</td>\n",
       "      <td id=\"T_18e98_row12_col14\" class=\"data row12 col14\" >0.295480</td>\n",
       "      <td id=\"T_18e98_row12_col15\" class=\"data row12 col15\" >1.000000</td>\n",
       "      <td id=\"T_18e98_row12_col16\" class=\"data row12 col16\" >0.000000</td>\n",
       "      <td id=\"T_18e98_row12_col17\" class=\"data row12 col17\" >-0.000000</td>\n",
       "      <td id=\"T_18e98_row12_col18\" class=\"data row12 col18\" >0.014532</td>\n",
       "      <td id=\"T_18e98_row12_col19\" class=\"data row12 col19\" >0.021176</td>\n",
       "      <td id=\"T_18e98_row12_col20\" class=\"data row12 col20\" >0.030633</td>\n",
       "      <td id=\"T_18e98_row12_col21\" class=\"data row12 col21\" >0.091619</td>\n",
       "      <td id=\"T_18e98_row12_col22\" class=\"data row12 col22\" >0.292372</td>\n",
       "      <td id=\"T_18e98_row12_col23\" class=\"data row12 col23\" >0.350417</td>\n",
       "      <td id=\"T_18e98_row12_col24\" class=\"data row12 col24\" >-0.008972</td>\n",
       "      <td id=\"T_18e98_row12_col25\" class=\"data row12 col25\" >0.010359</td>\n",
       "      <td id=\"T_18e98_row12_col26\" class=\"data row12 col26\" >0.046068</td>\n",
       "      <td id=\"T_18e98_row12_col27\" class=\"data row12 col27\" >0.034630</td>\n",
       "      <td id=\"T_18e98_row12_col28\" class=\"data row12 col28\" >0.015353</td>\n",
       "      <td id=\"T_18e98_row12_col29\" class=\"data row12 col29\" >0.615155</td>\n",
       "      <td id=\"T_18e98_row12_col30\" class=\"data row12 col30\" >0.613889</td>\n",
       "    </tr>\n",
       "    <tr>\n",
       "      <th id=\"T_18e98_level0_row13\" class=\"row_heading level0 row13\" >SHORTEST_FLOW_PKT</th>\n",
       "      <td id=\"T_18e98_row13_col0\" class=\"data row13 col0\" >0.000888</td>\n",
       "      <td id=\"T_18e98_row13_col1\" class=\"data row13 col1\" >-0.001936</td>\n",
       "      <td id=\"T_18e98_row13_col2\" class=\"data row13 col2\" >-0.001142</td>\n",
       "      <td id=\"T_18e98_row13_col3\" class=\"data row13 col3\" >-0.000941</td>\n",
       "      <td id=\"T_18e98_row13_col4\" class=\"data row13 col4\" >-0.204642</td>\n",
       "      <td id=\"T_18e98_row13_col5\" class=\"data row13 col5\" >-0.064396</td>\n",
       "      <td id=\"T_18e98_row13_col6\" class=\"data row13 col6\" >-0.154813</td>\n",
       "      <td id=\"T_18e98_row13_col7\" class=\"data row13 col7\" >0.000294</td>\n",
       "      <td id=\"T_18e98_row13_col8\" class=\"data row13 col8\" >-0.001938</td>\n",
       "      <td id=\"T_18e98_row13_col9\" class=\"data row13 col9\" >-0.006994</td>\n",
       "      <td id=\"T_18e98_row13_col10\" class=\"data row13 col10\" >0.012704</td>\n",
       "      <td id=\"T_18e98_row13_col11\" class=\"data row13 col11\" >0.012446</td>\n",
       "      <td id=\"T_18e98_row13_col12\" class=\"data row13 col12\" >0.013564</td>\n",
       "      <td id=\"T_18e98_row13_col13\" class=\"data row13 col13\" >1.000000</td>\n",
       "      <td id=\"T_18e98_row13_col14\" class=\"data row13 col14\" >0.219113</td>\n",
       "      <td id=\"T_18e98_row13_col15\" class=\"data row13 col15\" >0.013564</td>\n",
       "      <td id=\"T_18e98_row13_col16\" class=\"data row13 col16\" >0.000000</td>\n",
       "      <td id=\"T_18e98_row13_col17\" class=\"data row13 col17\" >0.000000</td>\n",
       "      <td id=\"T_18e98_row13_col18\" class=\"data row13 col18\" >0.005658</td>\n",
       "      <td id=\"T_18e98_row13_col19\" class=\"data row13 col19\" >0.004921</td>\n",
       "      <td id=\"T_18e98_row13_col20\" class=\"data row13 col20\" >0.000317</td>\n",
       "      <td id=\"T_18e98_row13_col21\" class=\"data row13 col21\" >0.003400</td>\n",
       "      <td id=\"T_18e98_row13_col22\" class=\"data row13 col22\" >0.021503</td>\n",
       "      <td id=\"T_18e98_row13_col23\" class=\"data row13 col23\" >-0.001755</td>\n",
       "      <td id=\"T_18e98_row13_col24\" class=\"data row13 col24\" >0.022697</td>\n",
       "      <td id=\"T_18e98_row13_col25\" class=\"data row13 col25\" >0.017937</td>\n",
       "      <td id=\"T_18e98_row13_col26\" class=\"data row13 col26\" >0.007224</td>\n",
       "      <td id=\"T_18e98_row13_col27\" class=\"data row13 col27\" >-0.001337</td>\n",
       "      <td id=\"T_18e98_row13_col28\" class=\"data row13 col28\" >0.000325</td>\n",
       "      <td id=\"T_18e98_row13_col29\" class=\"data row13 col29\" >-0.038015</td>\n",
       "      <td id=\"T_18e98_row13_col30\" class=\"data row13 col30\" >-0.072958</td>\n",
       "    </tr>\n",
       "    <tr>\n",
       "      <th id=\"T_18e98_level0_row14\" class=\"row_heading level0 row14\" >MIN_IP_PKT_LEN</th>\n",
       "      <td id=\"T_18e98_row14_col0\" class=\"data row14 col0\" >0.001093</td>\n",
       "      <td id=\"T_18e98_row14_col1\" class=\"data row14 col1\" >-0.002711</td>\n",
       "      <td id=\"T_18e98_row14_col2\" class=\"data row14 col2\" >0.004722</td>\n",
       "      <td id=\"T_18e98_row14_col3\" class=\"data row14 col3\" >0.007746</td>\n",
       "      <td id=\"T_18e98_row14_col4\" class=\"data row14 col4\" >0.429659</td>\n",
       "      <td id=\"T_18e98_row14_col5\" class=\"data row14 col5\" >0.348279</td>\n",
       "      <td id=\"T_18e98_row14_col6\" class=\"data row14 col6\" >0.532662</td>\n",
       "      <td id=\"T_18e98_row14_col7\" class=\"data row14 col7\" >0.285500</td>\n",
       "      <td id=\"T_18e98_row14_col8\" class=\"data row14 col8\" >0.138857</td>\n",
       "      <td id=\"T_18e98_row14_col9\" class=\"data row14 col9\" >0.162855</td>\n",
       "      <td id=\"T_18e98_row14_col10\" class=\"data row14 col10\" >0.394901</td>\n",
       "      <td id=\"T_18e98_row14_col11\" class=\"data row14 col11\" >0.393993</td>\n",
       "      <td id=\"T_18e98_row14_col12\" class=\"data row14 col12\" >0.295480</td>\n",
       "      <td id=\"T_18e98_row14_col13\" class=\"data row14 col13\" >0.219113</td>\n",
       "      <td id=\"T_18e98_row14_col14\" class=\"data row14 col14\" >1.000000</td>\n",
       "      <td id=\"T_18e98_row14_col15\" class=\"data row14 col15\" >0.295480</td>\n",
       "      <td id=\"T_18e98_row14_col16\" class=\"data row14 col16\" >-0.000000</td>\n",
       "      <td id=\"T_18e98_row14_col17\" class=\"data row14 col17\" >0.000000</td>\n",
       "      <td id=\"T_18e98_row14_col18\" class=\"data row14 col18\" >0.003778</td>\n",
       "      <td id=\"T_18e98_row14_col19\" class=\"data row14 col19\" >0.005596</td>\n",
       "      <td id=\"T_18e98_row14_col20\" class=\"data row14 col20\" >0.008431</td>\n",
       "      <td id=\"T_18e98_row14_col21\" class=\"data row14 col21\" >0.029438</td>\n",
       "      <td id=\"T_18e98_row14_col22\" class=\"data row14 col22\" >0.075567</td>\n",
       "      <td id=\"T_18e98_row14_col23\" class=\"data row14 col23\" >0.106561</td>\n",
       "      <td id=\"T_18e98_row14_col24\" class=\"data row14 col24\" >0.034653</td>\n",
       "      <td id=\"T_18e98_row14_col25\" class=\"data row14 col25\" >0.018957</td>\n",
       "      <td id=\"T_18e98_row14_col26\" class=\"data row14 col26\" >0.011857</td>\n",
       "      <td id=\"T_18e98_row14_col27\" class=\"data row14 col27\" >0.005302</td>\n",
       "      <td id=\"T_18e98_row14_col28\" class=\"data row14 col28\" >0.002450</td>\n",
       "      <td id=\"T_18e98_row14_col29\" class=\"data row14 col29\" >0.399199</td>\n",
       "      <td id=\"T_18e98_row14_col30\" class=\"data row14 col30\" >0.335653</td>\n",
       "    </tr>\n",
       "    <tr>\n",
       "      <th id=\"T_18e98_level0_row15\" class=\"row_heading level0 row15\" >MAX_IP_PKT_LEN</th>\n",
       "      <td id=\"T_18e98_row15_col0\" class=\"data row15 col0\" >0.015776</td>\n",
       "      <td id=\"T_18e98_row15_col1\" class=\"data row15 col1\" >0.008991</td>\n",
       "      <td id=\"T_18e98_row15_col2\" class=\"data row15 col2\" >0.045672</td>\n",
       "      <td id=\"T_18e98_row15_col3\" class=\"data row15 col3\" >0.021935</td>\n",
       "      <td id=\"T_18e98_row15_col4\" class=\"data row15 col4\" >0.548346</td>\n",
       "      <td id=\"T_18e98_row15_col5\" class=\"data row15 col5\" >0.698450</td>\n",
       "      <td id=\"T_18e98_row15_col6\" class=\"data row15 col6\" >0.588179</td>\n",
       "      <td id=\"T_18e98_row15_col7\" class=\"data row15 col7\" >0.195439</td>\n",
       "      <td id=\"T_18e98_row15_col8\" class=\"data row15 col8\" >0.180013</td>\n",
       "      <td id=\"T_18e98_row15_col9\" class=\"data row15 col9\" >0.212047</td>\n",
       "      <td id=\"T_18e98_row15_col10\" class=\"data row15 col10\" >0.547836</td>\n",
       "      <td id=\"T_18e98_row15_col11\" class=\"data row15 col11\" >0.547172</td>\n",
       "      <td id=\"T_18e98_row15_col12\" class=\"data row15 col12\" >1.000000</td>\n",
       "      <td id=\"T_18e98_row15_col13\" class=\"data row15 col13\" >0.013564</td>\n",
       "      <td id=\"T_18e98_row15_col14\" class=\"data row15 col14\" >0.295480</td>\n",
       "      <td id=\"T_18e98_row15_col15\" class=\"data row15 col15\" >1.000000</td>\n",
       "      <td id=\"T_18e98_row15_col16\" class=\"data row15 col16\" >0.000000</td>\n",
       "      <td id=\"T_18e98_row15_col17\" class=\"data row15 col17\" >-0.000000</td>\n",
       "      <td id=\"T_18e98_row15_col18\" class=\"data row15 col18\" >0.014532</td>\n",
       "      <td id=\"T_18e98_row15_col19\" class=\"data row15 col19\" >0.021176</td>\n",
       "      <td id=\"T_18e98_row15_col20\" class=\"data row15 col20\" >0.030633</td>\n",
       "      <td id=\"T_18e98_row15_col21\" class=\"data row15 col21\" >0.091619</td>\n",
       "      <td id=\"T_18e98_row15_col22\" class=\"data row15 col22\" >0.292372</td>\n",
       "      <td id=\"T_18e98_row15_col23\" class=\"data row15 col23\" >0.350417</td>\n",
       "      <td id=\"T_18e98_row15_col24\" class=\"data row15 col24\" >-0.008972</td>\n",
       "      <td id=\"T_18e98_row15_col25\" class=\"data row15 col25\" >0.010359</td>\n",
       "      <td id=\"T_18e98_row15_col26\" class=\"data row15 col26\" >0.046068</td>\n",
       "      <td id=\"T_18e98_row15_col27\" class=\"data row15 col27\" >0.034630</td>\n",
       "      <td id=\"T_18e98_row15_col28\" class=\"data row15 col28\" >0.015353</td>\n",
       "      <td id=\"T_18e98_row15_col29\" class=\"data row15 col29\" >0.615155</td>\n",
       "      <td id=\"T_18e98_row15_col30\" class=\"data row15 col30\" >0.613889</td>\n",
       "    </tr>\n",
       "    <tr>\n",
       "      <th id=\"T_18e98_level0_row16\" class=\"row_heading level0 row16\" >SRC_TO_DST_SECOND_BYTES</th>\n",
       "      <td id=\"T_18e98_row16_col0\" class=\"data row16 col0\" >nan</td>\n",
       "      <td id=\"T_18e98_row16_col1\" class=\"data row16 col1\" >0.000000</td>\n",
       "      <td id=\"T_18e98_row16_col2\" class=\"data row16 col2\" >-0.000000</td>\n",
       "      <td id=\"T_18e98_row16_col3\" class=\"data row16 col3\" >-0.000000</td>\n",
       "      <td id=\"T_18e98_row16_col4\" class=\"data row16 col4\" >-0.000000</td>\n",
       "      <td id=\"T_18e98_row16_col5\" class=\"data row16 col5\" >-0.000000</td>\n",
       "      <td id=\"T_18e98_row16_col6\" class=\"data row16 col6\" >-0.000000</td>\n",
       "      <td id=\"T_18e98_row16_col7\" class=\"data row16 col7\" >nan</td>\n",
       "      <td id=\"T_18e98_row16_col8\" class=\"data row16 col8\" >nan</td>\n",
       "      <td id=\"T_18e98_row16_col9\" class=\"data row16 col9\" >-0.000000</td>\n",
       "      <td id=\"T_18e98_row16_col10\" class=\"data row16 col10\" >0.000000</td>\n",
       "      <td id=\"T_18e98_row16_col11\" class=\"data row16 col11\" >0.000000</td>\n",
       "      <td id=\"T_18e98_row16_col12\" class=\"data row16 col12\" >0.000000</td>\n",
       "      <td id=\"T_18e98_row16_col13\" class=\"data row16 col13\" >0.000000</td>\n",
       "      <td id=\"T_18e98_row16_col14\" class=\"data row16 col14\" >-0.000000</td>\n",
       "      <td id=\"T_18e98_row16_col15\" class=\"data row16 col15\" >0.000000</td>\n",
       "      <td id=\"T_18e98_row16_col16\" class=\"data row16 col16\" >nan</td>\n",
       "      <td id=\"T_18e98_row16_col17\" class=\"data row16 col17\" >nan</td>\n",
       "      <td id=\"T_18e98_row16_col18\" class=\"data row16 col18\" >-0.000000</td>\n",
       "      <td id=\"T_18e98_row16_col19\" class=\"data row16 col19\" >-0.000000</td>\n",
       "      <td id=\"T_18e98_row16_col20\" class=\"data row16 col20\" >-0.000000</td>\n",
       "      <td id=\"T_18e98_row16_col21\" class=\"data row16 col21\" >-0.000000</td>\n",
       "      <td id=\"T_18e98_row16_col22\" class=\"data row16 col22\" >nan</td>\n",
       "      <td id=\"T_18e98_row16_col23\" class=\"data row16 col23\" >nan</td>\n",
       "      <td id=\"T_18e98_row16_col24\" class=\"data row16 col24\" >-0.000000</td>\n",
       "      <td id=\"T_18e98_row16_col25\" class=\"data row16 col25\" >-0.000000</td>\n",
       "      <td id=\"T_18e98_row16_col26\" class=\"data row16 col26\" >0.000000</td>\n",
       "      <td id=\"T_18e98_row16_col27\" class=\"data row16 col27\" >-0.000000</td>\n",
       "      <td id=\"T_18e98_row16_col28\" class=\"data row16 col28\" >-0.000000</td>\n",
       "      <td id=\"T_18e98_row16_col29\" class=\"data row16 col29\" >nan</td>\n",
       "      <td id=\"T_18e98_row16_col30\" class=\"data row16 col30\" >nan</td>\n",
       "    </tr>\n",
       "    <tr>\n",
       "      <th id=\"T_18e98_level0_row17\" class=\"row_heading level0 row17\" >DST_TO_SRC_SECOND_BYTES</th>\n",
       "      <td id=\"T_18e98_row17_col0\" class=\"data row17 col0\" >0.000000</td>\n",
       "      <td id=\"T_18e98_row17_col1\" class=\"data row17 col1\" >0.000000</td>\n",
       "      <td id=\"T_18e98_row17_col2\" class=\"data row17 col2\" >0.000000</td>\n",
       "      <td id=\"T_18e98_row17_col3\" class=\"data row17 col3\" >0.000000</td>\n",
       "      <td id=\"T_18e98_row17_col4\" class=\"data row17 col4\" >-0.000000</td>\n",
       "      <td id=\"T_18e98_row17_col5\" class=\"data row17 col5\" >-0.000000</td>\n",
       "      <td id=\"T_18e98_row17_col6\" class=\"data row17 col6\" >-0.000000</td>\n",
       "      <td id=\"T_18e98_row17_col7\" class=\"data row17 col7\" >0.000000</td>\n",
       "      <td id=\"T_18e98_row17_col8\" class=\"data row17 col8\" >0.000000</td>\n",
       "      <td id=\"T_18e98_row17_col9\" class=\"data row17 col9\" >0.000000</td>\n",
       "      <td id=\"T_18e98_row17_col10\" class=\"data row17 col10\" >0.000000</td>\n",
       "      <td id=\"T_18e98_row17_col11\" class=\"data row17 col11\" >0.000000</td>\n",
       "      <td id=\"T_18e98_row17_col12\" class=\"data row17 col12\" >-0.000000</td>\n",
       "      <td id=\"T_18e98_row17_col13\" class=\"data row17 col13\" >0.000000</td>\n",
       "      <td id=\"T_18e98_row17_col14\" class=\"data row17 col14\" >0.000000</td>\n",
       "      <td id=\"T_18e98_row17_col15\" class=\"data row17 col15\" >-0.000000</td>\n",
       "      <td id=\"T_18e98_row17_col16\" class=\"data row17 col16\" >nan</td>\n",
       "      <td id=\"T_18e98_row17_col17\" class=\"data row17 col17\" >nan</td>\n",
       "      <td id=\"T_18e98_row17_col18\" class=\"data row17 col18\" >-0.000000</td>\n",
       "      <td id=\"T_18e98_row17_col19\" class=\"data row17 col19\" >-0.000000</td>\n",
       "      <td id=\"T_18e98_row17_col20\" class=\"data row17 col20\" >-0.000000</td>\n",
       "      <td id=\"T_18e98_row17_col21\" class=\"data row17 col21\" >-0.000000</td>\n",
       "      <td id=\"T_18e98_row17_col22\" class=\"data row17 col22\" >-0.000000</td>\n",
       "      <td id=\"T_18e98_row17_col23\" class=\"data row17 col23\" >-0.000000</td>\n",
       "      <td id=\"T_18e98_row17_col24\" class=\"data row17 col24\" >0.000000</td>\n",
       "      <td id=\"T_18e98_row17_col25\" class=\"data row17 col25\" >0.000000</td>\n",
       "      <td id=\"T_18e98_row17_col26\" class=\"data row17 col26\" >-0.000000</td>\n",
       "      <td id=\"T_18e98_row17_col27\" class=\"data row17 col27\" >-0.000000</td>\n",
       "      <td id=\"T_18e98_row17_col28\" class=\"data row17 col28\" >-0.000000</td>\n",
       "      <td id=\"T_18e98_row17_col29\" class=\"data row17 col29\" >-0.000000</td>\n",
       "      <td id=\"T_18e98_row17_col30\" class=\"data row17 col30\" >-0.000000</td>\n",
       "    </tr>\n",
       "    <tr>\n",
       "      <th id=\"T_18e98_level0_row18\" class=\"row_heading level0 row18\" >RETRANSMITTED_IN_BYTES</th>\n",
       "      <td id=\"T_18e98_row18_col0\" class=\"data row18 col0\" >0.059492</td>\n",
       "      <td id=\"T_18e98_row18_col1\" class=\"data row18 col1\" >0.025262</td>\n",
       "      <td id=\"T_18e98_row18_col2\" class=\"data row18 col2\" >0.045648</td>\n",
       "      <td id=\"T_18e98_row18_col3\" class=\"data row18 col3\" >0.331501</td>\n",
       "      <td id=\"T_18e98_row18_col4\" class=\"data row18 col4\" >0.008499</td>\n",
       "      <td id=\"T_18e98_row18_col5\" class=\"data row18 col5\" >0.010819</td>\n",
       "      <td id=\"T_18e98_row18_col6\" class=\"data row18 col6\" >0.007993</td>\n",
       "      <td id=\"T_18e98_row18_col7\" class=\"data row18 col7\" >0.014072</td>\n",
       "      <td id=\"T_18e98_row18_col8\" class=\"data row18 col8\" >0.019769</td>\n",
       "      <td id=\"T_18e98_row18_col9\" class=\"data row18 col9\" >0.018903</td>\n",
       "      <td id=\"T_18e98_row18_col10\" class=\"data row18 col10\" >0.008355</td>\n",
       "      <td id=\"T_18e98_row18_col11\" class=\"data row18 col11\" >0.009517</td>\n",
       "      <td id=\"T_18e98_row18_col12\" class=\"data row18 col12\" >0.014532</td>\n",
       "      <td id=\"T_18e98_row18_col13\" class=\"data row18 col13\" >0.005658</td>\n",
       "      <td id=\"T_18e98_row18_col14\" class=\"data row18 col14\" >0.003778</td>\n",
       "      <td id=\"T_18e98_row18_col15\" class=\"data row18 col15\" >0.014532</td>\n",
       "      <td id=\"T_18e98_row18_col16\" class=\"data row18 col16\" >-0.000000</td>\n",
       "      <td id=\"T_18e98_row18_col17\" class=\"data row18 col17\" >-0.000000</td>\n",
       "      <td id=\"T_18e98_row18_col18\" class=\"data row18 col18\" >1.000000</td>\n",
       "      <td id=\"T_18e98_row18_col19\" class=\"data row18 col19\" >0.733951</td>\n",
       "      <td id=\"T_18e98_row18_col20\" class=\"data row18 col20\" >0.002706</td>\n",
       "      <td id=\"T_18e98_row18_col21\" class=\"data row18 col21\" >0.007212</td>\n",
       "      <td id=\"T_18e98_row18_col22\" class=\"data row18 col22\" >0.043500</td>\n",
       "      <td id=\"T_18e98_row18_col23\" class=\"data row18 col23\" >0.012100</td>\n",
       "      <td id=\"T_18e98_row18_col24\" class=\"data row18 col24\" >0.028017</td>\n",
       "      <td id=\"T_18e98_row18_col25\" class=\"data row18 col25\" >0.004935</td>\n",
       "      <td id=\"T_18e98_row18_col26\" class=\"data row18 col26\" >0.115045</td>\n",
       "      <td id=\"T_18e98_row18_col27\" class=\"data row18 col27\" >0.048204</td>\n",
       "      <td id=\"T_18e98_row18_col28\" class=\"data row18 col28\" >0.045836</td>\n",
       "      <td id=\"T_18e98_row18_col29\" class=\"data row18 col29\" >0.006661</td>\n",
       "      <td id=\"T_18e98_row18_col30\" class=\"data row18 col30\" >0.006675</td>\n",
       "    </tr>\n",
       "    <tr>\n",
       "      <th id=\"T_18e98_level0_row19\" class=\"row_heading level0 row19\" >RETRANSMITTED_IN_PKTS</th>\n",
       "      <td id=\"T_18e98_row19_col0\" class=\"data row19 col0\" >0.038401</td>\n",
       "      <td id=\"T_18e98_row19_col1\" class=\"data row19 col1\" >0.039215</td>\n",
       "      <td id=\"T_18e98_row19_col2\" class=\"data row19 col2\" >0.028087</td>\n",
       "      <td id=\"T_18e98_row19_col3\" class=\"data row19 col3\" >0.152466</td>\n",
       "      <td id=\"T_18e98_row19_col4\" class=\"data row19 col4\" >0.013016</td>\n",
       "      <td id=\"T_18e98_row19_col5\" class=\"data row19 col5\" >0.016426</td>\n",
       "      <td id=\"T_18e98_row19_col6\" class=\"data row19 col6\" >0.012144</td>\n",
       "      <td id=\"T_18e98_row19_col7\" class=\"data row19 col7\" >0.020946</td>\n",
       "      <td id=\"T_18e98_row19_col8\" class=\"data row19 col8\" >0.024779</td>\n",
       "      <td id=\"T_18e98_row19_col9\" class=\"data row19 col9\" >0.022589</td>\n",
       "      <td id=\"T_18e98_row19_col10\" class=\"data row19 col10\" >0.013051</td>\n",
       "      <td id=\"T_18e98_row19_col11\" class=\"data row19 col11\" >0.013636</td>\n",
       "      <td id=\"T_18e98_row19_col12\" class=\"data row19 col12\" >0.021176</td>\n",
       "      <td id=\"T_18e98_row19_col13\" class=\"data row19 col13\" >0.004921</td>\n",
       "      <td id=\"T_18e98_row19_col14\" class=\"data row19 col14\" >0.005596</td>\n",
       "      <td id=\"T_18e98_row19_col15\" class=\"data row19 col15\" >0.021176</td>\n",
       "      <td id=\"T_18e98_row19_col16\" class=\"data row19 col16\" >-0.000000</td>\n",
       "      <td id=\"T_18e98_row19_col17\" class=\"data row19 col17\" >-0.000000</td>\n",
       "      <td id=\"T_18e98_row19_col18\" class=\"data row19 col18\" >0.733951</td>\n",
       "      <td id=\"T_18e98_row19_col19\" class=\"data row19 col19\" >1.000000</td>\n",
       "      <td id=\"T_18e98_row19_col20\" class=\"data row19 col20\" >0.004902</td>\n",
       "      <td id=\"T_18e98_row19_col21\" class=\"data row19 col21\" >0.012168</td>\n",
       "      <td id=\"T_18e98_row19_col22\" class=\"data row19 col22\" >0.023525</td>\n",
       "      <td id=\"T_18e98_row19_col23\" class=\"data row19 col23\" >0.006470</td>\n",
       "      <td id=\"T_18e98_row19_col24\" class=\"data row19 col24\" >0.015650</td>\n",
       "      <td id=\"T_18e98_row19_col25\" class=\"data row19 col25\" >0.018149</td>\n",
       "      <td id=\"T_18e98_row19_col26\" class=\"data row19 col26\" >0.208911</td>\n",
       "      <td id=\"T_18e98_row19_col27\" class=\"data row19 col27\" >0.043261</td>\n",
       "      <td id=\"T_18e98_row19_col28\" class=\"data row19 col28\" >0.023242</td>\n",
       "      <td id=\"T_18e98_row19_col29\" class=\"data row19 col29\" >0.010772</td>\n",
       "      <td id=\"T_18e98_row19_col30\" class=\"data row19 col30\" >0.011581</td>\n",
       "    </tr>\n",
       "    <tr>\n",
       "      <th id=\"T_18e98_level0_row20\" class=\"row_heading level0 row20\" >RETRANSMITTED_OUT_BYTES</th>\n",
       "      <td id=\"T_18e98_row20_col0\" class=\"data row20 col0\" >0.074770</td>\n",
       "      <td id=\"T_18e98_row20_col1\" class=\"data row20 col1\" >0.395779</td>\n",
       "      <td id=\"T_18e98_row20_col2\" class=\"data row20 col2\" >0.290079</td>\n",
       "      <td id=\"T_18e98_row20_col3\" class=\"data row20 col3\" >0.099993</td>\n",
       "      <td id=\"T_18e98_row20_col4\" class=\"data row20 col4\" >0.017340</td>\n",
       "      <td id=\"T_18e98_row20_col5\" class=\"data row20 col5\" >0.020695</td>\n",
       "      <td id=\"T_18e98_row20_col6\" class=\"data row20 col6\" >0.017794</td>\n",
       "      <td id=\"T_18e98_row20_col7\" class=\"data row20 col7\" >0.024762</td>\n",
       "      <td id=\"T_18e98_row20_col8\" class=\"data row20 col8\" >0.014800</td>\n",
       "      <td id=\"T_18e98_row20_col9\" class=\"data row20 col9\" >0.019144</td>\n",
       "      <td id=\"T_18e98_row20_col10\" class=\"data row20 col10\" >0.014967</td>\n",
       "      <td id=\"T_18e98_row20_col11\" class=\"data row20 col11\" >0.018222</td>\n",
       "      <td id=\"T_18e98_row20_col12\" class=\"data row20 col12\" >0.030633</td>\n",
       "      <td id=\"T_18e98_row20_col13\" class=\"data row20 col13\" >0.000317</td>\n",
       "      <td id=\"T_18e98_row20_col14\" class=\"data row20 col14\" >0.008431</td>\n",
       "      <td id=\"T_18e98_row20_col15\" class=\"data row20 col15\" >0.030633</td>\n",
       "      <td id=\"T_18e98_row20_col16\" class=\"data row20 col16\" >-0.000000</td>\n",
       "      <td id=\"T_18e98_row20_col17\" class=\"data row20 col17\" >-0.000000</td>\n",
       "      <td id=\"T_18e98_row20_col18\" class=\"data row20 col18\" >0.002706</td>\n",
       "      <td id=\"T_18e98_row20_col19\" class=\"data row20 col19\" >0.004902</td>\n",
       "      <td id=\"T_18e98_row20_col20\" class=\"data row20 col20\" >1.000000</td>\n",
       "      <td id=\"T_18e98_row20_col21\" class=\"data row20 col21\" >0.945394</td>\n",
       "      <td id=\"T_18e98_row20_col22\" class=\"data row20 col22\" >0.047624</td>\n",
       "      <td id=\"T_18e98_row20_col23\" class=\"data row20 col23\" >0.097092</td>\n",
       "      <td id=\"T_18e98_row20_col24\" class=\"data row20 col24\" >0.064519</td>\n",
       "      <td id=\"T_18e98_row20_col25\" class=\"data row20 col25\" >0.003453</td>\n",
       "      <td id=\"T_18e98_row20_col26\" class=\"data row20 col26\" >0.028500</td>\n",
       "      <td id=\"T_18e98_row20_col27\" class=\"data row20 col27\" >0.035827</td>\n",
       "      <td id=\"T_18e98_row20_col28\" class=\"data row20 col28\" >0.180848</td>\n",
       "      <td id=\"T_18e98_row20_col29\" class=\"data row20 col29\" >0.015582</td>\n",
       "      <td id=\"T_18e98_row20_col30\" class=\"data row20 col30\" >0.011500</td>\n",
       "    </tr>\n",
       "    <tr>\n",
       "      <th id=\"T_18e98_level0_row21\" class=\"row_heading level0 row21\" >RETRANSMITTED_OUT_PKTS</th>\n",
       "      <td id=\"T_18e98_row21_col0\" class=\"data row21 col0\" >0.074486</td>\n",
       "      <td id=\"T_18e98_row21_col1\" class=\"data row21 col1\" >0.373832</td>\n",
       "      <td id=\"T_18e98_row21_col2\" class=\"data row21 col2\" >0.270363</td>\n",
       "      <td id=\"T_18e98_row21_col3\" class=\"data row21 col3\" >0.134847</td>\n",
       "      <td id=\"T_18e98_row21_col4\" class=\"data row21 col4\" >0.051894</td>\n",
       "      <td id=\"T_18e98_row21_col5\" class=\"data row21 col5\" >0.062478</td>\n",
       "      <td id=\"T_18e98_row21_col6\" class=\"data row21 col6\" >0.055883</td>\n",
       "      <td id=\"T_18e98_row21_col7\" class=\"data row21 col7\" >0.082238</td>\n",
       "      <td id=\"T_18e98_row21_col8\" class=\"data row21 col8\" >0.047763</td>\n",
       "      <td id=\"T_18e98_row21_col9\" class=\"data row21 col9\" >0.063158</td>\n",
       "      <td id=\"T_18e98_row21_col10\" class=\"data row21 col10\" >0.049187</td>\n",
       "      <td id=\"T_18e98_row21_col11\" class=\"data row21 col11\" >0.052242</td>\n",
       "      <td id=\"T_18e98_row21_col12\" class=\"data row21 col12\" >0.091619</td>\n",
       "      <td id=\"T_18e98_row21_col13\" class=\"data row21 col13\" >0.003400</td>\n",
       "      <td id=\"T_18e98_row21_col14\" class=\"data row21 col14\" >0.029438</td>\n",
       "      <td id=\"T_18e98_row21_col15\" class=\"data row21 col15\" >0.091619</td>\n",
       "      <td id=\"T_18e98_row21_col16\" class=\"data row21 col16\" >-0.000000</td>\n",
       "      <td id=\"T_18e98_row21_col17\" class=\"data row21 col17\" >-0.000000</td>\n",
       "      <td id=\"T_18e98_row21_col18\" class=\"data row21 col18\" >0.007212</td>\n",
       "      <td id=\"T_18e98_row21_col19\" class=\"data row21 col19\" >0.012168</td>\n",
       "      <td id=\"T_18e98_row21_col20\" class=\"data row21 col20\" >0.945394</td>\n",
       "      <td id=\"T_18e98_row21_col21\" class=\"data row21 col21\" >1.000000</td>\n",
       "      <td id=\"T_18e98_row21_col22\" class=\"data row21 col22\" >0.046903</td>\n",
       "      <td id=\"T_18e98_row21_col23\" class=\"data row21 col23\" >0.084218</td>\n",
       "      <td id=\"T_18e98_row21_col24\" class=\"data row21 col24\" >0.063082</td>\n",
       "      <td id=\"T_18e98_row21_col25\" class=\"data row21 col25\" >0.020380</td>\n",
       "      <td id=\"T_18e98_row21_col26\" class=\"data row21 col26\" >0.061886</td>\n",
       "      <td id=\"T_18e98_row21_col27\" class=\"data row21 col27\" >0.063055</td>\n",
       "      <td id=\"T_18e98_row21_col28\" class=\"data row21 col28\" >0.164087</td>\n",
       "      <td id=\"T_18e98_row21_col29\" class=\"data row21 col29\" >0.052527</td>\n",
       "      <td id=\"T_18e98_row21_col30\" class=\"data row21 col30\" >0.039026</td>\n",
       "    </tr>\n",
       "    <tr>\n",
       "      <th id=\"T_18e98_level0_row22\" class=\"row_heading level0 row22\" >SRC_TO_DST_AVG_THROUGHPUT</th>\n",
       "      <td id=\"T_18e98_row22_col0\" class=\"data row22 col0\" >0.170296</td>\n",
       "      <td id=\"T_18e98_row22_col1\" class=\"data row22 col1\" >0.169769</td>\n",
       "      <td id=\"T_18e98_row22_col2\" class=\"data row22 col2\" >0.023509</td>\n",
       "      <td id=\"T_18e98_row22_col3\" class=\"data row22 col3\" >0.060098</td>\n",
       "      <td id=\"T_18e98_row22_col4\" class=\"data row22 col4\" >0.158082</td>\n",
       "      <td id=\"T_18e98_row22_col5\" class=\"data row22 col5\" >0.201980</td>\n",
       "      <td id=\"T_18e98_row22_col6\" class=\"data row22 col6\" >0.168953</td>\n",
       "      <td id=\"T_18e98_row22_col7\" class=\"data row22 col7\" >-0.049758</td>\n",
       "      <td id=\"T_18e98_row22_col8\" class=\"data row22 col8\" >-0.001203</td>\n",
       "      <td id=\"T_18e98_row22_col9\" class=\"data row22 col9\" >0.003850</td>\n",
       "      <td id=\"T_18e98_row22_col10\" class=\"data row22 col10\" >0.301638</td>\n",
       "      <td id=\"T_18e98_row22_col11\" class=\"data row22 col11\" >0.302156</td>\n",
       "      <td id=\"T_18e98_row22_col12\" class=\"data row22 col12\" >0.292372</td>\n",
       "      <td id=\"T_18e98_row22_col13\" class=\"data row22 col13\" >0.021503</td>\n",
       "      <td id=\"T_18e98_row22_col14\" class=\"data row22 col14\" >0.075567</td>\n",
       "      <td id=\"T_18e98_row22_col15\" class=\"data row22 col15\" >0.292372</td>\n",
       "      <td id=\"T_18e98_row22_col16\" class=\"data row22 col16\" >nan</td>\n",
       "      <td id=\"T_18e98_row22_col17\" class=\"data row22 col17\" >-0.000000</td>\n",
       "      <td id=\"T_18e98_row22_col18\" class=\"data row22 col18\" >0.043500</td>\n",
       "      <td id=\"T_18e98_row22_col19\" class=\"data row22 col19\" >0.023525</td>\n",
       "      <td id=\"T_18e98_row22_col20\" class=\"data row22 col20\" >0.047624</td>\n",
       "      <td id=\"T_18e98_row22_col21\" class=\"data row22 col21\" >0.046903</td>\n",
       "      <td id=\"T_18e98_row22_col22\" class=\"data row22 col22\" >1.000000</td>\n",
       "      <td id=\"T_18e98_row22_col23\" class=\"data row22 col23\" >0.186879</td>\n",
       "      <td id=\"T_18e98_row22_col24\" class=\"data row22 col24\" >0.068907</td>\n",
       "      <td id=\"T_18e98_row22_col25\" class=\"data row22 col25\" >0.052901</td>\n",
       "      <td id=\"T_18e98_row22_col26\" class=\"data row22 col26\" >0.065689</td>\n",
       "      <td id=\"T_18e98_row22_col27\" class=\"data row22 col27\" >0.096827</td>\n",
       "      <td id=\"T_18e98_row22_col28\" class=\"data row22 col28\" >0.104747</td>\n",
       "      <td id=\"T_18e98_row22_col29\" class=\"data row22 col29\" >0.166500</td>\n",
       "      <td id=\"T_18e98_row22_col30\" class=\"data row22 col30\" >0.125083</td>\n",
       "    </tr>\n",
       "    <tr>\n",
       "      <th id=\"T_18e98_level0_row23\" class=\"row_heading level0 row23\" >DST_TO_SRC_AVG_THROUGHPUT</th>\n",
       "      <td id=\"T_18e98_row23_col0\" class=\"data row23 col0\" >0.008430</td>\n",
       "      <td id=\"T_18e98_row23_col1\" class=\"data row23 col1\" >0.028892</td>\n",
       "      <td id=\"T_18e98_row23_col2\" class=\"data row23 col2\" >0.222337</td>\n",
       "      <td id=\"T_18e98_row23_col3\" class=\"data row23 col3\" >0.080231</td>\n",
       "      <td id=\"T_18e98_row23_col4\" class=\"data row23 col4\" >0.176961</td>\n",
       "      <td id=\"T_18e98_row23_col5\" class=\"data row23 col5\" >0.216151</td>\n",
       "      <td id=\"T_18e98_row23_col6\" class=\"data row23 col6\" >0.188063</td>\n",
       "      <td id=\"T_18e98_row23_col7\" class=\"data row23 col7\" >-0.043958</td>\n",
       "      <td id=\"T_18e98_row23_col8\" class=\"data row23 col8\" >-0.012288</td>\n",
       "      <td id=\"T_18e98_row23_col9\" class=\"data row23 col9\" >-0.011610</td>\n",
       "      <td id=\"T_18e98_row23_col10\" class=\"data row23 col10\" >0.209255</td>\n",
       "      <td id=\"T_18e98_row23_col11\" class=\"data row23 col11\" >0.209199</td>\n",
       "      <td id=\"T_18e98_row23_col12\" class=\"data row23 col12\" >0.350417</td>\n",
       "      <td id=\"T_18e98_row23_col13\" class=\"data row23 col13\" >-0.001755</td>\n",
       "      <td id=\"T_18e98_row23_col14\" class=\"data row23 col14\" >0.106561</td>\n",
       "      <td id=\"T_18e98_row23_col15\" class=\"data row23 col15\" >0.350417</td>\n",
       "      <td id=\"T_18e98_row23_col16\" class=\"data row23 col16\" >nan</td>\n",
       "      <td id=\"T_18e98_row23_col17\" class=\"data row23 col17\" >-0.000000</td>\n",
       "      <td id=\"T_18e98_row23_col18\" class=\"data row23 col18\" >0.012100</td>\n",
       "      <td id=\"T_18e98_row23_col19\" class=\"data row23 col19\" >0.006470</td>\n",
       "      <td id=\"T_18e98_row23_col20\" class=\"data row23 col20\" >0.097092</td>\n",
       "      <td id=\"T_18e98_row23_col21\" class=\"data row23 col21\" >0.084218</td>\n",
       "      <td id=\"T_18e98_row23_col22\" class=\"data row23 col22\" >0.186879</td>\n",
       "      <td id=\"T_18e98_row23_col23\" class=\"data row23 col23\" >1.000000</td>\n",
       "      <td id=\"T_18e98_row23_col24\" class=\"data row23 col24\" >0.040272</td>\n",
       "      <td id=\"T_18e98_row23_col25\" class=\"data row23 col25\" >0.038003</td>\n",
       "      <td id=\"T_18e98_row23_col26\" class=\"data row23 col26\" >0.039616</td>\n",
       "      <td id=\"T_18e98_row23_col27\" class=\"data row23 col27\" >0.048364</td>\n",
       "      <td id=\"T_18e98_row23_col28\" class=\"data row23 col28\" >0.107122</td>\n",
       "      <td id=\"T_18e98_row23_col29\" class=\"data row23 col29\" >0.213613</td>\n",
       "      <td id=\"T_18e98_row23_col30\" class=\"data row23 col30\" >0.169104</td>\n",
       "    </tr>\n",
       "    <tr>\n",
       "      <th id=\"T_18e98_level0_row24\" class=\"row_heading level0 row24\" >NUM_PKTS_UP_TO_128_BYTES</th>\n",
       "      <td id=\"T_18e98_row24_col0\" class=\"data row24 col0\" >0.038961</td>\n",
       "      <td id=\"T_18e98_row24_col1\" class=\"data row24 col1\" >0.161568</td>\n",
       "      <td id=\"T_18e98_row24_col2\" class=\"data row24 col2\" >0.032279</td>\n",
       "      <td id=\"T_18e98_row24_col3\" class=\"data row24 col3\" >0.094454</td>\n",
       "      <td id=\"T_18e98_row24_col4\" class=\"data row24 col4\" >-0.028260</td>\n",
       "      <td id=\"T_18e98_row24_col5\" class=\"data row24 col5\" >-0.021205</td>\n",
       "      <td id=\"T_18e98_row24_col6\" class=\"data row24 col6\" >-0.023668</td>\n",
       "      <td id=\"T_18e98_row24_col7\" class=\"data row24 col7\" >-0.009617</td>\n",
       "      <td id=\"T_18e98_row24_col8\" class=\"data row24 col8\" >0.000708</td>\n",
       "      <td id=\"T_18e98_row24_col9\" class=\"data row24 col9\" >0.001102</td>\n",
       "      <td id=\"T_18e98_row24_col10\" class=\"data row24 col10\" >0.081553</td>\n",
       "      <td id=\"T_18e98_row24_col11\" class=\"data row24 col11\" >0.082449</td>\n",
       "      <td id=\"T_18e98_row24_col12\" class=\"data row24 col12\" >-0.008972</td>\n",
       "      <td id=\"T_18e98_row24_col13\" class=\"data row24 col13\" >0.022697</td>\n",
       "      <td id=\"T_18e98_row24_col14\" class=\"data row24 col14\" >0.034653</td>\n",
       "      <td id=\"T_18e98_row24_col15\" class=\"data row24 col15\" >-0.008972</td>\n",
       "      <td id=\"T_18e98_row24_col16\" class=\"data row24 col16\" >-0.000000</td>\n",
       "      <td id=\"T_18e98_row24_col17\" class=\"data row24 col17\" >0.000000</td>\n",
       "      <td id=\"T_18e98_row24_col18\" class=\"data row24 col18\" >0.028017</td>\n",
       "      <td id=\"T_18e98_row24_col19\" class=\"data row24 col19\" >0.015650</td>\n",
       "      <td id=\"T_18e98_row24_col20\" class=\"data row24 col20\" >0.064519</td>\n",
       "      <td id=\"T_18e98_row24_col21\" class=\"data row24 col21\" >0.063082</td>\n",
       "      <td id=\"T_18e98_row24_col22\" class=\"data row24 col22\" >0.068907</td>\n",
       "      <td id=\"T_18e98_row24_col23\" class=\"data row24 col23\" >0.040272</td>\n",
       "      <td id=\"T_18e98_row24_col24\" class=\"data row24 col24\" >1.000000</td>\n",
       "      <td id=\"T_18e98_row24_col25\" class=\"data row24 col25\" >0.015050</td>\n",
       "      <td id=\"T_18e98_row24_col26\" class=\"data row24 col26\" >0.021115</td>\n",
       "      <td id=\"T_18e98_row24_col27\" class=\"data row24 col27\" >0.028247</td>\n",
       "      <td id=\"T_18e98_row24_col28\" class=\"data row24 col28\" >0.015682</td>\n",
       "      <td id=\"T_18e98_row24_col29\" class=\"data row24 col29\" >-0.019778</td>\n",
       "      <td id=\"T_18e98_row24_col30\" class=\"data row24 col30\" >-0.014362</td>\n",
       "    </tr>\n",
       "    <tr>\n",
       "      <th id=\"T_18e98_level0_row25\" class=\"row_heading level0 row25\" >NUM_PKTS_128_TO_256_BYTES</th>\n",
       "      <td id=\"T_18e98_row25_col0\" class=\"data row25 col0\" >0.050082</td>\n",
       "      <td id=\"T_18e98_row25_col1\" class=\"data row25 col1\" >0.059166</td>\n",
       "      <td id=\"T_18e98_row25_col2\" class=\"data row25 col2\" >0.079728</td>\n",
       "      <td id=\"T_18e98_row25_col3\" class=\"data row25 col3\" >0.141774</td>\n",
       "      <td id=\"T_18e98_row25_col4\" class=\"data row25 col4\" >0.005177</td>\n",
       "      <td id=\"T_18e98_row25_col5\" class=\"data row25 col5\" >0.008054</td>\n",
       "      <td id=\"T_18e98_row25_col6\" class=\"data row25 col6\" >0.005823</td>\n",
       "      <td id=\"T_18e98_row25_col7\" class=\"data row25 col7\" >0.004158</td>\n",
       "      <td id=\"T_18e98_row25_col8\" class=\"data row25 col8\" >0.022519</td>\n",
       "      <td id=\"T_18e98_row25_col9\" class=\"data row25 col9\" >0.049128</td>\n",
       "      <td id=\"T_18e98_row25_col10\" class=\"data row25 col10\" >0.016435</td>\n",
       "      <td id=\"T_18e98_row25_col11\" class=\"data row25 col11\" >0.016487</td>\n",
       "      <td id=\"T_18e98_row25_col12\" class=\"data row25 col12\" >0.010359</td>\n",
       "      <td id=\"T_18e98_row25_col13\" class=\"data row25 col13\" >0.017937</td>\n",
       "      <td id=\"T_18e98_row25_col14\" class=\"data row25 col14\" >0.018957</td>\n",
       "      <td id=\"T_18e98_row25_col15\" class=\"data row25 col15\" >0.010359</td>\n",
       "      <td id=\"T_18e98_row25_col16\" class=\"data row25 col16\" >-0.000000</td>\n",
       "      <td id=\"T_18e98_row25_col17\" class=\"data row25 col17\" >0.000000</td>\n",
       "      <td id=\"T_18e98_row25_col18\" class=\"data row25 col18\" >0.004935</td>\n",
       "      <td id=\"T_18e98_row25_col19\" class=\"data row25 col19\" >0.018149</td>\n",
       "      <td id=\"T_18e98_row25_col20\" class=\"data row25 col20\" >0.003453</td>\n",
       "      <td id=\"T_18e98_row25_col21\" class=\"data row25 col21\" >0.020380</td>\n",
       "      <td id=\"T_18e98_row25_col22\" class=\"data row25 col22\" >0.052901</td>\n",
       "      <td id=\"T_18e98_row25_col23\" class=\"data row25 col23\" >0.038003</td>\n",
       "      <td id=\"T_18e98_row25_col24\" class=\"data row25 col24\" >0.015050</td>\n",
       "      <td id=\"T_18e98_row25_col25\" class=\"data row25 col25\" >1.000000</td>\n",
       "      <td id=\"T_18e98_row25_col26\" class=\"data row25 col26\" >0.120943</td>\n",
       "      <td id=\"T_18e98_row25_col27\" class=\"data row25 col27\" >0.129860</td>\n",
       "      <td id=\"T_18e98_row25_col28\" class=\"data row25 col28\" >0.028695</td>\n",
       "      <td id=\"T_18e98_row25_col29\" class=\"data row25 col29\" >0.000729</td>\n",
       "      <td id=\"T_18e98_row25_col30\" class=\"data row25 col30\" >0.000869</td>\n",
       "    </tr>\n",
       "    <tr>\n",
       "      <th id=\"T_18e98_level0_row26\" class=\"row_heading level0 row26\" >NUM_PKTS_256_TO_512_BYTES</th>\n",
       "      <td id=\"T_18e98_row26_col0\" class=\"data row26 col0\" >0.167247</td>\n",
       "      <td id=\"T_18e98_row26_col1\" class=\"data row26 col1\" >0.115114</td>\n",
       "      <td id=\"T_18e98_row26_col2\" class=\"data row26 col2\" >0.215708</td>\n",
       "      <td id=\"T_18e98_row26_col3\" class=\"data row26 col3\" >0.243923</td>\n",
       "      <td id=\"T_18e98_row26_col4\" class=\"data row26 col4\" >0.024101</td>\n",
       "      <td id=\"T_18e98_row26_col5\" class=\"data row26 col5\" >0.030098</td>\n",
       "      <td id=\"T_18e98_row26_col6\" class=\"data row26 col6\" >0.024735</td>\n",
       "      <td id=\"T_18e98_row26_col7\" class=\"data row26 col7\" >0.027839</td>\n",
       "      <td id=\"T_18e98_row26_col8\" class=\"data row26 col8\" >0.057844</td>\n",
       "      <td id=\"T_18e98_row26_col9\" class=\"data row26 col9\" >0.030378</td>\n",
       "      <td id=\"T_18e98_row26_col10\" class=\"data row26 col10\" >0.027017</td>\n",
       "      <td id=\"T_18e98_row26_col11\" class=\"data row26 col11\" >0.027039</td>\n",
       "      <td id=\"T_18e98_row26_col12\" class=\"data row26 col12\" >0.046068</td>\n",
       "      <td id=\"T_18e98_row26_col13\" class=\"data row26 col13\" >0.007224</td>\n",
       "      <td id=\"T_18e98_row26_col14\" class=\"data row26 col14\" >0.011857</td>\n",
       "      <td id=\"T_18e98_row26_col15\" class=\"data row26 col15\" >0.046068</td>\n",
       "      <td id=\"T_18e98_row26_col16\" class=\"data row26 col16\" >0.000000</td>\n",
       "      <td id=\"T_18e98_row26_col17\" class=\"data row26 col17\" >-0.000000</td>\n",
       "      <td id=\"T_18e98_row26_col18\" class=\"data row26 col18\" >0.115045</td>\n",
       "      <td id=\"T_18e98_row26_col19\" class=\"data row26 col19\" >0.208911</td>\n",
       "      <td id=\"T_18e98_row26_col20\" class=\"data row26 col20\" >0.028500</td>\n",
       "      <td id=\"T_18e98_row26_col21\" class=\"data row26 col21\" >0.061886</td>\n",
       "      <td id=\"T_18e98_row26_col22\" class=\"data row26 col22\" >0.065689</td>\n",
       "      <td id=\"T_18e98_row26_col23\" class=\"data row26 col23\" >0.039616</td>\n",
       "      <td id=\"T_18e98_row26_col24\" class=\"data row26 col24\" >0.021115</td>\n",
       "      <td id=\"T_18e98_row26_col25\" class=\"data row26 col25\" >0.120943</td>\n",
       "      <td id=\"T_18e98_row26_col26\" class=\"data row26 col26\" >1.000000</td>\n",
       "      <td id=\"T_18e98_row26_col27\" class=\"data row26 col27\" >0.685737</td>\n",
       "      <td id=\"T_18e98_row26_col28\" class=\"data row26 col28\" >0.079173</td>\n",
       "      <td id=\"T_18e98_row26_col29\" class=\"data row26 col29\" >0.019748</td>\n",
       "      <td id=\"T_18e98_row26_col30\" class=\"data row26 col30\" >0.020231</td>\n",
       "    </tr>\n",
       "    <tr>\n",
       "      <th id=\"T_18e98_level0_row27\" class=\"row_heading level0 row27\" >NUM_PKTS_512_TO_1024_BYTES</th>\n",
       "      <td id=\"T_18e98_row27_col0\" class=\"data row27 col0\" >0.263966</td>\n",
       "      <td id=\"T_18e98_row27_col1\" class=\"data row27 col1\" >0.147253</td>\n",
       "      <td id=\"T_18e98_row27_col2\" class=\"data row27 col2\" >0.269381</td>\n",
       "      <td id=\"T_18e98_row27_col3\" class=\"data row27 col3\" >0.296310</td>\n",
       "      <td id=\"T_18e98_row27_col4\" class=\"data row27 col4\" >0.012865</td>\n",
       "      <td id=\"T_18e98_row27_col5\" class=\"data row27 col5\" >0.015686</td>\n",
       "      <td id=\"T_18e98_row27_col6\" class=\"data row27 col6\" >0.012140</td>\n",
       "      <td id=\"T_18e98_row27_col7\" class=\"data row27 col7\" >0.009819</td>\n",
       "      <td id=\"T_18e98_row27_col8\" class=\"data row27 col8\" >0.015781</td>\n",
       "      <td id=\"T_18e98_row27_col9\" class=\"data row27 col9\" >0.017843</td>\n",
       "      <td id=\"T_18e98_row27_col10\" class=\"data row27 col10\" >0.015108</td>\n",
       "      <td id=\"T_18e98_row27_col11\" class=\"data row27 col11\" >0.015139</td>\n",
       "      <td id=\"T_18e98_row27_col12\" class=\"data row27 col12\" >0.034630</td>\n",
       "      <td id=\"T_18e98_row27_col13\" class=\"data row27 col13\" >-0.001337</td>\n",
       "      <td id=\"T_18e98_row27_col14\" class=\"data row27 col14\" >0.005302</td>\n",
       "      <td id=\"T_18e98_row27_col15\" class=\"data row27 col15\" >0.034630</td>\n",
       "      <td id=\"T_18e98_row27_col16\" class=\"data row27 col16\" >-0.000000</td>\n",
       "      <td id=\"T_18e98_row27_col17\" class=\"data row27 col17\" >-0.000000</td>\n",
       "      <td id=\"T_18e98_row27_col18\" class=\"data row27 col18\" >0.048204</td>\n",
       "      <td id=\"T_18e98_row27_col19\" class=\"data row27 col19\" >0.043261</td>\n",
       "      <td id=\"T_18e98_row27_col20\" class=\"data row27 col20\" >0.035827</td>\n",
       "      <td id=\"T_18e98_row27_col21\" class=\"data row27 col21\" >0.063055</td>\n",
       "      <td id=\"T_18e98_row27_col22\" class=\"data row27 col22\" >0.096827</td>\n",
       "      <td id=\"T_18e98_row27_col23\" class=\"data row27 col23\" >0.048364</td>\n",
       "      <td id=\"T_18e98_row27_col24\" class=\"data row27 col24\" >0.028247</td>\n",
       "      <td id=\"T_18e98_row27_col25\" class=\"data row27 col25\" >0.129860</td>\n",
       "      <td id=\"T_18e98_row27_col26\" class=\"data row27 col26\" >0.685737</td>\n",
       "      <td id=\"T_18e98_row27_col27\" class=\"data row27 col27\" >1.000000</td>\n",
       "      <td id=\"T_18e98_row27_col28\" class=\"data row27 col28\" >0.123762</td>\n",
       "      <td id=\"T_18e98_row27_col29\" class=\"data row27 col29\" >0.006963</td>\n",
       "      <td id=\"T_18e98_row27_col30\" class=\"data row27 col30\" >0.009001</td>\n",
       "    </tr>\n",
       "    <tr>\n",
       "      <th id=\"T_18e98_level0_row28\" class=\"row_heading level0 row28\" >NUM_PKTS_1024_TO_1514_BYTES</th>\n",
       "      <td id=\"T_18e98_row28_col0\" class=\"data row28 col0\" >0.789523</td>\n",
       "      <td id=\"T_18e98_row28_col1\" class=\"data row28 col1\" >0.206766</td>\n",
       "      <td id=\"T_18e98_row28_col2\" class=\"data row28 col2\" >0.520902</td>\n",
       "      <td id=\"T_18e98_row28_col3\" class=\"data row28 col3\" >0.220964</td>\n",
       "      <td id=\"T_18e98_row28_col4\" class=\"data row28 col4\" >0.009596</td>\n",
       "      <td id=\"T_18e98_row28_col5\" class=\"data row28 col5\" >0.011170</td>\n",
       "      <td id=\"T_18e98_row28_col6\" class=\"data row28 col6\" >0.007236</td>\n",
       "      <td id=\"T_18e98_row28_col7\" class=\"data row28 col7\" >0.005044</td>\n",
       "      <td id=\"T_18e98_row28_col8\" class=\"data row28 col8\" >0.004789</td>\n",
       "      <td id=\"T_18e98_row28_col9\" class=\"data row28 col9\" >0.005168</td>\n",
       "      <td id=\"T_18e98_row28_col10\" class=\"data row28 col10\" >0.007386</td>\n",
       "      <td id=\"T_18e98_row28_col11\" class=\"data row28 col11\" >0.007697</td>\n",
       "      <td id=\"T_18e98_row28_col12\" class=\"data row28 col12\" >0.015353</td>\n",
       "      <td id=\"T_18e98_row28_col13\" class=\"data row28 col13\" >0.000325</td>\n",
       "      <td id=\"T_18e98_row28_col14\" class=\"data row28 col14\" >0.002450</td>\n",
       "      <td id=\"T_18e98_row28_col15\" class=\"data row28 col15\" >0.015353</td>\n",
       "      <td id=\"T_18e98_row28_col16\" class=\"data row28 col16\" >-0.000000</td>\n",
       "      <td id=\"T_18e98_row28_col17\" class=\"data row28 col17\" >-0.000000</td>\n",
       "      <td id=\"T_18e98_row28_col18\" class=\"data row28 col18\" >0.045836</td>\n",
       "      <td id=\"T_18e98_row28_col19\" class=\"data row28 col19\" >0.023242</td>\n",
       "      <td id=\"T_18e98_row28_col20\" class=\"data row28 col20\" >0.180848</td>\n",
       "      <td id=\"T_18e98_row28_col21\" class=\"data row28 col21\" >0.164087</td>\n",
       "      <td id=\"T_18e98_row28_col22\" class=\"data row28 col22\" >0.104747</td>\n",
       "      <td id=\"T_18e98_row28_col23\" class=\"data row28 col23\" >0.107122</td>\n",
       "      <td id=\"T_18e98_row28_col24\" class=\"data row28 col24\" >0.015682</td>\n",
       "      <td id=\"T_18e98_row28_col25\" class=\"data row28 col25\" >0.028695</td>\n",
       "      <td id=\"T_18e98_row28_col26\" class=\"data row28 col26\" >0.079173</td>\n",
       "      <td id=\"T_18e98_row28_col27\" class=\"data row28 col27\" >0.123762</td>\n",
       "      <td id=\"T_18e98_row28_col28\" class=\"data row28 col28\" >1.000000</td>\n",
       "      <td id=\"T_18e98_row28_col29\" class=\"data row28 col29\" >0.006719</td>\n",
       "      <td id=\"T_18e98_row28_col30\" class=\"data row28 col30\" >0.005417</td>\n",
       "    </tr>\n",
       "    <tr>\n",
       "      <th id=\"T_18e98_level0_row29\" class=\"row_heading level0 row29\" >TCP_WIN_MAX_IN</th>\n",
       "      <td id=\"T_18e98_row29_col0\" class=\"data row29 col0\" >0.001172</td>\n",
       "      <td id=\"T_18e98_row29_col1\" class=\"data row29 col1\" >0.000688</td>\n",
       "      <td id=\"T_18e98_row29_col2\" class=\"data row29 col2\" >0.013051</td>\n",
       "      <td id=\"T_18e98_row29_col3\" class=\"data row29 col3\" >0.010091</td>\n",
       "      <td id=\"T_18e98_row29_col4\" class=\"data row29 col4\" >0.691277</td>\n",
       "      <td id=\"T_18e98_row29_col5\" class=\"data row29 col5\" >0.871311</td>\n",
       "      <td id=\"T_18e98_row29_col6\" class=\"data row29 col6\" >0.744957</td>\n",
       "      <td id=\"T_18e98_row29_col7\" class=\"data row29 col7\" >0.512049</td>\n",
       "      <td id=\"T_18e98_row29_col8\" class=\"data row29 col8\" >0.293527</td>\n",
       "      <td id=\"T_18e98_row29_col9\" class=\"data row29 col9\" >0.328726</td>\n",
       "      <td id=\"T_18e98_row29_col10\" class=\"data row29 col10\" >0.808857</td>\n",
       "      <td id=\"T_18e98_row29_col11\" class=\"data row29 col11\" >0.807841</td>\n",
       "      <td id=\"T_18e98_row29_col12\" class=\"data row29 col12\" >0.615155</td>\n",
       "      <td id=\"T_18e98_row29_col13\" class=\"data row29 col13\" >-0.038015</td>\n",
       "      <td id=\"T_18e98_row29_col14\" class=\"data row29 col14\" >0.399199</td>\n",
       "      <td id=\"T_18e98_row29_col15\" class=\"data row29 col15\" >0.615155</td>\n",
       "      <td id=\"T_18e98_row29_col16\" class=\"data row29 col16\" >nan</td>\n",
       "      <td id=\"T_18e98_row29_col17\" class=\"data row29 col17\" >-0.000000</td>\n",
       "      <td id=\"T_18e98_row29_col18\" class=\"data row29 col18\" >0.006661</td>\n",
       "      <td id=\"T_18e98_row29_col19\" class=\"data row29 col19\" >0.010772</td>\n",
       "      <td id=\"T_18e98_row29_col20\" class=\"data row29 col20\" >0.015582</td>\n",
       "      <td id=\"T_18e98_row29_col21\" class=\"data row29 col21\" >0.052527</td>\n",
       "      <td id=\"T_18e98_row29_col22\" class=\"data row29 col22\" >0.166500</td>\n",
       "      <td id=\"T_18e98_row29_col23\" class=\"data row29 col23\" >0.213613</td>\n",
       "      <td id=\"T_18e98_row29_col24\" class=\"data row29 col24\" >-0.019778</td>\n",
       "      <td id=\"T_18e98_row29_col25\" class=\"data row29 col25\" >0.000729</td>\n",
       "      <td id=\"T_18e98_row29_col26\" class=\"data row29 col26\" >0.019748</td>\n",
       "      <td id=\"T_18e98_row29_col27\" class=\"data row29 col27\" >0.006963</td>\n",
       "      <td id=\"T_18e98_row29_col28\" class=\"data row29 col28\" >0.006719</td>\n",
       "      <td id=\"T_18e98_row29_col29\" class=\"data row29 col29\" >1.000000</td>\n",
       "      <td id=\"T_18e98_row29_col30\" class=\"data row29 col30\" >0.782151</td>\n",
       "    </tr>\n",
       "    <tr>\n",
       "      <th id=\"T_18e98_level0_row30\" class=\"row_heading level0 row30\" >TCP_WIN_MAX_OUT</th>\n",
       "      <td id=\"T_18e98_row30_col0\" class=\"data row30 col0\" >0.001849</td>\n",
       "      <td id=\"T_18e98_row30_col1\" class=\"data row30 col1\" >0.001354</td>\n",
       "      <td id=\"T_18e98_row30_col2\" class=\"data row30 col2\" >0.009929</td>\n",
       "      <td id=\"T_18e98_row30_col3\" class=\"data row30 col3\" >0.008182</td>\n",
       "      <td id=\"T_18e98_row30_col4\" class=\"data row30 col4\" >0.617947</td>\n",
       "      <td id=\"T_18e98_row30_col5\" class=\"data row30 col5\" >0.781273</td>\n",
       "      <td id=\"T_18e98_row30_col6\" class=\"data row30 col6\" >0.667345</td>\n",
       "      <td id=\"T_18e98_row30_col7\" class=\"data row30 col7\" >0.442040</td>\n",
       "      <td id=\"T_18e98_row30_col8\" class=\"data row30 col8\" >0.303774</td>\n",
       "      <td id=\"T_18e98_row30_col9\" class=\"data row30 col9\" >0.341421</td>\n",
       "      <td id=\"T_18e98_row30_col10\" class=\"data row30 col10\" >0.687412</td>\n",
       "      <td id=\"T_18e98_row30_col11\" class=\"data row30 col11\" >0.686687</td>\n",
       "      <td id=\"T_18e98_row30_col12\" class=\"data row30 col12\" >0.613889</td>\n",
       "      <td id=\"T_18e98_row30_col13\" class=\"data row30 col13\" >-0.072958</td>\n",
       "      <td id=\"T_18e98_row30_col14\" class=\"data row30 col14\" >0.335653</td>\n",
       "      <td id=\"T_18e98_row30_col15\" class=\"data row30 col15\" >0.613889</td>\n",
       "      <td id=\"T_18e98_row30_col16\" class=\"data row30 col16\" >nan</td>\n",
       "      <td id=\"T_18e98_row30_col17\" class=\"data row30 col17\" >-0.000000</td>\n",
       "      <td id=\"T_18e98_row30_col18\" class=\"data row30 col18\" >0.006675</td>\n",
       "      <td id=\"T_18e98_row30_col19\" class=\"data row30 col19\" >0.011581</td>\n",
       "      <td id=\"T_18e98_row30_col20\" class=\"data row30 col20\" >0.011500</td>\n",
       "      <td id=\"T_18e98_row30_col21\" class=\"data row30 col21\" >0.039026</td>\n",
       "      <td id=\"T_18e98_row30_col22\" class=\"data row30 col22\" >0.125083</td>\n",
       "      <td id=\"T_18e98_row30_col23\" class=\"data row30 col23\" >0.169104</td>\n",
       "      <td id=\"T_18e98_row30_col24\" class=\"data row30 col24\" >-0.014362</td>\n",
       "      <td id=\"T_18e98_row30_col25\" class=\"data row30 col25\" >0.000869</td>\n",
       "      <td id=\"T_18e98_row30_col26\" class=\"data row30 col26\" >0.020231</td>\n",
       "      <td id=\"T_18e98_row30_col27\" class=\"data row30 col27\" >0.009001</td>\n",
       "      <td id=\"T_18e98_row30_col28\" class=\"data row30 col28\" >0.005417</td>\n",
       "      <td id=\"T_18e98_row30_col29\" class=\"data row30 col29\" >0.782151</td>\n",
       "      <td id=\"T_18e98_row30_col30\" class=\"data row30 col30\" >1.000000</td>\n",
       "    </tr>\n",
       "  </tbody>\n",
       "</table>\n"
      ],
      "text/plain": [
       "<pandas.io.formats.style.Styler at 0xfd631e1ea0>"
      ]
     },
     "metadata": {},
     "output_type": "display_data"
    }
   ],
   "source": [
    "import pandas as pd\n",
    "import numpy as np\n",
    "\n",
    "rs = np.random.RandomState(0)\n",
    "corr = X_corr_vif.corr()\n",
    "corr.style.background_gradient(cmap='coolwarm')"
   ]
  },
  {
   "cell_type": "markdown",
   "metadata": {},
   "source": [
    "# Preprocessing "
   ]
  },
  {
   "cell_type": "markdown",
   "metadata": {},
   "source": [
    "## rank the feature by high correlation "
   ]
  },
  {
   "cell_type": "code",
   "execution_count": null,
   "metadata": {},
   "outputs": [],
   "source": [
    "import numpy as np\n",
    "cor_matrix = X_corr_vif.corr().abs()\n",
    "\n",
    "upper_tri = cor_matrix.where(np.triu(np.ones(cor_matrix.shape),k=1).astype(np.bool))\n",
    "#print(upper_tri)"
   ]
  },
  {
   "cell_type": "code",
   "execution_count": null,
   "metadata": {},
   "outputs": [],
   "source": [
    "to_drop_corr = [column for column in upper_tri.columns if any(upper_tri[column] > 0.94)]\n",
    "print(to_drop_corr)"
   ]
  },
  {
   "cell_type": "markdown",
   "metadata": {},
   "source": [
    "### Select the feature to drop with correlaion upper than 94%"
   ]
  },
  {
   "cell_type": "code",
   "execution_count": null,
   "metadata": {},
   "outputs": [],
   "source": [
    "X_corr_vif.drop(columns=to_drop_corr, axis=1, inplace=True)\n"
   ]
  },
  {
   "cell_type": "markdown",
   "metadata": {},
   "source": [
    "**We have 4 features to drop are  are '['SERVER_TCP_FLAGS', 'MAX_TTL', 'MAX_IP_PKT_LEN', 'RETRANSMITTED_OUT_PKTS']\n",
    "**"
   ]
  },
  {
   "cell_type": "code",
   "execution_count": null,
   "metadata": {},
   "outputs": [],
   "source": [
    "print(f' original data {len(X_corr_vif.columns)}')\n",
    "ton_iot.drop(columns=to_drop_corr, axis=1, inplace=True)\n",
    "ton_iot.drop(columns=not_used)\n",
    "print(len(X_corr_vif.columns))\n",
    "print((X_corr_vif.columns))\n"
   ]
  },
  {
   "cell_type": "markdown",
   "metadata": {},
   "source": [
    "## Using VIF for numerical feature "
   ]
  },
  {
   "cell_type": "code",
   "execution_count": null,
   "metadata": {},
   "outputs": [],
   "source": [
    "from sklearn.preprocessing import StandardScaler\n",
    "scaler = StandardScaler()\n",
    "X_corr_vif['SRC_TO_DST_SECOND_BYTES'] = X_corr_vif['SRC_TO_DST_SECOND_BYTES'].astype(int)\n",
    "X_corr_vif['DST_TO_SRC_SECOND_BYTES'] = X_corr_vif['DST_TO_SRC_SECOND_BYTES'].astype(int)\n",
    "\n",
    "X_scaled_red = pd.DataFrame()\n",
    "scaler.fit(X_corr_vif)\n",
    "\n",
    "X_scaled_red[X_corr_vif.columns] = scaler.transform(X_corr_vif)"
   ]
  },
  {
   "cell_type": "code",
   "execution_count": null,
   "metadata": {},
   "outputs": [],
   "source": []
  },
  {
   "cell_type": "code",
   "execution_count": null,
   "metadata": {},
   "outputs": [],
   "source": [
    "from statsmodels.stats.outliers_influence import variance_inflation_factor\n",
    "from sklearn.utils import shuffle\n",
    "\n",
    "\n",
    "#shuffled = shuffle(X_scaled_red)\n",
    "#X_scaled_red = shuffled[:2000000]\n",
    "\n",
    "vif_scores = [variance_inflation_factor(X_scaled_red.values, feature)for feature in range(len(X_scaled_red.columns))]\n",
    "vif = pd.DataFrame()\n",
    "vif[\"features\"] = X_scaled_red.columns\n",
    "vif[\"VIF Factor\"] = vif_scores\n",
    "vif.sort_values(by=['VIF Factor'])"
   ]
  },
  {
   "cell_type": "code",
   "execution_count": null,
   "metadata": {},
   "outputs": [],
   "source": [
    "vif_col = []\n",
    "\n",
    "COLUMN = 'NUM_PKTS_1024_TO_1514_BYTES'\n",
    "vif_col.append(COLUMN)\n",
    "\n",
    "X_scaled_red.drop(columns=[COLUMN], inplace=True)\n",
    "vif_scores = [variance_inflation_factor(X_scaled_red.values, feature)for feature in range(len(X_scaled_red.columns))]\n",
    "vif = pd.DataFrame()\n",
    "vif[\"features\"] = X_scaled_red.columns\n",
    "vif[\"VIF Factor\"] = vif_scores\n",
    "vif.sort_values(by=['VIF Factor'])"
   ]
  },
  {
   "cell_type": "code",
   "execution_count": null,
   "metadata": {},
   "outputs": [],
   "source": [
    "COLUMN = 'CLIENT_TCP_FLAGS'\n",
    "vif_col.append(COLUMN)\n",
    "\n",
    "X_scaled_red.drop(columns=[COLUMN], inplace=True)\n",
    "vif_scores = [variance_inflation_factor(X_scaled_red.values, feature)for feature in range(len(X_scaled_red.columns))]\n",
    "vif = pd.DataFrame()\n",
    "vif[\"features\"] = X_scaled_red.columns\n",
    "vif[\"VIF Factor\"] = vif_scores\n",
    "vif.sort_values(by=['VIF Factor'])"
   ]
  },
  {
   "cell_type": "markdown",
   "metadata": {},
   "source": [
    "Shuffle the big class and apply the undersampling "
   ]
  },
  {
   "cell_type": "markdown",
   "metadata": {},
   "source": [
    "### Visualize data with profilling data "
   ]
  },
  {
   "cell_type": "code",
   "execution_count": null,
   "metadata": {},
   "outputs": [],
   "source": [
    "from pandas_profiling import ProfileReport\n",
    "profile_ton = ProfileReport(ton_iot, minimal=True)\n",
    "profile_ton"
   ]
  },
  {
   "cell_type": "markdown",
   "metadata": {},
   "source": [
    "### Deletes features from "
   ]
  },
  {
   "cell_type": "code",
   "execution_count": 3,
   "metadata": {},
   "outputs": [],
   "source": [
    "categorical_feature = ['L4_SRC_PORT','L4_DST_PORT','IPV4_SRC_ADDR',\n",
    "                       'IPV4_DST_ADDR','PROTOCOL','L7_PROTO','DNS_QUERY_TYPE','ICMP_TYPE'\n",
    "                        ,'ICMP_IPV4_TYPE','DNS_TTL_ANSWER']\n",
    "\n",
    "not_used = ['DNS_QUERY_ID','FTP_COMMAND_RET_CODE']\n",
    "\n",
    "tagets = ['Attack','Label']\n",
    "\n",
    "to_drop_corr_col = ['SERVER_TCP_FLAGS', 'MAX_TTL', 'MAX_IP_PKT_LEN', 'RETRANSMITTED_OUT_PKTS']\n",
    "\n",
    "to_drop_VIF = ['NUM_PKTS_1024_TO_1514_BYTES', 'CLIENT_TCP_FLAGS']\n",
    "\n",
    "to_drop = categorical_feature+not_used+tagets + to_drop_corr_col + to_drop_VIF\n",
    "\n",
    "X_Numerical = ton_iot.drop(columns=to_drop)\n",
    "\n",
    "\n"
   ]
  },
  {
   "cell_type": "code",
   "execution_count": 4,
   "metadata": {},
   "outputs": [],
   "source": [
    "X_Numerical['SRC_TO_DST_SECOND_BYTES'] = X_Numerical['SRC_TO_DST_SECOND_BYTES'].astype(int)\n",
    "X_Numerical['DST_TO_SRC_SECOND_BYTES'] = X_Numerical['DST_TO_SRC_SECOND_BYTES'].astype(int)"
   ]
  },
  {
   "cell_type": "code",
   "execution_count": 5,
   "metadata": {},
   "outputs": [
    {
     "data": {
      "text/plain": [
       "(16940496, 25)"
      ]
     },
     "execution_count": 5,
     "metadata": {},
     "output_type": "execute_result"
    }
   ],
   "source": [
    "X_Numerical.shape"
   ]
  },
  {
   "cell_type": "markdown",
   "metadata": {},
   "source": [
    "## Scaling of Numerical value using  quantile"
   ]
  },
  {
   "cell_type": "code",
   "execution_count": 6,
   "metadata": {},
   "outputs": [],
   "source": [
    "from sklearn.preprocessing import StandardScaler\n",
    "\n",
    "scaler = StandardScaler()\n",
    "\n",
    "X_Numerical_sc = pd.DataFrame()\n",
    "\n",
    "scaler.fit(X_Numerical)\n",
    "\n",
    "X_Numerical_sc[X_Numerical.columns] = scaler.transform(X_Numerical)"
   ]
  },
  {
   "cell_type": "code",
   "execution_count": 7,
   "metadata": {},
   "outputs": [
    {
     "data": {
      "text/plain": [
       "(16940496, 25)"
      ]
     },
     "execution_count": 7,
     "metadata": {},
     "output_type": "execute_result"
    }
   ],
   "source": [
    "X_Numerical_sc.shape"
   ]
  },
  {
   "cell_type": "code",
   "execution_count": 8,
   "metadata": {},
   "outputs": [
    {
     "name": "stdout",
     "output_type": "stream",
     "text": [
      "Numerical\n",
      "20.0\n",
      "12.5\n",
      "5.0\n",
      "categorical\n",
      "8.0\n",
      "5.0\n",
      "2.0\n"
     ]
    }
   ],
   "source": [
    "print('Numerical')\n",
    "print(25*0.8)\n",
    "print(25*0.5)\n",
    "print(25*0.2)\n",
    "print('categorical')\n",
    "print(10*0.8)\n",
    "print(10*0.5)\n",
    "print(10*0.2)"
   ]
  },
  {
   "cell_type": "code",
   "execution_count": 9,
   "metadata": {},
   "outputs": [
    {
     "name": "stdout",
     "output_type": "stream",
     "text": [
      "1    10841027\n",
      "0     6099469\n",
      "Name: Label, dtype: int64\n",
      "Benign        6099469\n",
      "scanning      3781419\n",
      "xss           2455020\n",
      "ddos          2026234\n",
      "password      1153323\n",
      "dos            712609\n",
      "injection      684465\n",
      "backdoor        16809\n",
      "mitm             7723\n",
      "ransomware       3425\n",
      "Name: Attack, dtype: int64\n"
     ]
    }
   ],
   "source": [
    "y_b = ton_iot['Label']\n",
    "\n",
    "y_multi =  ton_iot['Attack']\n",
    "print(y_b.value_counts())\n",
    "print(y_multi.value_counts())"
   ]
  },
  {
   "cell_type": "markdown",
   "metadata": {},
   "source": [
    "## Scale data"
   ]
  },
  {
   "cell_type": "code",
   "execution_count": 10,
   "metadata": {},
   "outputs": [],
   "source": [
    "from sklearn.feature_selection import f_classif, SelectKBest\n",
    "\n",
    "sb = SelectKBest(f_classif, k=5)\n",
    "sb.fit(X_Numerical_sc,y_b)\n",
    "col_anova_20 = sb.get_feature_names_out()\n",
    "\n",
    "##########################\n",
    "sb = SelectKBest(f_classif, k=13)\n",
    "sb.fit(X_Numerical_sc,y_b)\n",
    "col_anova_50 = sb.get_feature_names_out()\n",
    "\n",
    "##########################\n",
    "sb = SelectKBest(f_classif, k=20)\n",
    "sb.fit(X_Numerical_sc,y_b)\n",
    "col_anova_80 = sb.get_feature_names_out()"
   ]
  },
  {
   "cell_type": "code",
   "execution_count": 52,
   "metadata": {},
   "outputs": [
    {
     "data": {
      "text/plain": [
       "array([False, False, False, False,  True,  True,  True,  True,  True,\n",
       "        True,  True,  True,  True,  True,  True,  True,  True,  True,\n",
       "        True,  True,  True,  True, False,  True,  True])"
      ]
     },
     "execution_count": 52,
     "metadata": {},
     "output_type": "execute_result"
    }
   ],
   "source": [
    "sb.get_support()"
   ]
  },
  {
   "cell_type": "code",
   "execution_count": 11,
   "metadata": {},
   "outputs": [],
   "source": [
    "X_A_20 = X_Numerical_sc[col_anova_20]\n",
    "X_A_50 = X_Numerical_sc[col_anova_50]\n",
    "X_A_80 = X_Numerical_sc[col_anova_80]"
   ]
  },
  {
   "cell_type": "code",
   "execution_count": 41,
   "metadata": {},
   "outputs": [
    {
     "data": {
      "text/plain": [
       "array(['TCP_FLAGS', 'FLOW_DURATION_MILLISECONDS', 'DURATION_IN',\n",
       "       'DURATION_OUT', 'MIN_TTL', 'LONGEST_FLOW_PKT', 'SHORTEST_FLOW_PKT',\n",
       "       'MIN_IP_PKT_LEN', 'SRC_TO_DST_SECOND_BYTES',\n",
       "       'DST_TO_SRC_SECOND_BYTES', 'RETRANSMITTED_IN_BYTES',\n",
       "       'RETRANSMITTED_IN_PKTS', 'RETRANSMITTED_OUT_BYTES',\n",
       "       'SRC_TO_DST_AVG_THROUGHPUT', 'DST_TO_SRC_AVG_THROUGHPUT',\n",
       "       'NUM_PKTS_UP_TO_128_BYTES', 'NUM_PKTS_128_TO_256_BYTES',\n",
       "       'NUM_PKTS_256_TO_512_BYTES', 'TCP_WIN_MAX_IN', 'TCP_WIN_MAX_OUT'],\n",
       "      dtype=object)"
      ]
     },
     "execution_count": 41,
     "metadata": {},
     "output_type": "execute_result"
    }
   ],
   "source": [
    "col_anova_80"
   ]
  },
  {
   "cell_type": "markdown",
   "metadata": {},
   "source": [
    "## Kendall"
   ]
  },
  {
   "cell_type": "code",
   "execution_count": 12,
   "metadata": {},
   "outputs": [],
   "source": [
    "from scipy.stats import kendalltau\n",
    "features = [col for col in X_Numerical_sc.columns if col ]\n",
    "kendall_tau_scores = {}\n",
    "for feature in features:\n",
    "    kendall_tau, _ = kendalltau(X_Numerical_sc[feature], y_b)\n",
    "    kendall_tau_scores[feature] = kendall_tau\n",
    "    \n",
    "sorted_kendall_tau_scores = sorted(kendall_tau_scores.items(), key=lambda x: abs(x[1]), reverse=True)\n",
    "\n",
    "col_kendall_20 = [feature for feature, score in sorted_kendall_tau_scores[:5]]\n",
    "col_kendall_50 = [feature for feature, score in sorted_kendall_tau_scores[:13]]\n",
    "col_kendall_80 = [feature for feature, score in sorted_kendall_tau_scores[:20]]\n"
   ]
  },
  {
   "cell_type": "code",
   "execution_count": 13,
   "metadata": {},
   "outputs": [
    {
     "data": {
      "text/plain": [
       "Index(['LONGEST_FLOW_PKT', 'IN_BYTES', 'SRC_TO_DST_SECOND_BYTES',\n",
       "       'TCP_WIN_MAX_IN', 'OUT_BYTES', 'NUM_PKTS_UP_TO_128_BYTES',\n",
       "       'DST_TO_SRC_SECOND_BYTES', 'MIN_IP_PKT_LEN', 'OUT_PKTS', 'MIN_TTL',\n",
       "       'TCP_WIN_MAX_OUT', 'IN_PKTS', 'SHORTEST_FLOW_PKT',\n",
       "       'SRC_TO_DST_AVG_THROUGHPUT', 'DST_TO_SRC_AVG_THROUGHPUT',\n",
       "       'NUM_PKTS_512_TO_1024_BYTES', 'DURATION_OUT',\n",
       "       'NUM_PKTS_256_TO_512_BYTES', 'FLOW_DURATION_MILLISECONDS',\n",
       "       'DURATION_IN'],\n",
       "      dtype='object')"
      ]
     },
     "execution_count": 13,
     "metadata": {},
     "output_type": "execute_result"
    }
   ],
   "source": [
    "X_K_20 = X_Numerical_sc[col_kendall_20]\n",
    "X_K_50 = X_Numerical_sc[col_kendall_50]\n",
    "X_K_80 = X_Numerical_sc[col_kendall_80]\n",
    "X_K_80.columns"
   ]
  },
  {
   "cell_type": "markdown",
   "metadata": {},
   "source": [
    "## PCA"
   ]
  },
  {
   "cell_type": "code",
   "execution_count": 14,
   "metadata": {},
   "outputs": [
    {
     "data": {
      "image/png": "[encoded data removed]",
      "text/plain": [
       "<Figure size 640x480 with 1 Axes>"
      ]
     },
     "metadata": {},
     "output_type": "display_data"
    }
   ],
   "source": [
    "from sklearn.preprocessing import StandardScaler\n",
    "from sklearn.decomposition import PCA \n",
    "import matplotlib.pyplot as plt\n",
    "import numpy as np \n",
    "\n",
    "pca = PCA(n_components=13)\n",
    "\n",
    "#\n",
    "X_train_pca = pca.fit_transform(X_Numerical_sc)\n",
    "\n",
    "exp_var_pca = pca.explained_variance_ratio_\n",
    "\n",
    "cum_sum_eigenvalues = np.cumsum(exp_var_pca)\n",
    "\n",
    "\n",
    "plt.bar(range(0,len(exp_var_pca)), exp_var_pca, alpha=0.5, align='center', label='Individual explained variance')\n",
    "plt.step(range(0,len(cum_sum_eigenvalues)), cum_sum_eigenvalues, where='mid',label='Cumulative explained variance')\n",
    "plt.ylabel('Explained variance ratio')\n",
    "plt.xlabel('Principal component index')\n",
    "plt.legend(loc='best')\n",
    "plt.tight_layout()\n",
    "plt.show()"
   ]
  },
  {
   "cell_type": "code",
   "execution_count": 15,
   "metadata": {},
   "outputs": [],
   "source": [
    "X_train_pca.shape\n",
    "columns_pca = [f\"C{idx}\" for idx in range(13) ]\n",
    "X_PCA = pd.DataFrame(X_train_pca,columns=columns_pca)\n"
   ]
  },
  {
   "cell_type": "code",
   "execution_count": 16,
   "metadata": {},
   "outputs": [
    {
     "data": {
      "text/plain": [
       "array([0.1870269 , 0.29380058, 0.36877868, 0.43609222, 0.49254252,\n",
       "       0.54261555, 0.59029296, 0.63724733, 0.67848168, 0.71722174,\n",
       "       0.75487241, 0.78764894, 0.81716173])"
      ]
     },
     "execution_count": 16,
     "metadata": {},
     "output_type": "execute_result"
    }
   ],
   "source": [
    "cum_sum_eigenvalues"
   ]
  },
  {
   "cell_type": "code",
   "execution_count": 17,
   "metadata": {},
   "outputs": [],
   "source": [
    "X_cat = ton_iot[categorical_feature]"
   ]
  },
  {
   "cell_type": "markdown",
   "metadata": {},
   "source": [
    "# Optimize the features"
   ]
  },
  {
   "cell_type": "markdown",
   "metadata": {},
   "source": [
    "### L4_SRC_PORT & L4_DST_PORT"
   ]
  },
  {
   "cell_type": "markdown",
   "metadata": {},
   "source": [
    "Ports with numbers 0–1023 are called system or well-known ports; ports with numbers 1024-49151 are called user or registered ports, and ports with numbers 49152-65535 are called dynamic, private or ephemeral ports.[2] Both system and user ports are used by transport protocols (TCP, UDP, DCCP, SCTP) to identify an application or service."
   ]
  },
  {
   "cell_type": "code",
   "execution_count": 18,
   "metadata": {},
   "outputs": [],
   "source": [
    "well_known_port = list(range(1024))\n",
    "registered_ports = list(range(1024,49152))\n",
    "ephemeral_ports = list(range(49152,65535))"
   ]
  },
  {
   "cell_type": "code",
   "execution_count": 19,
   "metadata": {},
   "outputs": [
    {
     "name": "stdout",
     "output_type": "stream",
     "text": [
      "(16940496, 10)\n"
     ]
    }
   ],
   "source": [
    "X_cat['L4_SRC_PORT_C'] = 'Others'\n",
    "X_cat['L4_SRC_PORT_C'][X_cat['L4_SRC_PORT'].isin(well_known_port)] = 'well_known_port'\n",
    "X_cat['L4_SRC_PORT_C'][X_cat['L4_SRC_PORT'].isin(registered_ports)] = 'registered_ports'\n",
    "X_cat['L4_SRC_PORT_C'][X_cat['L4_SRC_PORT'].isin(ephemeral_ports)] = 'ephemeral_ports'\n",
    "\n",
    "X_cat.drop(columns=['L4_SRC_PORT'],inplace=True)\n",
    "\n",
    "X_cat['L4_SRC_PORT_C'].value_counts()\n",
    "\n",
    "print(X_cat.shape)"
   ]
  },
  {
   "cell_type": "code",
   "execution_count": null,
   "metadata": {},
   "outputs": [],
   "source": []
  },
  {
   "cell_type": "code",
   "execution_count": 20,
   "metadata": {},
   "outputs": [
    {
     "data": {
      "text/plain": [
       "well_known_port     9232384\n",
       "registered_ports    6540544\n",
       "ephemeral_ports     1167508\n",
       "Others                   60\n",
       "Name: L4_DST_PORT_C, dtype: int64"
      ]
     },
     "execution_count": 20,
     "metadata": {},
     "output_type": "execute_result"
    }
   ],
   "source": [
    "X_cat['L4_DST_PORT_C'] = 'Others'\n",
    "X_cat['L4_DST_PORT_C'][X_cat['L4_DST_PORT'].isin(well_known_port)] = 'well_known_port'\n",
    "X_cat['L4_DST_PORT_C'][X_cat['L4_DST_PORT'].isin(registered_ports)] = 'registered_ports'\n",
    "X_cat['L4_DST_PORT_C'][X_cat['L4_DST_PORT'].isin(ephemeral_ports)] = 'ephemeral_ports'\n",
    "\n",
    "X_cat.drop(columns=['L4_DST_PORT'],inplace=True)\n",
    "X_cat['L4_DST_PORT_C'].value_counts()\n"
   ]
  },
  {
   "cell_type": "markdown",
   "metadata": {},
   "source": [
    "#### Removerd features are :\n",
    "\n",
    "to_drop_zero = ['RETRANSMITTED_IN_BYTES','RETRANSMITTED_IN_PKTS','RETRANSMITTED_OUT_BYTES','FTP_COMMAND_RET_CODE','ICMP_TYPE','DNS_TTL_ANSWER']\n",
    "&&\n",
    "\n",
    "['SERVER_TCP_FLAGS', 'MAX_TTL', 'MAX_IP_PKT_LEN', 'RETRANSMITTED_OUT_PKTS', 'ICMP_IPV4_TYPE']"
   ]
  },
  {
   "cell_type": "markdown",
   "metadata": {},
   "source": [
    "## DNS"
   ]
  },
  {
   "cell_type": "raw",
   "metadata": {},
   "source": [
    "DNS type"
   ]
  },
  {
   "cell_type": "code",
   "execution_count": 21,
   "metadata": {},
   "outputs": [
    {
     "data": {
      "text/plain": [
       "0        14542314\n",
       "1         1568107\n",
       "Other      744822\n",
       "12          80496\n",
       "2            4757\n",
       "Name: DNS_QUERY_TYPE, dtype: int64"
      ]
     },
     "execution_count": 21,
     "metadata": {},
     "output_type": "execute_result"
    }
   ],
   "source": [
    "X_cat['DNS_QUERY_TYPE'] = X_cat['DNS_QUERY_TYPE'].astype('O')\n",
    "list_proto = [0,1,2,12]\n",
    "X_cat['DNS_QUERY_TYPE'][~X_cat['DNS_QUERY_TYPE'].isin(list_proto)] = 'Other'\n",
    "X_cat['DNS_QUERY_TYPE'].value_counts()"
   ]
  },
  {
   "cell_type": "raw",
   "metadata": {},
   "source": [
    "### TCP"
   ]
  },
  {
   "cell_type": "markdown",
   "metadata": {},
   "source": [
    "### PROTOCOL"
   ]
  },
  {
   "cell_type": "code",
   "execution_count": 22,
   "metadata": {},
   "outputs": [
    {
     "data": {
      "text/plain": [
       "6     14427073\n",
       "17     2491336\n",
       "1        17933\n",
       "2         2912\n",
       "58        1241\n",
       "44           1\n",
       "Name: PROTOCOL, dtype: int64"
      ]
     },
     "execution_count": 22,
     "metadata": {},
     "output_type": "execute_result"
    }
   ],
   "source": [
    "X_cat['PROTOCOL'] = X_cat['PROTOCOL'].astype(int)\n",
    "\n",
    "X_cat['PROTOCOL'].value_counts()"
   ]
  },
  {
   "cell_type": "code",
   "execution_count": 23,
   "metadata": {},
   "outputs": [
    {
     "name": "stdout",
     "output_type": "stream",
     "text": [
      "(16940496, 10)\n"
     ]
    }
   ],
   "source": [
    "print(X_cat.shape)"
   ]
  },
  {
   "cell_type": "code",
   "execution_count": 24,
   "metadata": {},
   "outputs": [
    {
     "data": {
      "text/plain": [
       "6     14427073\n",
       "17     2491336\n",
       "1        17933\n",
       "2         2912\n",
       "58        1241\n",
       "44           1\n",
       "Name: PROTOCOL, dtype: int64"
      ]
     },
     "execution_count": 24,
     "metadata": {},
     "output_type": "execute_result"
    }
   ],
   "source": [
    "X_cat['PROTOCOL'].value_counts()"
   ]
  },
  {
   "cell_type": "markdown",
   "metadata": {},
   "source": [
    "### L7_PROTO"
   ]
  },
  {
   "cell_type": "code",
   "execution_count": 25,
   "metadata": {},
   "outputs": [
    {
     "data": {
      "text/plain": [
       "0.0      10290531\n",
       "7.0       3999392\n",
       "91.0      1732694\n",
       "Other      489304\n",
       "7.178      199531\n",
       "1.0        131682\n",
       "92.0        38579\n",
       "131.0       30118\n",
       "5.178       28665\n",
       "Name: L7_PROTO, dtype: int64"
      ]
     },
     "execution_count": 25,
     "metadata": {},
     "output_type": "execute_result"
    }
   ],
   "source": [
    "X_cat['L7_PROTO'] = X_cat['L7_PROTO'].astype('O')\n",
    "list_proto = [0,7,91,7.178,1,92,131,5.178]\n",
    "X_cat['L7_PROTO'][~X_cat['L7_PROTO'].isin(list_proto)] = 'Other'\n",
    "X_cat['L7_PROTO'].value_counts()"
   ]
  },
  {
   "cell_type": "markdown",
   "metadata": {},
   "source": [
    "#### Adresses"
   ]
  },
  {
   "cell_type": "markdown",
   "metadata": {},
   "source": [
    "### Adress Range"
   ]
  },
  {
   "cell_type": "code",
   "execution_count": 26,
   "metadata": {},
   "outputs": [
    {
     "name": "stdout",
     "output_type": "stream",
     "text": [
      "classe_a process ------------------------------->\n",
      "classe_b process ------------------------------->\n",
      "classe_c process ------------------------------->\n"
     ]
    }
   ],
   "source": [
    "# Private adresses\n",
    "# Class A: 10.0.0.0 to 10.255.255.255\n",
    "# Class B: 172.16.0.0 to 172.31.255.255\n",
    "# Class C: 192.168.0.0 to 192.168.255.255\n",
    "from ipaddress import ip_address\n",
    "\n",
    "\n",
    "def findIPs(start, end):\n",
    "    start = ip_address(start)\n",
    "    end = ip_address(end)\n",
    "    result = []\n",
    "    while start <= end:\n",
    "        result.append(str(start))\n",
    "        start += 1\n",
    "    return result\n",
    "print('classe_a process ------------------------------->')\n",
    "plage_classe_a=findIPs('10.0.0.0', '10.255.255.255')\n",
    "print('classe_b process ------------------------------->')\n",
    "plage_classe_b=findIPs('172.16.0.0', '172.31.255.255')\n",
    "print('classe_c process ------------------------------->')\n",
    "plage_classe_c=findIPs('192.168.0.0', '192.168.255.255')"
   ]
  },
  {
   "cell_type": "raw",
   "metadata": {},
   "source": [
    "#### IPV4_DST_ADDR"
   ]
  },
  {
   "cell_type": "code",
   "execution_count": 27,
   "metadata": {},
   "outputs": [
    {
     "name": "stdout",
     "output_type": "stream",
     "text": [
      "classe_c process ------------------------------->\n",
      "classe_b process ------------------------------->\n",
      "classe_a process ------------------------------->\n",
      "localhost process ------------------------------->\n",
      "public/other process ------------------------------->\n"
     ]
    },
    {
     "data": {
      "text/plain": [
       "classe_c        16006162\n",
       "public/other      929617\n",
       "localhost           4700\n",
       "classe_b              13\n",
       "classe_a               4\n",
       "Name: IPV4_DST_ADDR_CLASSE, dtype: int64"
      ]
     },
     "execution_count": 27,
     "metadata": {},
     "output_type": "execute_result"
    }
   ],
   "source": [
    "import numpy as np\n",
    "X_cat['IPV4_DST_ADDR_CLASSE'] = 'None'\n",
    "print('classe_c process ------------------------------->')\n",
    "X_cat['IPV4_DST_ADDR_CLASSE'][X_cat['IPV4_DST_ADDR'].isin(plage_classe_c)] = 'classe_c'\n",
    "print('classe_b process ------------------------------->')\n",
    "X_cat['IPV4_DST_ADDR_CLASSE'][X_cat['IPV4_DST_ADDR'].isin(plage_classe_b)] = 'classe_b'\n",
    "print('classe_a process ------------------------------->')\n",
    "X_cat['IPV4_DST_ADDR_CLASSE'][X_cat['IPV4_DST_ADDR'].isin(plage_classe_a)] = 'classe_a'\n",
    "print('localhost process ------------------------------->')\n",
    "X_cat['IPV4_DST_ADDR_CLASSE'][X_cat['IPV4_DST_ADDR'] == '127.0.0.1'] = 'localhost'\n",
    "print('public/other process ------------------------------->')\n",
    "X_cat['IPV4_DST_ADDR_CLASSE'][X_cat['IPV4_DST_ADDR_CLASSE'] == 'None'] = 'public/other'\n",
    "X_cat['IPV4_DST_ADDR_CLASSE'].value_counts()"
   ]
  },
  {
   "cell_type": "raw",
   "metadata": {},
   "source": [
    "### IPV4_SRC_ADDR_CLASSE"
   ]
  },
  {
   "cell_type": "code",
   "execution_count": 28,
   "metadata": {},
   "outputs": [
    {
     "name": "stdout",
     "output_type": "stream",
     "text": [
      "classe_c process ------------------------------->\n",
      "classe_b process ------------------------------->\n",
      "classe_a process ------------------------------->\n",
      "localhost process ------------------------------->\n",
      "public/other process ------------------------------->\n"
     ]
    },
    {
     "data": {
      "text/plain": [
       "classe_c        16787988\n",
       "classe_b          103646\n",
       "public/other       44033\n",
       "localhost           4706\n",
       "classe_a             123\n",
       "Name: IPV4_SRC_ADDR_CLASSE, dtype: int64"
      ]
     },
     "execution_count": 28,
     "metadata": {},
     "output_type": "execute_result"
    }
   ],
   "source": [
    "import numpy as np\n",
    "X_cat['IPV4_SRC_ADDR_CLASSE'] = 'None'\n",
    "print('classe_c process ------------------------------->')\n",
    "X_cat['IPV4_SRC_ADDR_CLASSE'][X_cat['IPV4_SRC_ADDR'].isin(plage_classe_c)] = 'classe_c'\n",
    "print('classe_b process ------------------------------->')\n",
    "X_cat['IPV4_SRC_ADDR_CLASSE'][X_cat['IPV4_SRC_ADDR'].isin(plage_classe_b)] = 'classe_b'\n",
    "print('classe_a process ------------------------------->')\n",
    "X_cat['IPV4_SRC_ADDR_CLASSE'][X_cat['IPV4_SRC_ADDR'].isin(plage_classe_a)] = 'classe_a'\n",
    "print('localhost process ------------------------------->')\n",
    "X_cat['IPV4_SRC_ADDR_CLASSE'][X_cat['IPV4_SRC_ADDR'] == '127.0.0.1'] = 'localhost'\n",
    "print('public/other process ------------------------------->')\n",
    "X_cat['IPV4_SRC_ADDR_CLASSE'][X_cat['IPV4_SRC_ADDR_CLASSE'] == 'None'] = 'public/other'\n",
    "X_cat['IPV4_SRC_ADDR_CLASSE'].value_counts()"
   ]
  },
  {
   "cell_type": "markdown",
   "metadata": {},
   "source": [
    "Remove IPV4_SRC_ADDR & IPV4_DST_ADDR and Keep IPV4_SRC_ADDR IPV4_DST_ADDR"
   ]
  },
  {
   "cell_type": "code",
   "execution_count": 29,
   "metadata": {},
   "outputs": [],
   "source": [
    "X_cat.drop(columns=['IPV4_SRC_ADDR','IPV4_DST_ADDR'], inplace=True)"
   ]
  },
  {
   "cell_type": "code",
   "execution_count": null,
   "metadata": {},
   "outputs": [],
   "source": []
  },
  {
   "cell_type": "markdown",
   "metadata": {},
   "source": [
    "## Optimze the 3 features ICMP_TYPE, ICMP_IPV4_TYPE, DNS_TTL_ANSWER"
   ]
  },
  {
   "cell_type": "code",
   "execution_count": 30,
   "metadata": {},
   "outputs": [
    {
     "name": "stdout",
     "output_type": "stream",
     "text": [
      "ICMPTYPE 0    16658896\n",
      "1      281600\n",
      "Name: ICMP_TYPE, dtype: int64, \n",
      " ICMP_IPV4_TYPE  0    16658897\n",
      "1      281599\n",
      "Name: ICMP_IPV4_TYPE, dtype: int64, \n",
      "  DNS_TTL_ANSWER  0    15833836\n",
      "1     1106660\n",
      "Name: DNS_TTL_ANSWER, dtype: int64\n"
     ]
    }
   ],
   "source": [
    "import math\n",
    "infini = math.inf\n",
    "\n",
    "X_cat['ICMP_TYPE'] = X_cat['ICMP_TYPE'].astype('O')\n",
    "X_cat['ICMP_IPV4_TYPE'] = X_cat['ICMP_IPV4_TYPE'].astype('O')\n",
    "X_cat['DNS_TTL_ANSWER'] = X_cat['DNS_TTL_ANSWER'].astype('O')\n",
    "\n",
    "X_cat['ICMP_TYPE'][~(X_cat['ICMP_TYPE']==0)]=1\n",
    "X_cat['ICMP_IPV4_TYPE'][~(X_cat['ICMP_IPV4_TYPE']==0)]=1\n",
    "X_cat['DNS_TTL_ANSWER'][~(X_cat['DNS_TTL_ANSWER']==0)]=1\n",
    "\n",
    "print(f\"ICMPTYPE {X_cat['ICMP_TYPE'].value_counts()}, \\n ICMP_IPV4_TYPE  {X_cat['ICMP_IPV4_TYPE'].value_counts()}, \\n  DNS_TTL_ANSWER  {X_cat['DNS_TTL_ANSWER'].value_counts()}\")\n",
    "\n"
   ]
  },
  {
   "cell_type": "code",
   "execution_count": 31,
   "metadata": {},
   "outputs": [
    {
     "data": {
      "text/html": [
       "<div>\n",
       "<style scoped>\n",
       "    .dataframe tbody tr th:only-of-type {\n",
       "        vertical-align: middle;\n",
       "    }\n",
       "\n",
       "    .dataframe tbody tr th {\n",
       "        vertical-align: top;\n",
       "    }\n",
       "\n",
       "    .dataframe thead th {\n",
       "        text-align: right;\n",
       "    }\n",
       "</style>\n",
       "<table border=\"1\" class=\"dataframe\">\n",
       "  <thead>\n",
       "    <tr style=\"text-align: right;\">\n",
       "      <th></th>\n",
       "      <th>PROTOCOL</th>\n",
       "      <th>L7_PROTO</th>\n",
       "      <th>DNS_QUERY_TYPE</th>\n",
       "      <th>ICMP_TYPE</th>\n",
       "      <th>ICMP_IPV4_TYPE</th>\n",
       "      <th>DNS_TTL_ANSWER</th>\n",
       "      <th>L4_SRC_PORT_C</th>\n",
       "      <th>L4_DST_PORT_C</th>\n",
       "      <th>IPV4_DST_ADDR_CLASSE</th>\n",
       "      <th>IPV4_SRC_ADDR_CLASSE</th>\n",
       "    </tr>\n",
       "  </thead>\n",
       "  <tbody>\n",
       "    <tr>\n",
       "      <th>0</th>\n",
       "      <td>6</td>\n",
       "      <td>0.0</td>\n",
       "      <td>0</td>\n",
       "      <td>0</td>\n",
       "      <td>0</td>\n",
       "      <td>0</td>\n",
       "      <td>ephemeral_ports</td>\n",
       "      <td>registered_ports</td>\n",
       "      <td>classe_c</td>\n",
       "      <td>classe_c</td>\n",
       "    </tr>\n",
       "    <tr>\n",
       "      <th>1</th>\n",
       "      <td>6</td>\n",
       "      <td>0.0</td>\n",
       "      <td>0</td>\n",
       "      <td>0</td>\n",
       "      <td>0</td>\n",
       "      <td>0</td>\n",
       "      <td>ephemeral_ports</td>\n",
       "      <td>registered_ports</td>\n",
       "      <td>classe_c</td>\n",
       "      <td>classe_c</td>\n",
       "    </tr>\n",
       "    <tr>\n",
       "      <th>2</th>\n",
       "      <td>1</td>\n",
       "      <td>0.0</td>\n",
       "      <td>0</td>\n",
       "      <td>1</td>\n",
       "      <td>1</td>\n",
       "      <td>0</td>\n",
       "      <td>well_known_port</td>\n",
       "      <td>well_known_port</td>\n",
       "      <td>classe_c</td>\n",
       "      <td>classe_c</td>\n",
       "    </tr>\n",
       "    <tr>\n",
       "      <th>3</th>\n",
       "      <td>17</td>\n",
       "      <td>0.0</td>\n",
       "      <td>0</td>\n",
       "      <td>0</td>\n",
       "      <td>0</td>\n",
       "      <td>0</td>\n",
       "      <td>ephemeral_ports</td>\n",
       "      <td>registered_ports</td>\n",
       "      <td>public/other</td>\n",
       "      <td>classe_c</td>\n",
       "    </tr>\n",
       "  </tbody>\n",
       "</table>\n",
       "</div>"
      ],
      "text/plain": [
       "   PROTOCOL L7_PROTO DNS_QUERY_TYPE ICMP_TYPE ICMP_IPV4_TYPE DNS_TTL_ANSWER  \\\n",
       "0         6      0.0              0         0              0              0   \n",
       "1         6      0.0              0         0              0              0   \n",
       "2         1      0.0              0         1              1              0   \n",
       "3        17      0.0              0         0              0              0   \n",
       "\n",
       "     L4_SRC_PORT_C     L4_DST_PORT_C IPV4_DST_ADDR_CLASSE IPV4_SRC_ADDR_CLASSE  \n",
       "0  ephemeral_ports  registered_ports             classe_c             classe_c  \n",
       "1  ephemeral_ports  registered_ports             classe_c             classe_c  \n",
       "2  well_known_port   well_known_port             classe_c             classe_c  \n",
       "3  ephemeral_ports  registered_ports         public/other             classe_c  "
      ]
     },
     "execution_count": 31,
     "metadata": {},
     "output_type": "execute_result"
    }
   ],
   "source": [
    "X_cat.head(4)"
   ]
  },
  {
   "cell_type": "markdown",
   "metadata": {},
   "source": [
    "# Feature Selection Filter-based"
   ]
  },
  {
   "cell_type": "code",
   "execution_count": 32,
   "metadata": {},
   "outputs": [],
   "source": [
    "from sklearn.feature_selection import chi2\n",
    "\n",
    "# Convert string values in categorical features to numerical\n",
    "X_cat = X_cat.replace('Other',999)\n",
    "X_cat = X_cat.replace('Others',999)\n",
    "X_cat = X_cat.replace('well_known_port',0)\n",
    "X_cat = X_cat.replace('registered_ports',1)\n",
    "X_cat = X_cat.replace('ephemeral_ports',2)\n",
    "\n",
    "\n",
    "\n",
    "X_cat = X_cat.replace('localhost',0)\n",
    "X_cat = X_cat.replace('classe_a',1)\n",
    "X_cat = X_cat.replace('classe_b',2)\n",
    "X_cat = X_cat.replace('classe_c',3)\n",
    "X_cat = X_cat.replace('public/other',4)\n",
    "\n",
    "\n",
    "X_cat = X_cat.astype(int)\n",
    "\n",
    "\n",
    "\n",
    "#X.dropna(inplace=True)\n",
    "\n",
    "#X = X.astype(int)\n",
    "\n",
    "chi2_corr = chi2(X_cat,y_b)\n"
   ]
  },
  {
   "cell_type": "code",
   "execution_count": 42,
   "metadata": {},
   "outputs": [
    {
     "data": {
      "text/plain": [
       "['DNS_QUERY_TYPE',\n",
       " 'L7_PROTO',\n",
       " 'L4_DST_PORT_C',\n",
       " 'PROTOCOL',\n",
       " 'ICMP_IPV4_TYPE',\n",
       " 'ICMP_TYPE',\n",
       " 'L4_SRC_PORT_C',\n",
       " 'DNS_TTL_ANSWER',\n",
       " 'IPV4_DST_ADDR_CLASSE',\n",
       " 'IPV4_SRC_ADDR_CLASSE']"
      ]
     },
     "execution_count": 42,
     "metadata": {},
     "output_type": "execute_result"
    }
   ],
   "source": [
    "list(X_cat.columns[np.argsort(-chi2_corr[0])])"
   ]
  },
  {
   "cell_type": "code",
   "execution_count": 33,
   "metadata": {},
   "outputs": [],
   "source": [
    "#columns_ranked_chi2 = list(X_cat.columns[np.argsort(-chi2_corr[0])])\n",
    "columns_ranked_chi2 = ['DNS_QUERY_TYPE',\n",
    " 'L7_PROTO',\n",
    " 'L4_DST_PORT_C',\n",
    " 'PROTOCOL',\n",
    " 'ICMP_IPV4_TYPE',\n",
    " 'ICMP_TYPE',\n",
    " 'L4_SRC_PORT_C',\n",
    " 'DNS_TTL_ANSWER',\n",
    " 'IPV4_DST_ADDR_CLASSE',\n",
    " 'IPV4_SRC_ADDR_CLASSE']"
   ]
  },
  {
   "cell_type": "markdown",
   "metadata": {},
   "source": [
    "## Ranking of features using CHI2"
   ]
  },
  {
   "cell_type": "markdown",
   "metadata": {},
   "source": [
    "# We will select 3 pourcentage from the rest of the features\n",
    "categorical\n",
    "- 8.0\n",
    "- 5.0\n",
    "- 2.0"
   ]
  },
  {
   "cell_type": "markdown",
   "metadata": {},
   "source": [
    "### Generate the 3 databases for chi 2"
   ]
  },
  {
   "cell_type": "code",
   "execution_count": 34,
   "metadata": {},
   "outputs": [],
   "source": [
    "X_chi2_20 = X_cat[columns_ranked_chi2[:2]]\n",
    "X_chi2_50 =  X_cat[columns_ranked_chi2[:5]]\n",
    "X_chi2_80 =  X_cat[columns_ranked_chi2[:8]]\n",
    "\n",
    "dummy_feature = ['L4_SRC_PORT_C','L4_DST_PORT_C','IPV4_SRC_ADDR_CLASSE',\n",
    "                 'IPV4_DST_ADDR_CLASSE','PROTOCOL','L7_PROTO']\n",
    "list_dummy_20 = list(set( list(X_chi2_20.columns)).intersection(dummy_feature))\n",
    "list_dummy_50 = list(set( list(X_chi2_50.columns)).intersection(dummy_feature))\n",
    "list_dummy_80 = list(set( list(X_chi2_80.columns)).intersection(dummy_feature))\n",
    "\n",
    "\n",
    "X_chi2_20 = pd.get_dummies(X_chi2_20, columns=list_dummy_20)\n",
    "X_chi2_50 = pd.get_dummies(X_chi2_50, columns=list_dummy_50)\n",
    "X_chi2_80 = pd.get_dummies(X_chi2_80, columns=list_dummy_80)"
   ]
  },
  {
   "cell_type": "markdown",
   "metadata": {},
   "source": [
    "# MUTUAL INFORMATION"
   ]
  },
  {
   "cell_type": "code",
   "execution_count": 40,
   "metadata": {
    "pycharm": {
     "is_executing": true
    }
   },
   "outputs": [],
   "source": [
    "from sklearn.feature_selection import mutual_info_classif\n",
    "\n",
    "mi_class = mutual_info_classif(X_cat, y_b)\n"
   ]
  },
  {
   "cell_type": "code",
   "execution_count": 44,
   "metadata": {
    "pycharm": {
     "is_executing": true
    }
   },
   "outputs": [
    {
     "data": {
      "text/plain": [
       "['L4_SRC_PORT_C',\n",
       " 'DNS_QUERY_TYPE',\n",
       " 'DNS_TTL_ANSWER',\n",
       " 'L7_PROTO',\n",
       " 'L4_DST_PORT_C',\n",
       " 'ICMP_IPV4_TYPE',\n",
       " 'ICMP_TYPE',\n",
       " 'PROTOCOL',\n",
       " 'IPV4_DST_ADDR_CLASSE',\n",
       " 'IPV4_SRC_ADDR_CLASSE']"
      ]
     },
     "execution_count": 44,
     "metadata": {},
     "output_type": "execute_result"
    }
   ],
   "source": [
    "list(X_cat.columns[np.argsort(-mi_class)])"
   ]
  },
  {
   "cell_type": "code",
   "execution_count": 36,
   "metadata": {
    "pycharm": {
     "is_executing": true
    }
   },
   "outputs": [],
   "source": [
    "#columns_ranked_mi = list(X_cat.columns[np.argsort(-mi_class)])\n",
    "columns_ranked_mi = ['L4_DST_PORT_C',\n",
    " 'L7_PROTO',\n",
    " 'L4_SRC_PORT_C',\n",
    " 'DNS_TTL_ANSWER',\n",
    " 'ICMP_TYPE',\n",
    " 'ICMP_IPV4_TYPE',\n",
    " 'PROTOCOL',\n",
    " 'DNS_QUERY_TYPE',\n",
    " 'IPV4_DST_ADDR_CLASSE',\n",
    " 'IPV4_SRC_ADDR_CLASSE']"
   ]
  },
  {
   "cell_type": "code",
   "execution_count": null,
   "metadata": {},
   "outputs": [],
   "source": []
  },
  {
   "cell_type": "code",
   "execution_count": 37,
   "metadata": {
    "pycharm": {
     "is_executing": true
    }
   },
   "outputs": [],
   "source": [
    "X_MI_20 = X_cat[columns_ranked_mi[:2]]\n",
    "X_MI_50 =  X_cat[columns_ranked_mi[:5]]\n",
    "X_MI_80 =  X_cat[columns_ranked_mi[:8]]\n",
    "\n",
    "list_dummy_20 = list(set( list(X_MI_20.columns)).intersection(dummy_feature))\n",
    "list_dummy_50 = list(set( list(X_MI_50.columns)).intersection(dummy_feature))\n",
    "list_dummy_80 = list(set( list(X_MI_80.columns)).intersection(dummy_feature))\n",
    "\n",
    "\n",
    "X_MI_20 = pd.get_dummies(X_MI_20, columns=list_dummy_20)\n",
    "X_MI_50 = pd.get_dummies(X_MI_50, columns=list_dummy_50)\n",
    "X_MI_80 = pd.get_dummies(X_MI_80, columns=list_dummy_80)"
   ]
  },
  {
   "cell_type": "code",
   "execution_count": null,
   "metadata": {
    "pycharm": {
     "is_executing": true
    }
   },
   "outputs": [],
   "source": []
  },
  {
   "cell_type": "markdown",
   "metadata": {},
   "source": [
    "## mRMR"
   ]
  },
  {
   "cell_type": "code",
   "execution_count": 38,
   "metadata": {
    "pycharm": {
     "is_executing": true
    }
   },
   "outputs": [
    {
     "name": "stderr",
     "output_type": "stream",
     "text": [
      "100%|████████████████████████████████████████████| 2/2 [00:03<00:00,  1.76s/it]\n",
      "100%|████████████████████████████████████████████| 5/5 [00:13<00:00,  2.62s/it]\n",
      "100%|████████████████████████████████████████████| 8/8 [00:23<00:00,  2.98s/it]\n"
     ]
    }
   ],
   "source": [
    "from mrmr import mrmr_classif\n",
    "selected_features_20 = mrmr_classif(X=X_cat, y=y_b, K=2)\n",
    "selected_features_50 = mrmr_classif(X=X_cat, y=y_b, K=5)\n",
    "selected_features_80 = mrmr_classif(X=X_cat, y=y_b, K=8)"
   ]
  },
  {
   "cell_type": "code",
   "execution_count": 39,
   "metadata": {
    "pycharm": {
     "is_executing": true
    }
   },
   "outputs": [],
   "source": [
    "X_mrmr_80 = X_cat[selected_features_80]\n",
    "X_mrmr_50 = X_cat[selected_features_50]\n",
    "X_mrmr_20 = X_cat[selected_features_20]\n",
    "\n",
    "list_dummy_20 = list(set( list(X_mrmr_20.columns)).intersection(dummy_feature))\n",
    "list_dummy_50 = list(set( list(X_mrmr_50.columns)).intersection(dummy_feature))\n",
    "list_dummy_80 = list(set( list(X_mrmr_80.columns)).intersection(dummy_feature))\n",
    "\n",
    "X_mrmr_20 = pd.get_dummies(X_mrmr_20, columns=list_dummy_20)\n",
    "X_mrmr_50 = pd.get_dummies(X_mrmr_50, columns=list_dummy_50)\n",
    "X_mrmr_80 = pd.get_dummies(X_mrmr_80, columns=list_dummy_80)"
   ]
  },
  {
   "cell_type": "code",
   "execution_count": 45,
   "metadata": {
    "pycharm": {
     "is_executing": true
    }
   },
   "outputs": [
    {
     "data": {
      "text/plain": [
       "['L4_DST_PORT_C',\n",
       " 'DNS_QUERY_TYPE',\n",
       " 'IPV4_SRC_ADDR_CLASSE',\n",
       " 'L7_PROTO',\n",
       " 'IPV4_DST_ADDR_CLASSE',\n",
       " 'PROTOCOL',\n",
       " 'ICMP_IPV4_TYPE',\n",
       " 'L4_SRC_PORT_C']"
      ]
     },
     "execution_count": 45,
     "metadata": {},
     "output_type": "execute_result"
    }
   ],
   "source": [
    "selected_features_80"
   ]
  },
  {
   "cell_type": "code",
   "execution_count": 47,
   "metadata": {},
   "outputs": [
    {
     "data": {
      "image/png": "[encoded data removed]",
      "text/plain": [
       "<Figure size 1200x600 with 1 Axes>"
      ]
     },
     "metadata": {},
     "output_type": "display_data"
    }
   ],
   "source": [
    "import matplotlib.pyplot as plt\n",
    "\n",
    "mi_scores = -np.sort(-mi_class)\n",
    "feature_names = columns_ranked_mi\n",
    "\n",
    "plt.figure(figsize=(12, 6))\n",
    "bars = plt.bar(range(len(feature_names)), mi_scores, align='center')\n",
    "plt.xticks(range(len(feature_names)), feature_names, rotation=45, ha=\"right\")\n",
    "plt.xlabel(\"Features\")\n",
    "plt.ylabel(\"Mutual Information Score\")\n",
    "plt.title(\"Mutual Information Scores for Feature Selection\")\n",
    "\n",
    "# Add MI score values at the top of each bar\n",
    "for bar, score in zip(bars, mi_scores):\n",
    "    plt.text(bar.get_x() + bar.get_width() / 2, bar.get_height(), round(score, 3),\n",
    "             ha='center', va='bottom')\n",
    "\n",
    "plt.tight_layout()\n",
    "plt.show()"
   ]
  },
  {
   "cell_type": "code",
   "execution_count": 48,
   "metadata": {},
   "outputs": [
    {
     "data": {
      "image/png": "[encoded data removed]",
      "text/plain": [
       "<Figure size 1400x800 with 1 Axes>"
      ]
     },
     "metadata": {},
     "output_type": "display_data"
    }
   ],
   "source": [
    "import matplotlib.pyplot as plt\n",
    "\n",
    "chi2_scores = -np.sort(-chi2_corr[0])\n",
    "feature_names_chi2 = columns_ranked_chi2\n",
    "\n",
    "plt.figure(figsize=(14, 8))\n",
    "bars = plt.bar(range(len(feature_names_chi2)), chi2_scores, align='center')\n",
    "plt.xticks(range(len(feature_names_chi2)), feature_names_chi2, rotation=45, ha=\"right\")\n",
    "plt.xlabel(\"Features\")\n",
    "plt.ylabel(\"CHI2 Score\")\n",
    "plt.title(\"Q squard Scores for Feature Selection\")\n",
    "\n",
    "# Add MI score values at the top of each bar\n",
    "for bar, score in zip(bars, mi_scores):\n",
    "    plt.text(bar.get_x() + bar.get_width() / 2, bar.get_height(), round(score, 3),\n",
    "             ha='center', va='bottom', rotation=45)\n",
    "\n",
    "plt.tight_layout()\n",
    "plt.show()"
   ]
  },
  {
   "cell_type": "code",
   "execution_count": 46,
   "metadata": {},
   "outputs": [],
   "source": [
    "import pickle\n",
    "\n",
    "class Company(object):\n",
    "    def __init__(self, name, value):\n",
    "        self.name = name\n",
    "        self.value = value\n",
    "\n",
    "with open('attribute/ton_num.pkl', 'wb') as outp:\n",
    "    company1 = Company('mi_class', mi_class)\n",
    "    pickle.dump(company1, outp, pickle.HIGHEST_PROTOCOL)\n",
    "\n",
    "    company2 = Company('selected_features_80', selected_features_80)\n",
    "    pickle.dump(company2, outp, pickle.HIGHEST_PROTOCOL)\n",
    "    \n",
    "    company3 = Company('chi2_corr', chi2_corr)\n",
    "    pickle.dump(company3, outp, pickle.HIGHEST_PROTOCOL)\n",
    "    \n",
    "    company4 = Company('sorted_kendall_tau_scores', sorted_kendall_tau_scores)\n",
    "    pickle.dump(company4, outp, pickle.HIGHEST_PROTOCOL)\n",
    "    \n",
    "    company5 = Company('sb_anova', sb)\n",
    "    pickle.dump(company5, outp, pickle.HIGHEST_PROTOCOL)\n"
   ]
  },
  {
   "cell_type": "markdown",
   "metadata": {},
   "source": [
    "### Decision Tree"
   ]
  },
  {
   "cell_type": "markdown",
   "metadata": {},
   "source": [
    "### MI"
   ]
  },
  {
   "cell_type": "code",
   "execution_count": 45,
   "metadata": {
    "pycharm": {
     "is_executing": true
    }
   },
   "outputs": [],
   "source": [
    "import json\n",
    "class NumpyEncoder(json.JSONEncoder):\n",
    "    def default(self, obj):\n",
    "        if isinstance(obj, np.ndarray):\n",
    "            return obj.tolist()\n",
    "        return json.JSONEncoder.default(self, obj)\n"
   ]
  },
  {
   "cell_type": "code",
   "execution_count": null,
   "metadata": {
    "pycharm": {
     "is_executing": true
    }
   },
   "outputs": [],
   "source": []
  },
  {
   "cell_type": "code",
   "execution_count": 60,
   "metadata": {
    "pycharm": {
     "is_executing": true
    }
   },
   "outputs": [],
   "source": [
    "from sklearn import tree\n",
    "from sklearn.model_selection import KFold\n",
    "import json\n",
    "from sklearn.model_selection import GridSearchCV\n",
    "from sklearn.metrics import make_scorer,cohen_kappa_score,matthews_corrcoef\n",
    "\n",
    "\n",
    "def my_grid_result_df(clf,hyperparams,data_name,algo_name,X,y):\n",
    "    \n",
    "    scoring = {\"Accuracy\": \"accuracy\", \"F1-Score\":'f1' ,\"Recall\": 'recall',\n",
    "               \"Precision\":\"precision\",\"MCC\":make_scorer(matthews_corrcoef), \"Kappa\":make_scorer(cohen_kappa_score)}\n",
    "    cv_inner = KFold(n_splits=5, shuffle=True, random_state=1)\n",
    "    search = GridSearchCV(clf, hyperparams, scoring=scoring, n_jobs=1, cv=cv_inner, refit=\"MCC\")\n",
    "    grid_result = search.fit(X, y)\n",
    "\n",
    "    json_dump = json.dumps(grid_result.cv_results_,cls=NumpyEncoder)\n",
    "    # Serializing json\n",
    "\n",
    "    # Writing to sample.json\n",
    "    with open(f\"./result_ton_num_bin/{algo_name}__{data_name}.json\", \"w\") as outfile:\n",
    "        outfile.write(json_dump)\n"
   ]
  },
  {
   "cell_type": "code",
   "execution_count": 47,
   "metadata": {},
   "outputs": [
    {
     "data": {
      "text/plain": [
       "(16940496, 5)"
      ]
     },
     "execution_count": 47,
     "metadata": {},
     "output_type": "execute_result"
    }
   ],
   "source": [
    "X_A_20.shape"
   ]
  },
  {
   "cell_type": "code",
   "execution_count": 48,
   "metadata": {},
   "outputs": [
    {
     "data": {
      "text/plain": [
       "(16940496, 14)"
      ]
     },
     "execution_count": 48,
     "metadata": {},
     "output_type": "execute_result"
    }
   ],
   "source": [
    "X_A_chi2_20 = pd.concat([X_A_20,X_chi2_20],axis=1)\n",
    "X_A_chi2_20.shape"
   ]
  },
  {
   "cell_type": "code",
   "execution_count": 49,
   "metadata": {},
   "outputs": [],
   "source": [
    "X_A_chi2_20 = pd.concat([X_A_20,X_chi2_20],axis=1)\n",
    "X_A_chi2_50 = pd.concat([X_A_50,X_chi2_50],axis=1)\n",
    "X_A_chi2_80 = pd.concat([X_A_80,X_chi2_80],axis=1)\n",
    "\n",
    "X_A_MI_20 = pd.concat([X_A_20,X_MI_20],axis=1)\n",
    "X_A_MI_50= pd.concat([X_A_50,X_MI_50],axis=1)\n",
    "X_A_MI_80= pd.concat([X_A_80,X_MI_80],axis=1)\n",
    "\n",
    "X_A_mRMR_20 = pd.concat([X_A_20,X_mrmr_20],axis=1)\n",
    "X_A_mRMR_50 = pd.concat([X_A_50,X_mrmr_50],axis=1)\n",
    "X_A_mRMR_80 = pd.concat([X_A_80,X_mrmr_80],axis=1)\n",
    "\n",
    "X_K_chi2_20 = pd.concat([X_K_20,X_chi2_20],axis=1)\n",
    "X_K_chi2_50 = pd.concat([X_K_50,X_chi2_50],axis=1)\n",
    "X_K_chi2_80 = pd.concat([X_K_80,X_chi2_80],axis=1)\n",
    "\n",
    "X_K_MI_20 = pd.concat([X_K_20,X_MI_20],axis=1)\n",
    "X_K_MI_50 = pd.concat([X_K_50,X_MI_50],axis=1)\n",
    "X_K_MI_80 = pd.concat([X_K_80,X_MI_80],axis=1)\n",
    "\n",
    "X_K_mRMR_20 = pd.concat([X_K_20,X_mrmr_20],axis=1)\n",
    "X_K_mRMR_50 = pd.concat([X_K_50,X_mrmr_50],axis=1)\n",
    "X_K_mRMR_80 = pd.concat([X_K_80,X_mrmr_80],axis=1)\n",
    "\n",
    "X_PCA_chi2  = pd.concat([X_PCA,X_chi2_80],axis=1)\n",
    "X_PCA_MI = pd.concat([X_PCA,X_MI_80],axis=1)\n",
    "X_PCA_mRMR = pd.concat([X_PCA,X_mrmr_80],axis=1)"
   ]
  },
  {
   "cell_type": "code",
   "execution_count": 50,
   "metadata": {},
   "outputs": [
    {
     "name": "stdout",
     "output_type": "stream",
     "text": [
      "(16940496, 14)\n",
      "(16940496, 33)\n",
      "(16940496, 46)\n",
      "(16940496, 17)\n",
      "(16940496, 31)\n",
      "(16940496, 46)\n",
      "(16940496, 10)\n",
      "(16940496, 36)\n",
      "(16940496, 54)\n",
      "(16940496, 14)\n",
      "(16940496, 33)\n",
      "(16940496, 46)\n",
      "(16940496, 17)\n",
      "(16940496, 31)\n",
      "(16940496, 46)\n",
      "(16940496, 10)\n",
      "(16940496, 36)\n",
      "(16940496, 54)\n",
      "(16940496, 39)\n",
      "(16940496, 39)\n",
      "(16940496, 47)\n"
     ]
    }
   ],
   "source": [
    "print(X_A_chi2_20.shape)\n",
    "print(X_A_chi2_50.shape)\n",
    "print(X_A_chi2_80.shape)\n",
    "print(X_A_MI_20.shape)\n",
    "print(X_A_MI_50.shape)\n",
    "print(X_A_MI_80.shape)\n",
    "print(X_A_mRMR_20.shape)\n",
    "print(X_A_mRMR_50.shape)\n",
    "print(X_A_mRMR_80.shape)\n",
    "print(X_K_chi2_20.shape)\n",
    "print(X_K_chi2_50.shape)\n",
    "print(X_K_chi2_80.shape)\n",
    "print(X_K_MI_20.shape)\n",
    "print(X_K_MI_50.shape)\n",
    "print(X_K_MI_80.shape)\n",
    "print(X_K_mRMR_20.shape)\n",
    "print(X_K_mRMR_50.shape)\n",
    "print(X_K_mRMR_80.shape)\n",
    "print(X_PCA_chi2.shape)\n",
    "print(X_PCA_MI.shape)\n",
    "print(X_PCA_mRMR.shape)"
   ]
  },
  {
   "cell_type": "code",
   "execution_count": 52,
   "metadata": {},
   "outputs": [
    {
     "data": {
      "text/plain": [
       "(16940496, 61)"
      ]
     },
     "execution_count": 52,
     "metadata": {},
     "output_type": "execute_result"
    }
   ],
   "source": [
    "\n",
    "\n",
    "dummy_feature = ['L4_SRC_PORT_C','L4_DST_PORT_C','IPV4_SRC_ADDR_CLASSE',\n",
    "                 'IPV4_DST_ADDR_CLASSE','PROTOCOL','L7_PROTO']\n",
    "X_cat_dm = pd.get_dummies(X_cat, columns=dummy_feature)\n",
    "X =  pd.concat([X_Numerical_sc,X_cat_dm],axis=1)\n",
    "X.shape"
   ]
  },
  {
   "cell_type": "code",
   "execution_count": 53,
   "metadata": {
    "pycharm": {
     "is_executing": true
    }
   },
   "outputs": [],
   "source": [
    "datasets = {\"X_A_chi2_20\":X_A_chi2_20,\n",
    "\"X_A_chi2_50\":X_A_chi2_50,\n",
    "\"X_A_chi2_80\":X_A_chi2_80,\n",
    "\"X_A_MI_20\":X_A_MI_20,\n",
    "\"X_A_MI_50\":X_A_MI_50,\n",
    "\"X_A_MI_80\":X_A_MI_80,\n",
    "\"X_A_mRMR_20\":X_A_mRMR_20,\n",
    "\"X_A_mRMR_50\":X_A_mRMR_50,\n",
    "\"X_A_mRMR_80\":X_A_mRMR_80,\n",
    "\"X_K_chi2_20\":X_K_chi2_20,\n",
    "\"X_K_chi2_50\":X_K_chi2_50,\n",
    "\"X_K_chi2_80\":X_K_chi2_80,\n",
    "\"X_K_MI_20\":X_K_MI_20,\n",
    "\"X_K_MI_50\":X_K_MI_50,\n",
    "\"X_K_MI_80\":X_K_MI_80,\n",
    "\"X_K_mRMR_20\":X_K_mRMR_20,\n",
    "\"X_K_mRMR_50\":X_K_mRMR_50,\n",
    "\"X_K_mRMR_80\":X_K_mRMR_80,\n",
    "\"X_PCA_chi2\":X_PCA_chi2,\n",
    "\"X_PCA_MI\":X_PCA_MI,\n",
    "\"X_PCA_mRMR\":X_PCA_mRMR,\n",
    "           \"X\":X}"
   ]
  },
  {
   "cell_type": "code",
   "execution_count": 61,
   "metadata": {
    "pycharm": {
     "is_executing": true
    }
   },
   "outputs": [],
   "source": [
    "import datetime\n",
    "def create_all_result(clf,algo_name,hyperparams,datasets,y):\n",
    "    for k,v in datasets.items():\n",
    "        now = datetime.datetime.now()\n",
    "        print(f'======== process======= dataset : {k} \\t time is {now}')\n",
    "        my_grid_result_df(clf,hyperparams,k,algo_name,v,y)\n",
    "        now = datetime.datetime.now()\n",
    "        print(f'======== Done  ======== dataset : {k} \\t time is {now}')\n",
    "        print('\\n')\n"
   ]
  },
  {
   "cell_type": "markdown",
   "metadata": {},
   "source": [
    "# Decision Tree"
   ]
  },
  {
   "cell_type": "code",
   "execution_count": 86,
   "metadata": {},
   "outputs": [
    {
     "name": "stdout",
     "output_type": "stream",
     "text": [
      "======== process======= dataset : X_A_chi2_20 \t time is 2023-03-11 13:01:27.885369\n",
      "======== Done  ======== dataset : X_A_chi2_20 \t time is 2023-03-11 13:03:20.267309\n",
      "\n",
      "\n",
      "======== process======= dataset : X_A_chi2_50 \t time is 2023-03-11 13:03:20.267309\n",
      "======== Done  ======== dataset : X_A_chi2_50 \t time is 2023-03-11 13:10:09.031304\n",
      "\n",
      "\n",
      "======== process======= dataset : X_A_chi2_80 \t time is 2023-03-11 13:10:09.031304\n",
      "======== Done  ======== dataset : X_A_chi2_80 \t time is 2023-03-11 13:23:15.800159\n",
      "\n",
      "\n",
      "======== process======= dataset : X_A_MI_20 \t time is 2023-03-11 13:23:15.800159\n",
      "======== Done  ======== dataset : X_A_MI_20 \t time is 2023-03-11 13:25:49.004255\n",
      "\n",
      "\n",
      "======== process======= dataset : X_A_MI_50 \t time is 2023-03-11 13:25:49.004255\n",
      "======== Done  ======== dataset : X_A_MI_50 \t time is 2023-03-11 13:34:17.582271\n",
      "\n",
      "\n",
      "======== process======= dataset : X_A_MI_80 \t time is 2023-03-11 13:34:17.582271\n",
      "======== Done  ======== dataset : X_A_MI_80 \t time is 2023-03-11 13:45:56.523527\n",
      "\n",
      "\n",
      "======== process======= dataset : X_A_mRMR_20 \t time is 2023-03-11 13:45:56.523527\n",
      "======== Done  ======== dataset : X_A_mRMR_20 \t time is 2023-03-11 13:47:29.181317\n",
      "\n",
      "\n",
      "======== process======= dataset : X_A_mRMR_50 \t time is 2023-03-11 13:47:29.181317\n",
      "======== Done  ======== dataset : X_A_mRMR_50 \t time is 2023-03-11 13:54:06.104892\n",
      "\n",
      "\n",
      "======== process======= dataset : X_A_mRMR_80 \t time is 2023-03-11 13:54:06.104892\n",
      "======== Done  ======== dataset : X_A_mRMR_80 \t time is 2023-03-11 14:05:47.306707\n",
      "\n",
      "\n",
      "======== process======= dataset : X_K_chi2_20 \t time is 2023-03-11 14:05:47.306707\n",
      "======== Done  ======== dataset : X_K_chi2_20 \t time is 2023-03-11 14:08:25.199447\n",
      "\n",
      "\n",
      "======== process======= dataset : X_K_chi2_50 \t time is 2023-03-11 14:08:25.199447\n",
      "======== Done  ======== dataset : X_K_chi2_50 \t time is 2023-03-11 14:14:16.878868\n",
      "\n",
      "\n",
      "======== process======= dataset : X_K_chi2_80 \t time is 2023-03-11 14:14:16.878868\n",
      "======== Done  ======== dataset : X_K_chi2_80 \t time is 2023-03-11 14:25:56.298788\n",
      "\n",
      "\n",
      "======== process======= dataset : X_K_MI_20 \t time is 2023-03-11 14:25:56.298788\n",
      "======== Done  ======== dataset : X_K_MI_20 \t time is 2023-03-11 14:29:07.167278\n",
      "\n",
      "\n",
      "======== process======= dataset : X_K_MI_50 \t time is 2023-03-11 14:29:07.167278\n",
      "======== Done  ======== dataset : X_K_MI_50 \t time is 2023-03-11 14:35:40.761515\n",
      "\n",
      "\n",
      "======== process======= dataset : X_K_MI_80 \t time is 2023-03-11 14:35:40.761515\n",
      "======== Done  ======== dataset : X_K_MI_80 \t time is 2023-03-11 14:47:24.478413\n",
      "\n",
      "\n",
      "======== process======= dataset : X_K_mRMR_20 \t time is 2023-03-11 14:47:24.478413\n",
      "======== Done  ======== dataset : X_K_mRMR_20 \t time is 2023-03-11 14:49:55.980193\n",
      "\n",
      "\n",
      "======== process======= dataset : X_K_mRMR_50 \t time is 2023-03-11 14:49:55.980193\n",
      "======== Done  ======== dataset : X_K_mRMR_50 \t time is 2023-03-11 14:55:57.599854\n",
      "\n",
      "\n",
      "======== process======= dataset : X_K_mRMR_80 \t time is 2023-03-11 14:55:57.599854\n",
      "======== Done  ======== dataset : X_K_mRMR_80 \t time is 2023-03-11 15:08:02.961763\n",
      "\n",
      "\n",
      "======== process======= dataset : X_PCA_chi2 \t time is 2023-03-11 15:08:02.961763\n",
      "======== Done  ======== dataset : X_PCA_chi2 \t time is 2023-03-11 15:26:40.939834\n",
      "\n",
      "\n",
      "======== process======= dataset : X_PCA_MI \t time is 2023-03-11 15:26:40.939834\n",
      "======== Done  ======== dataset : X_PCA_MI \t time is 2023-03-11 15:45:17.752542\n",
      "\n",
      "\n",
      "======== process======= dataset : X_PCA_mRMR \t time is 2023-03-11 15:45:17.752542\n",
      "======== Done  ======== dataset : X_PCA_mRMR \t time is 2023-03-11 16:10:49.173144\n",
      "\n",
      "\n",
      "======== process======= dataset : X \t time is 2023-03-11 16:10:49.173144\n",
      "======== Done  ======== dataset : X \t time is 2023-03-11 16:31:54.940696\n",
      "\n",
      "\n"
     ]
    }
   ],
   "source": [
    "clf = tree.DecisionTreeClassifier()\n",
    "hyperparams = {}\n",
    "create_all_result(clf,'DecisionTreeClassifier',hyperparams,datasets,y_b)"
   ]
  },
  {
   "cell_type": "code",
   "execution_count": 55,
   "metadata": {},
   "outputs": [
    {
     "data": {
      "text/plain": [
       "dict_keys(['explained_variance', 'r2', 'max_error', 'matthews_corrcoef', 'neg_median_absolute_error', 'neg_mean_absolute_error', 'neg_mean_absolute_percentage_error', 'neg_mean_squared_error', 'neg_mean_squared_log_error', 'neg_root_mean_squared_error', 'neg_mean_poisson_deviance', 'neg_mean_gamma_deviance', 'accuracy', 'top_k_accuracy', 'roc_auc', 'roc_auc_ovr', 'roc_auc_ovo', 'roc_auc_ovr_weighted', 'roc_auc_ovo_weighted', 'balanced_accuracy', 'average_precision', 'neg_log_loss', 'neg_brier_score', 'positive_likelihood_ratio', 'neg_negative_likelihood_ratio', 'adjusted_rand_score', 'rand_score', 'homogeneity_score', 'completeness_score', 'v_measure_score', 'mutual_info_score', 'adjusted_mutual_info_score', 'normalized_mutual_info_score', 'fowlkes_mallows_score', 'precision', 'precision_macro', 'precision_micro', 'precision_samples', 'precision_weighted', 'recall', 'recall_macro', 'recall_micro', 'recall_samples', 'recall_weighted', 'f1', 'f1_macro', 'f1_micro', 'f1_samples', 'f1_weighted', 'jaccard', 'jaccard_macro', 'jaccard_micro', 'jaccard_samples', 'jaccard_weighted'])"
      ]
     },
     "execution_count": 55,
     "metadata": {},
     "output_type": "execute_result"
    }
   ],
   "source": [
    "import sklearn\n",
    "sklearn.metrics.SCORERS.keys()"
   ]
  },
  {
   "cell_type": "markdown",
   "metadata": {},
   "source": [
    "### AdaBoostClassifier, GradientBoostingClassifier\n"
   ]
  },
  {
   "cell_type": "code",
   "execution_count": 62,
   "metadata": {},
   "outputs": [],
   "source": [
    "def print_skip():\n",
    "    print('\\n')\n",
    "    print('*************** \\t ******************* \\t ****************')\n",
    "    print('*************** \\t ******************* \\t ****************')\n",
    "    print('\\n')\n",
    "    \n"
   ]
  },
  {
   "cell_type": "code",
   "execution_count": null,
   "metadata": {},
   "outputs": [
    {
     "name": "stdout",
     "output_type": "stream",
     "text": [
      "======================= GradientBoostingClassifier =====================\n",
      "======== process======= dataset : X_A_chi2_20 \t time is 2023-04-02 14:50:59.791138\n"
     ]
    }
   ],
   "source": [
    "from sklearn.ensemble import AdaBoostClassifier,GradientBoostingClassifier\n",
    "from lightgbm import LGBMClassifier\n",
    "from catboost import  CatBoostClassifier\n",
    "from xgboost import  XGBClassifier\n",
    "\n",
    "\n",
    "clf = GradientBoostingClassifier(random_state=0)\n",
    "hyperparams = {'n_estimators':[50, 100, 150,200]}\n",
    "\n",
    "print('======================= GradientBoostingClassifier =====================')\n",
    "create_all_result(clf,'GradientBoostingClassifier',hyperparams,datasets,y_b)\n",
    "print_skip()\n",
    "\n",
    "print('======================= AdaBoostClassifier =====================')\n",
    "clf =  AdaBoostClassifier(random_state=0)\n",
    "create_all_result(clf,'AdaBoostClassifier',hyperparams,datasets,y_b)\n",
    "print_skip()\n",
    "\n",
    "\n",
    "print('======================= XGBClassifier =====================')\n",
    "clf = XGBClassifier(random_state=0)\n",
    "create_all_result(clf,'XGBClassifier',hyperparams,datasets,y_b)\n",
    "print_skip()\n",
    "\n",
    "print('======================= LGBMClassifier =====================')\n",
    "clf = LGBMClassifier(random_state=0)\n",
    "create_all_result(clf,'LGBMClassifier',hyperparams,datasets,y_b)\n",
    "print_skip()\n",
    "\n",
    "print('======================= CatBoostClassifier =====================')\n",
    "clf =  CatBoostClassifier(random_state=0)\n",
    "create_all_result(clf,'CatBoostClassifier',hyperparams,datasets,y_b)\n"
   ]
  },
  {
   "cell_type": "code",
   "execution_count": null,
   "metadata": {},
   "outputs": [],
   "source": []
  },
  {
   "cell_type": "markdown",
   "metadata": {},
   "source": [
    "### Multiclassification"
   ]
  },
  {
   "cell_type": "code",
   "execution_count": null,
   "metadata": {},
   "outputs": [],
   "source": [
    "y_multi = y_multi.replace('Benign',0)\n",
    "y_multi = y_multi.replace('scanning',1)\n",
    "y_multi = y_multi.replace('xss',2)\n",
    "y_multi = y_multi.replace('ddos',3)\n",
    "y_multi = y_multi.replace('password',4)\n",
    "y_multi = y_multi.replace('dos',5)\n",
    "y_multi = y_multi.replace('injection',6)\n",
    "y_multi = y_multi.replace('backdoor',7)\n",
    "y_multi = y_multi.replace('mitm',8)\n",
    "y_multi = y_multi.replace('ransomware',9)\n",
    "\n"
   ]
  },
  {
   "cell_type": "code",
   "execution_count": null,
   "metadata": {},
   "outputs": [],
   "source": [
    "y_multi.value_counts()"
   ]
  },
  {
   "cell_type": "markdown",
   "metadata": {},
   "source": [
    "### Mutual Information"
   ]
  },
  {
   "cell_type": "code",
   "execution_count": null,
   "metadata": {},
   "outputs": [],
   "source": [
    "from sklearn.feature_selection import mutual_info_classif\n",
    "\n",
    "\n",
    "mi_class = mutual_info_classif(X_cat, y_multi)\n",
    "\n",
    "columns_ranked_mi = list(X_cat.columns[np.argsort(-mi_class_multi)])\n",
    "\n",
    "columns_ranked_mi"
   ]
  },
  {
   "cell_type": "code",
   "execution_count": null,
   "metadata": {},
   "outputs": [],
   "source": []
  },
  {
   "cell_type": "code",
   "execution_count": 30,
   "metadata": {},
   "outputs": [],
   "source": [
    "X_MI_20 = X_cat[columns_ranked_mi[:2]]\n",
    "X_MI_50 =  X_cat[columns_ranked_mi[:5]]\n",
    "X_MI_80 =  X_cat[columns_ranked_mi[:8]]\n",
    "\n",
    "list_dummy_20 = list(set( list(X_MI_20.columns)).intersection(dummy_feature))\n",
    "list_dummy_50 = list(set( list(X_MI_50.columns)).intersection(dummy_feature))\n",
    "list_dummy_80 = list(set( list(X_MI_80.columns)).intersection(dummy_feature))\n",
    "\n",
    "\n",
    "X_MI_20 = pd.get_dummies(X_MI_20, columns=list_dummy_20)\n",
    "X_MI_50 = pd.get_dummies(X_MI_50, columns=list_dummy_50)\n",
    "X_MI_80 = pd.get_dummies(X_MI_80, columns=list_dummy_80)"
   ]
  },
  {
   "cell_type": "code",
   "execution_count": 32,
   "metadata": {},
   "outputs": [],
   "source": [
    "X_MI_20 = X[columns_ranked_mi[:7]]\n",
    "X_MI_50 =  X[columns_ranked_mi[:18]]\n",
    "X_MI_80 =  X[columns_ranked_mi[:25]]\n",
    "\n",
    "dummy_feature = ['L4_SRC_PORT_C','L4_DST_PORT_C','IPV4_SRC_ADDR_CLASSE',\n",
    "                 'IPV4_DST_ADDR_CLASSE','PROTOCOL','L7_PROTO']\n",
    "\n",
    "list_dummy_20 = list(set( list(X_MI_20.columns)).intersection(dummy_feature))\n",
    "list_dummy_50 = list(set( list(X_MI_50.columns)).intersection(dummy_feature))\n",
    "list_dummy_80 = list(set( list(X_MI_80.columns)).intersection(dummy_feature))\n",
    "\n",
    "\n",
    "X_MI_20 = pd.get_dummies(X_MI_20, columns=list_dummy_20)\n",
    "X_MI_50 = pd.get_dummies(X_MI_50, columns=list_dummy_50)\n",
    "X_MI_80 = pd.get_dummies(X_MI_80, columns=list_dummy_80)"
   ]
  },
  {
   "cell_type": "code",
   "execution_count": null,
   "metadata": {},
   "outputs": [],
   "source": []
  },
  {
   "cell_type": "markdown",
   "metadata": {},
   "source": [
    "### CHI2\n"
   ]
  },
  {
   "cell_type": "code",
   "execution_count": 55,
   "metadata": {},
   "outputs": [
    {
     "data": {
      "text/plain": [
       "['DNS_QUERY_TYPE',\n",
       " 'L7_PROTO',\n",
       " 'OUT_BYTES',\n",
       " 'DST_TO_SRC_SECOND_BYTES',\n",
       " 'IN_BYTES',\n",
       " 'SRC_TO_DST_SECOND_BYTES',\n",
       " 'PROTOCOL',\n",
       " 'TCP_WIN_MAX_OUT',\n",
       " 'OUT_PKTS',\n",
       " 'IN_PKTS',\n",
       " 'DST_TO_SRC_AVG_THROUGHPUT',\n",
       " 'LONGEST_FLOW_PKT',\n",
       " 'MIN_IP_PKT_LEN',\n",
       " 'NUM_PKTS_UP_TO_128_BYTES',\n",
       " 'MIN_TTL',\n",
       " 'L4_DST_PORT_C',\n",
       " 'TCP_WIN_MAX_IN',\n",
       " 'TCP_FLAGS',\n",
       " 'SHORTEST_FLOW_PKT',\n",
       " 'NUM_PKTS_512_TO_1024_BYTES',\n",
       " 'SRC_TO_DST_AVG_THROUGHPUT',\n",
       " 'DURATION_OUT',\n",
       " 'NUM_PKTS_256_TO_512_BYTES',\n",
       " 'DURATION_IN',\n",
       " 'FLOW_DURATION_MILLISECONDS',\n",
       " 'DNS_TTL_ANSWER',\n",
       " 'ICMP_IPV4_TYPE',\n",
       " 'ICMP_TYPE',\n",
       " 'IPV4_DST_ADDR_CLASSE',\n",
       " 'L4_SRC_PORT_C',\n",
       " 'IPV4_SRC_ADDR_CLASSE',\n",
       " 'RETRANSMITTED_OUT_BYTES',\n",
       " 'RETRANSMITTED_IN_PKTS',\n",
       " 'RETRANSMITTED_IN_BYTES',\n",
       " 'NUM_PKTS_128_TO_256_BYTES']"
      ]
     },
     "execution_count": 55,
     "metadata": {},
     "output_type": "execute_result"
    }
   ],
   "source": [
    "from sklearn.feature_selection import chi2\n",
    "\n",
    "chi2_corr = chi2(X, y_multi)\n",
    "columns_ranked_chi2 = list(X.columns[np.argsort(-chi2_corr[0])])\n",
    "columns_ranked_chi2"
   ]
  },
  {
   "cell_type": "raw",
   "metadata": {},
   "source": [
    "columns_ranked_chi2=['DNS_QUERY_TYPE',\n",
    " 'L7_PROTO',\n",
    " 'OUT_BYTES',\n",
    " 'DST_TO_SRC_SECOND_BYTES',\n",
    " 'IN_BYTES',\n",
    " 'SRC_TO_DST_SECOND_BYTES',\n",
    " 'PROTOCOL',\n",
    " 'TCP_WIN_MAX_OUT',\n",
    " 'OUT_PKTS',\n",
    " 'IN_PKTS',\n",
    " 'DST_TO_SRC_AVG_THROUGHPUT',\n",
    " 'LONGEST_FLOW_PKT',\n",
    " 'MIN_IP_PKT_LEN',\n",
    " 'NUM_PKTS_UP_TO_128_BYTES',\n",
    " 'MIN_TTL',\n",
    " 'L4_DST_PORT_C',\n",
    " 'TCP_WIN_MAX_IN',\n",
    " 'TCP_FLAGS',\n",
    " 'SHORTEST_FLOW_PKT',\n",
    " 'NUM_PKTS_512_TO_1024_BYTES',\n",
    " 'SRC_TO_DST_AVG_THROUGHPUT',\n",
    " 'DURATION_OUT',\n",
    " 'NUM_PKTS_256_TO_512_BYTES',\n",
    " 'DURATION_IN',\n",
    " 'FLOW_DURATION_MILLISECONDS',\n",
    " 'DNS_TTL_ANSWER',\n",
    " 'ICMP_IPV4_TYPE',\n",
    " 'ICMP_TYPE',\n",
    " 'IPV4_DST_ADDR_CLASSE',\n",
    " 'L4_SRC_PORT_C',\n",
    " 'IPV4_SRC_ADDR_CLASSE',\n",
    " 'RETRANSMITTED_OUT_BYTES',\n",
    " 'RETRANSMITTED_IN_PKTS',\n",
    " 'RETRANSMITTED_IN_BYTES',\n",
    " 'NUM_PKTS_128_TO_256_BYTES']"
   ]
  },
  {
   "cell_type": "code",
   "execution_count": 34,
   "metadata": {},
   "outputs": [],
   "source": [
    "X_chi2_20 = X[columns_ranked_chi2[:2]]\n",
    "X_chi2_50 =  X[columns_ranked_chi2[:5]]\n",
    "X_chi2_80 =  X[columns_ranked_chi2[:8]]\n",
    "\n",
    "list_dummy_20 = list(set( list(X_chi2_20.columns)).intersection(dummy_feature))\n",
    "list_dummy_50 = list(set( list(X_chi2_50.columns)).intersection(dummy_feature))\n",
    "list_dummy_80 = list(set( list(X_chi2_80.columns)).intersection(dummy_feature))\n",
    "\n",
    "\n",
    "X_chi2_20 = pd.get_dummies(X_chi2_20, columns=list_dummy_20)\n",
    "X_chi2_50 = pd.get_dummies(X_chi2_50, columns=list_dummy_50)\n",
    "X_chi2_80 = pd.get_dummies(X_chi2_80, columns=list_dummy_80)"
   ]
  },
  {
   "cell_type": "markdown",
   "metadata": {},
   "source": [
    "##  mRMR, which stands for \"minimum Redundancy - Maximum Relevance\","
   ]
  },
  {
   "cell_type": "markdown",
   "metadata": {},
   "source": [
    "## mRMR"
   ]
  },
  {
   "cell_type": "code",
   "execution_count": 35,
   "metadata": {
    "pycharm": {
     "is_executing": true
    }
   },
   "outputs": [
    {
     "name": "stderr",
     "output_type": "stream",
     "text": [
      "100%|████████████████████████████████████████████████████████████████████████████████████| 7/7 [00:49<00:00,  7.04s/it]\n",
      "100%|██████████████████████████████████████████████████████████████████████████████████| 18/18 [01:55<00:00,  6.43s/it]\n",
      "100%|██████████████████████████████████████████████████████████████████████████████████| 25/25 [02:28<00:00,  5.96s/it]\n"
     ]
    }
   ],
   "source": [
    "from mrmr import mrmr_classif\n",
    "selected_features_20 = mrmr_classif(X=X, y=y_multi, K=7)\n",
    "selected_features_50 = mrmr_classif(X=X, y=y_multi, K=18)\n",
    "selected_features_80 = mrmr_classif(X=X, y=y_multi, K=25)"
   ]
  },
  {
   "cell_type": "code",
   "execution_count": 36,
   "metadata": {},
   "outputs": [
    {
     "data": {
      "text/plain": [
       "['IN_BYTES',\n",
       " 'PROTOCOL',\n",
       " 'DST_TO_SRC_SECOND_BYTES',\n",
       " 'MIN_IP_PKT_LEN',\n",
       " 'TCP_WIN_MAX_OUT',\n",
       " 'LONGEST_FLOW_PKT',\n",
       " 'SRC_TO_DST_SECOND_BYTES',\n",
       " 'MIN_TTL',\n",
       " 'OUT_BYTES',\n",
       " 'SHORTEST_FLOW_PKT',\n",
       " 'TCP_WIN_MAX_IN',\n",
       " 'OUT_PKTS',\n",
       " 'NUM_PKTS_UP_TO_128_BYTES',\n",
       " 'DNS_QUERY_TYPE',\n",
       " 'DST_TO_SRC_AVG_THROUGHPUT',\n",
       " 'IN_PKTS',\n",
       " 'NUM_PKTS_512_TO_1024_BYTES',\n",
       " 'FLOW_DURATION_MILLISECONDS',\n",
       " 'SRC_TO_DST_AVG_THROUGHPUT',\n",
       " 'DURATION_OUT',\n",
       " 'DURATION_IN',\n",
       " 'IPV4_DST_ADDR_CLASSE',\n",
       " 'DNS_TTL_ANSWER',\n",
       " 'NUM_PKTS_256_TO_512_BYTES',\n",
       " 'TCP_FLAGS']"
      ]
     },
     "execution_count": 36,
     "metadata": {},
     "output_type": "execute_result"
    }
   ],
   "source": [
    "selected_features_80"
   ]
  },
  {
   "cell_type": "code",
   "execution_count": 37,
   "metadata": {
    "pycharm": {
     "is_executing": true
    }
   },
   "outputs": [],
   "source": [
    "X_mrmr_80 = X[selected_features_80]\n",
    "X_mrmr_50 = X[selected_features_50]\n",
    "X_mrmr_20 = X[selected_features_20]\n",
    "\n",
    "list_dummy_20 = list(set( list(X_mrmr_20.columns)).intersection(dummy_feature))\n",
    "list_dummy_50 = list(set( list(X_mrmr_50.columns)).intersection(dummy_feature))\n",
    "list_dummy_80 = list(set( list(X_mrmr_80.columns)).intersection(dummy_feature))\n",
    "\n",
    "X_mrmr_20 = pd.get_dummies(X_mrmr_20, columns=list_dummy_20)\n",
    "X_mrmr_50 = pd.get_dummies(X_mrmr_50, columns=list_dummy_50)\n",
    "X_mrmr_80 = pd.get_dummies(X_mrmr_80, columns=list_dummy_80)"
   ]
  },
  {
   "cell_type": "code",
   "execution_count": 38,
   "metadata": {},
   "outputs": [],
   "source": [
    "datasets_multi = {'X_chi2_20':X_chi2_20,\n",
    "            'X_chi2_50':X_chi2_50,\n",
    "            'X_chi2_80':X_chi2_80,\n",
    "            'X_MI_20':X_MI_20,\n",
    "            'X_MI_50':X_MI_50,\n",
    "            'X_MI_80':X_MI_80,\n",
    "            'X_mrmr_20':X_mrmr_20,\n",
    "            'X_mrmr_50':X_mrmr_50,\n",
    "            'X_mrmr_80':X_mrmr_80,\n",
    "            'X':X}"
   ]
  },
  {
   "cell_type": "markdown",
   "metadata": {},
   "source": [
    "## Building the models "
   ]
  },
  {
   "cell_type": "code",
   "execution_count": null,
   "metadata": {},
   "outputs": [],
   "source": []
  },
  {
   "cell_type": "code",
   "execution_count": 42,
   "metadata": {},
   "outputs": [],
   "source": [
    "from sklearn import tree\n",
    "from sklearn.model_selection import KFold\n",
    "import json\n",
    "from sklearn.model_selection import GridSearchCV\n",
    "from sklearn.metrics import make_scorer,cohen_kappa_score,matthews_corrcoef,accuracy_score,precision_score,recall_score\n",
    "\n",
    "\n",
    "def my_grid_result_df(clf,hyperparams,data_name,algo_name,X,y):\n",
    "    \n",
    "    scoring = {\"Accuracy\": make_scorer(accuracy_score),\n",
    "               \"F1-Score\":'f1_macro' ,\n",
    "               \"Recall\":  make_scorer(recall_score,average='macro'),\n",
    "              # \"Precision\": make_scorer(precision_score, average='macro'),\n",
    "               \"MCC\":make_scorer(matthews_corrcoef),\n",
    "               \"Kappa\":make_scorer(cohen_kappa_score)\n",
    "              }\n",
    "    cv_inner = KFold(n_splits=5, shuffle=True, random_state=1)\n",
    "    search = GridSearchCV(clf, hyperparams, scoring=scoring, n_jobs=-1, cv=cv_inner, refit=\"Kappa\")\n",
    "    grid_result = search.fit(X, y)\n",
    "\n",
    "    json_dump = json.dumps(grid_result.cv_results_,cls=NumpyEncoder)\n",
    "    # Serializing json\n",
    "\n",
    "    # Writing to sample.json\n",
    "    with open(f\"./result_multi/{algo_name}__{data_name}.json\", \"w\") as outfile:\n",
    "        outfile.write(json_dump)\n",
    "\n",
    "\n",
    "def create_all_result(clf,algo_name,hyperparams,datasets,y):\n",
    "    for k,v in datasets.items():\n",
    "        now = datetime.datetime.now()\n",
    "        print(f'======== process======= dataset : {k} \\t time is {now}')\n",
    "        my_grid_result_df(clf,hyperparams,k,algo_name,v,y)\n",
    "        now = datetime.datetime.now()\n",
    "        print(f'======== Done  ======== dataset : {k} \\t time is {now}')\n",
    "        print('\\n')"
   ]
  },
  {
   "cell_type": "code",
   "execution_count": 43,
   "metadata": {},
   "outputs": [
    {
     "data": {
      "text/plain": [
       "0    6099469\n",
       "1    3781419\n",
       "2    2455020\n",
       "3    2026234\n",
       "4    1153323\n",
       "5     712609\n",
       "6     684465\n",
       "7      16809\n",
       "8       7723\n",
       "9       3425\n",
       "Name: Attack, dtype: int64"
      ]
     },
     "execution_count": 43,
     "metadata": {},
     "output_type": "execute_result"
    }
   ],
   "source": [
    "y_multi.value_counts()"
   ]
  },
  {
   "cell_type": "code",
   "execution_count": null,
   "metadata": {},
   "outputs": [],
   "source": []
  },
  {
   "cell_type": "code",
   "execution_count": null,
   "metadata": {},
   "outputs": [],
   "source": [
    "clf = tree.DecisionTreeClassifier()\n",
    "hyperparams = {}\n",
    "create_all_result(clf,'DecisionTreeClassifier',hyperparams,datasets_multi,y_multi)\n",
    "print('======================= LGBMClassifier =====================')\n",
    "clf = LGBMClassifier(random_state=0)\n",
    "create_all_result(clf,'LGBMClassifier',hyperparams,datasets_multi,y_multi)\n",
    "print_skip()"
   ]
  },
  {
   "cell_type": "code",
   "execution_count": null,
   "metadata": {},
   "outputs": [
    {
     "name": "stdout",
     "output_type": "stream",
     "text": [
      "======================= XGBClassifier =====================\n",
      "======== process======= dataset : X_chi2_20 \t time is 2023-03-09 13:22:20.552555\n",
      "======== Done  ======== dataset : X_chi2_20 \t time is 2023-03-09 21:36:09.542398\n",
      "\n",
      "\n",
      "======== process======= dataset : X_chi2_50 \t time is 2023-03-09 21:36:09.542398\n",
      "======== Done  ======== dataset : X_chi2_50 \t time is 2023-03-10 09:30:21.370587\n",
      "\n",
      "\n",
      "======== process======= dataset : X_chi2_80 \t time is 2023-03-10 09:30:21.370587\n",
      "======== Done  ======== dataset : X_chi2_80 \t time is 2023-03-10 23:46:42.017744\n",
      "\n",
      "\n",
      "======== process======= dataset : X_MI_20 \t time is 2023-03-10 23:46:42.017744\n",
      "======== Done  ======== dataset : X_MI_20 \t time is 2023-03-11 05:48:33.950368\n",
      "\n",
      "\n",
      "======== process======= dataset : X_MI_50 \t time is 2023-03-11 05:48:33.950368\n"
     ]
    }
   ],
   "source": [
    "from sklearn.ensemble import AdaBoostClassifier,GradientBoostingClassifier\n",
    "from lightgbm import LGBMClassifier\n",
    "from catboost import  CatBoostClassifier\n",
    "\n",
    "hyperparams = {'n_estimators':[50, 100, 150,200]}\n",
    "\n",
    "\n",
    "\n",
    "\n",
    "print('======================= XGBClassifier =====================')\n",
    "clf = XGBClassifier(random_state=0)\n",
    "create_all_result(clf,'XGBClassifier',hyperparams,datasets_multi,y_multi)\n",
    "print_skip()\n",
    "\n",
    "hyperparams = {'n_estimators':[50, 100, 150,200]}\n",
    "\n",
    "print('======================= GradientBoostingClassifier =====================')\n",
    "clf = GradientBoostingClassifier(random_state=0)\n",
    "create_all_result(clf,'GradientBoostingClassifier',hyperparams,datasets_multi,y_multi)\n",
    "print_skip()\n",
    "\n",
    "print('======================= AdaBoostClassifier =====================')\n",
    "clf =  AdaBoostClassifier(random_state=0)\n",
    "create_all_result(clf,'AdaBoostClassifier',hyperparams,datasets_multi,y_multi)\n",
    "print_skip()\n",
    "\n",
    "\n",
    "print('======================= CatBoostClassifier =====================')\n",
    "clf =  CatBoostClassifier(random_state=0)\n",
    "create_all_result(clf,'CatBoostClassifier',hyperparams,datasets_multi,y_multi)\n"
   ]
  },
  {
   "cell_type": "code",
   "execution_count": null,
   "metadata": {},
   "outputs": [],
   "source": []
  }
 ],
 "metadata": {
  "kernelspec": {
   "display_name": "Python 3 (ipykernel)",
   "language": "python",
   "name": "python3"
  },
  "language_info": {
   "codemirror_mode": {
    "name": "ipython",
    "version": 3
   },
   "file_extension": ".py",
   "mimetype": "text/x-python",
   "name": "python",
   "nbconvert_exporter": "python",
   "pygments_lexer": "ipython3",
   "version": "3.10.9"
  }
 },
 "nbformat": 4,
 "nbformat_minor": 1
}
